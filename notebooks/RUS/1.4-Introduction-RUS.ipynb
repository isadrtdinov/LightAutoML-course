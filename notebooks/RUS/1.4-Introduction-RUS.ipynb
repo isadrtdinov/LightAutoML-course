{
 "cells": [
  {
   "cell_type": "code",
   "execution_count": null,
   "metadata": {
    "id": "sSTEJ8Fdo7ih"
   },
   "outputs": [],
   "source": [
    "!pip install -U lightautoml"
   ]
  },
  {
   "cell_type": "code",
   "execution_count": 2,
   "metadata": {
    "id": "pAkcblUtpAIh"
   },
   "outputs": [],
   "source": [
    "# Standard python libraries\n",
    "import os\n",
    "import time\n",
    "import requests\n",
    "\n",
    "# Essential DS libraries\n",
    "import numpy as np\n",
    "import pandas as pd\n",
    "from sklearn.metrics import roc_auc_score\n",
    "from sklearn.model_selection import train_test_split\n",
    "import torch\n",
    "\n",
    "# LightAutoML presets, task and report generation\n",
    "from lightautoml.automl.presets.tabular_presets import TabularAutoML, TabularUtilizedAutoML\n",
    "from lightautoml.tasks import Task"
   ]
  },
  {
   "cell_type": "code",
   "execution_count": 3,
   "metadata": {
    "id": "r0Qq1IAqpCpE"
   },
   "outputs": [],
   "source": [
    "# set some constants for reproducibility\n",
    "\n",
    "RANDOM_STATE = 42\n",
    "N_THREADS = 4\n",
    "\n",
    "np.random.seed(RANDOM_STATE)\n",
    "torch.set_num_threads(N_THREADS)"
   ]
  },
  {
   "cell_type": "markdown",
   "metadata": {
    "id": "EKBNoNKMpTCy"
   },
   "source": [
    "## 1. Загрузка данных"
   ]
  },
  {
   "cell_type": "code",
   "execution_count": 4,
   "metadata": {
    "id": "DnwEXZXTpCmv"
   },
   "outputs": [],
   "source": [
    "DATASET_DIR = 'data/'\n",
    "DATASET_NAME = 'sampled_app_train.csv'\n",
    "DATASET_FULLNAME = os.path.join(DATASET_DIR, DATASET_NAME)\n",
    "DATASET_URL = 'https://raw.githubusercontent.com/sb-ai-lab/LightAutoML/master/examples/data/sampled_app_train.csv'"
   ]
  },
  {
   "cell_type": "code",
   "execution_count": 5,
   "metadata": {
    "id": "BwIhxFPzpCta"
   },
   "outputs": [],
   "source": [
    "if not os.path.exists(DATASET_FULLNAME):\n",
    "    os.makedirs(DATASET_DIR, exist_ok=True)\n",
    "\n",
    "    dataset = requests.get(DATASET_URL).text\n",
    "    with open(DATASET_FULLNAME, 'w') as output:\n",
    "        output.write(dataset)"
   ]
  },
  {
   "cell_type": "code",
   "execution_count": 6,
   "metadata": {
    "colab": {
     "base_uri": "https://localhost:8080/",
     "height": 299
    },
    "id": "cpytSUUVpYZv",
    "outputId": "547cd665-a044-4f13-bb6c-2ab9d5e128e1"
   },
   "outputs": [
    {
     "data": {
      "text/html": [
       "<div>\n",
       "<style scoped>\n",
       "    .dataframe tbody tr th:only-of-type {\n",
       "        vertical-align: middle;\n",
       "    }\n",
       "\n",
       "    .dataframe tbody tr th {\n",
       "        vertical-align: top;\n",
       "    }\n",
       "\n",
       "    .dataframe thead th {\n",
       "        text-align: right;\n",
       "    }\n",
       "</style>\n",
       "<table border=\"1\" class=\"dataframe\">\n",
       "  <thead>\n",
       "    <tr style=\"text-align: right;\">\n",
       "      <th></th>\n",
       "      <th>SK_ID_CURR</th>\n",
       "      <th>TARGET</th>\n",
       "      <th>NAME_CONTRACT_TYPE</th>\n",
       "      <th>CODE_GENDER</th>\n",
       "      <th>FLAG_OWN_CAR</th>\n",
       "      <th>FLAG_OWN_REALTY</th>\n",
       "      <th>CNT_CHILDREN</th>\n",
       "      <th>AMT_INCOME_TOTAL</th>\n",
       "      <th>AMT_CREDIT</th>\n",
       "      <th>AMT_ANNUITY</th>\n",
       "      <th>...</th>\n",
       "      <th>FLAG_DOCUMENT_18</th>\n",
       "      <th>FLAG_DOCUMENT_19</th>\n",
       "      <th>FLAG_DOCUMENT_20</th>\n",
       "      <th>FLAG_DOCUMENT_21</th>\n",
       "      <th>AMT_REQ_CREDIT_BUREAU_HOUR</th>\n",
       "      <th>AMT_REQ_CREDIT_BUREAU_DAY</th>\n",
       "      <th>AMT_REQ_CREDIT_BUREAU_WEEK</th>\n",
       "      <th>AMT_REQ_CREDIT_BUREAU_MON</th>\n",
       "      <th>AMT_REQ_CREDIT_BUREAU_QRT</th>\n",
       "      <th>AMT_REQ_CREDIT_BUREAU_YEAR</th>\n",
       "    </tr>\n",
       "  </thead>\n",
       "  <tbody>\n",
       "    <tr>\n",
       "      <th>6252</th>\n",
       "      <td>220929</td>\n",
       "      <td>0</td>\n",
       "      <td>Cash loans</td>\n",
       "      <td>M</td>\n",
       "      <td>N</td>\n",
       "      <td>Y</td>\n",
       "      <td>1</td>\n",
       "      <td>181084.5</td>\n",
       "      <td>1350000.0</td>\n",
       "      <td>37125.0</td>\n",
       "      <td>...</td>\n",
       "      <td>0</td>\n",
       "      <td>0</td>\n",
       "      <td>0</td>\n",
       "      <td>0</td>\n",
       "      <td>0.0</td>\n",
       "      <td>0.0</td>\n",
       "      <td>0.0</td>\n",
       "      <td>0.0</td>\n",
       "      <td>0.0</td>\n",
       "      <td>2.0</td>\n",
       "    </tr>\n",
       "    <tr>\n",
       "      <th>4684</th>\n",
       "      <td>200351</td>\n",
       "      <td>0</td>\n",
       "      <td>Cash loans</td>\n",
       "      <td>M</td>\n",
       "      <td>N</td>\n",
       "      <td>Y</td>\n",
       "      <td>1</td>\n",
       "      <td>270000.0</td>\n",
       "      <td>1563840.0</td>\n",
       "      <td>66388.5</td>\n",
       "      <td>...</td>\n",
       "      <td>0</td>\n",
       "      <td>0</td>\n",
       "      <td>0</td>\n",
       "      <td>0</td>\n",
       "      <td>0.0</td>\n",
       "      <td>0.0</td>\n",
       "      <td>0.0</td>\n",
       "      <td>1.0</td>\n",
       "      <td>0.0</td>\n",
       "      <td>1.0</td>\n",
       "    </tr>\n",
       "    <tr>\n",
       "      <th>1731</th>\n",
       "      <td>198362</td>\n",
       "      <td>0</td>\n",
       "      <td>Cash loans</td>\n",
       "      <td>F</td>\n",
       "      <td>N</td>\n",
       "      <td>N</td>\n",
       "      <td>0</td>\n",
       "      <td>157500.0</td>\n",
       "      <td>1303812.0</td>\n",
       "      <td>38119.5</td>\n",
       "      <td>...</td>\n",
       "      <td>0</td>\n",
       "      <td>0</td>\n",
       "      <td>0</td>\n",
       "      <td>0</td>\n",
       "      <td>NaN</td>\n",
       "      <td>NaN</td>\n",
       "      <td>NaN</td>\n",
       "      <td>NaN</td>\n",
       "      <td>NaN</td>\n",
       "      <td>NaN</td>\n",
       "    </tr>\n",
       "    <tr>\n",
       "      <th>4742</th>\n",
       "      <td>391215</td>\n",
       "      <td>0</td>\n",
       "      <td>Cash loans</td>\n",
       "      <td>F</td>\n",
       "      <td>N</td>\n",
       "      <td>Y</td>\n",
       "      <td>0</td>\n",
       "      <td>180000.0</td>\n",
       "      <td>364896.0</td>\n",
       "      <td>17685.0</td>\n",
       "      <td>...</td>\n",
       "      <td>0</td>\n",
       "      <td>0</td>\n",
       "      <td>0</td>\n",
       "      <td>0</td>\n",
       "      <td>0.0</td>\n",
       "      <td>0.0</td>\n",
       "      <td>0.0</td>\n",
       "      <td>0.0</td>\n",
       "      <td>2.0</td>\n",
       "      <td>3.0</td>\n",
       "    </tr>\n",
       "    <tr>\n",
       "      <th>4521</th>\n",
       "      <td>141764</td>\n",
       "      <td>0</td>\n",
       "      <td>Cash loans</td>\n",
       "      <td>M</td>\n",
       "      <td>N</td>\n",
       "      <td>Y</td>\n",
       "      <td>0</td>\n",
       "      <td>202500.0</td>\n",
       "      <td>1293502.5</td>\n",
       "      <td>35698.5</td>\n",
       "      <td>...</td>\n",
       "      <td>0</td>\n",
       "      <td>0</td>\n",
       "      <td>0</td>\n",
       "      <td>0</td>\n",
       "      <td>0.0</td>\n",
       "      <td>0.0</td>\n",
       "      <td>0.0</td>\n",
       "      <td>0.0</td>\n",
       "      <td>1.0</td>\n",
       "      <td>2.0</td>\n",
       "    </tr>\n",
       "  </tbody>\n",
       "</table>\n",
       "<p>5 rows × 122 columns</p>\n",
       "</div>"
      ],
      "text/plain": [
       "      SK_ID_CURR  TARGET NAME_CONTRACT_TYPE CODE_GENDER FLAG_OWN_CAR  \\\n",
       "6252      220929       0         Cash loans           M            N   \n",
       "4684      200351       0         Cash loans           M            N   \n",
       "1731      198362       0         Cash loans           F            N   \n",
       "4742      391215       0         Cash loans           F            N   \n",
       "4521      141764       0         Cash loans           M            N   \n",
       "\n",
       "     FLAG_OWN_REALTY  CNT_CHILDREN  AMT_INCOME_TOTAL  AMT_CREDIT  AMT_ANNUITY  \\\n",
       "6252               Y             1          181084.5   1350000.0      37125.0   \n",
       "4684               Y             1          270000.0   1563840.0      66388.5   \n",
       "1731               N             0          157500.0   1303812.0      38119.5   \n",
       "4742               Y             0          180000.0    364896.0      17685.0   \n",
       "4521               Y             0          202500.0   1293502.5      35698.5   \n",
       "\n",
       "      ...  FLAG_DOCUMENT_18 FLAG_DOCUMENT_19 FLAG_DOCUMENT_20  \\\n",
       "6252  ...                 0                0                0   \n",
       "4684  ...                 0                0                0   \n",
       "1731  ...                 0                0                0   \n",
       "4742  ...                 0                0                0   \n",
       "4521  ...                 0                0                0   \n",
       "\n",
       "     FLAG_DOCUMENT_21 AMT_REQ_CREDIT_BUREAU_HOUR AMT_REQ_CREDIT_BUREAU_DAY  \\\n",
       "6252                0                        0.0                       0.0   \n",
       "4684                0                        0.0                       0.0   \n",
       "1731                0                        NaN                       NaN   \n",
       "4742                0                        0.0                       0.0   \n",
       "4521                0                        0.0                       0.0   \n",
       "\n",
       "      AMT_REQ_CREDIT_BUREAU_WEEK  AMT_REQ_CREDIT_BUREAU_MON  \\\n",
       "6252                         0.0                        0.0   \n",
       "4684                         0.0                        1.0   \n",
       "1731                         NaN                        NaN   \n",
       "4742                         0.0                        0.0   \n",
       "4521                         0.0                        0.0   \n",
       "\n",
       "      AMT_REQ_CREDIT_BUREAU_QRT  AMT_REQ_CREDIT_BUREAU_YEAR  \n",
       "6252                        0.0                         2.0  \n",
       "4684                        0.0                         1.0  \n",
       "1731                        NaN                         NaN  \n",
       "4742                        2.0                         3.0  \n",
       "4521                        1.0                         2.0  \n",
       "\n",
       "[5 rows x 122 columns]"
      ]
     },
     "execution_count": 6,
     "metadata": {},
     "output_type": "execute_result"
    }
   ],
   "source": [
    "TARGET_NAME = 'TARGET'\n",
    "\n",
    "data = pd.read_csv('data/sampled_app_train.csv')\n",
    "data.sample(5)"
   ]
  },
  {
   "cell_type": "markdown",
   "metadata": {
    "id": "ETcY-F95pdnI"
   },
   "source": [
    "Разделим данные на обучение и тест"
   ]
  },
  {
   "cell_type": "code",
   "execution_count": 7,
   "metadata": {
    "colab": {
     "base_uri": "https://localhost:8080/",
     "height": 318
    },
    "id": "l7nKcRCypaue",
    "outputId": "a4667b15-ea56-4c80-d797-cea589121945"
   },
   "outputs": [
    {
     "name": "stdout",
     "output_type": "stream",
     "text": [
      "Data splitted. Parts sizes: tr_data = (8000, 122), te_data = (2000, 122)\n"
     ]
    },
    {
     "data": {
      "text/html": [
       "<div>\n",
       "<style scoped>\n",
       "    .dataframe tbody tr th:only-of-type {\n",
       "        vertical-align: middle;\n",
       "    }\n",
       "\n",
       "    .dataframe tbody tr th {\n",
       "        vertical-align: top;\n",
       "    }\n",
       "\n",
       "    .dataframe thead th {\n",
       "        text-align: right;\n",
       "    }\n",
       "</style>\n",
       "<table border=\"1\" class=\"dataframe\">\n",
       "  <thead>\n",
       "    <tr style=\"text-align: right;\">\n",
       "      <th></th>\n",
       "      <th>SK_ID_CURR</th>\n",
       "      <th>TARGET</th>\n",
       "      <th>NAME_CONTRACT_TYPE</th>\n",
       "      <th>CODE_GENDER</th>\n",
       "      <th>FLAG_OWN_CAR</th>\n",
       "      <th>FLAG_OWN_REALTY</th>\n",
       "      <th>CNT_CHILDREN</th>\n",
       "      <th>AMT_INCOME_TOTAL</th>\n",
       "      <th>AMT_CREDIT</th>\n",
       "      <th>AMT_ANNUITY</th>\n",
       "      <th>...</th>\n",
       "      <th>FLAG_DOCUMENT_18</th>\n",
       "      <th>FLAG_DOCUMENT_19</th>\n",
       "      <th>FLAG_DOCUMENT_20</th>\n",
       "      <th>FLAG_DOCUMENT_21</th>\n",
       "      <th>AMT_REQ_CREDIT_BUREAU_HOUR</th>\n",
       "      <th>AMT_REQ_CREDIT_BUREAU_DAY</th>\n",
       "      <th>AMT_REQ_CREDIT_BUREAU_WEEK</th>\n",
       "      <th>AMT_REQ_CREDIT_BUREAU_MON</th>\n",
       "      <th>AMT_REQ_CREDIT_BUREAU_QRT</th>\n",
       "      <th>AMT_REQ_CREDIT_BUREAU_YEAR</th>\n",
       "    </tr>\n",
       "  </thead>\n",
       "  <tbody>\n",
       "    <tr>\n",
       "      <th>6444</th>\n",
       "      <td>112261</td>\n",
       "      <td>0</td>\n",
       "      <td>Cash loans</td>\n",
       "      <td>F</td>\n",
       "      <td>N</td>\n",
       "      <td>N</td>\n",
       "      <td>1</td>\n",
       "      <td>90000.0</td>\n",
       "      <td>640080.0</td>\n",
       "      <td>31261.5</td>\n",
       "      <td>...</td>\n",
       "      <td>0</td>\n",
       "      <td>0</td>\n",
       "      <td>0</td>\n",
       "      <td>0</td>\n",
       "      <td>0.0</td>\n",
       "      <td>0.0</td>\n",
       "      <td>0.0</td>\n",
       "      <td>0.0</td>\n",
       "      <td>1.0</td>\n",
       "      <td>0.0</td>\n",
       "    </tr>\n",
       "    <tr>\n",
       "      <th>3586</th>\n",
       "      <td>115058</td>\n",
       "      <td>0</td>\n",
       "      <td>Cash loans</td>\n",
       "      <td>F</td>\n",
       "      <td>N</td>\n",
       "      <td>Y</td>\n",
       "      <td>0</td>\n",
       "      <td>180000.0</td>\n",
       "      <td>239850.0</td>\n",
       "      <td>23850.0</td>\n",
       "      <td>...</td>\n",
       "      <td>0</td>\n",
       "      <td>0</td>\n",
       "      <td>0</td>\n",
       "      <td>0</td>\n",
       "      <td>0.0</td>\n",
       "      <td>0.0</td>\n",
       "      <td>0.0</td>\n",
       "      <td>0.0</td>\n",
       "      <td>0.0</td>\n",
       "      <td>3.0</td>\n",
       "    </tr>\n",
       "    <tr>\n",
       "      <th>9349</th>\n",
       "      <td>326623</td>\n",
       "      <td>0</td>\n",
       "      <td>Cash loans</td>\n",
       "      <td>F</td>\n",
       "      <td>N</td>\n",
       "      <td>Y</td>\n",
       "      <td>0</td>\n",
       "      <td>112500.0</td>\n",
       "      <td>337500.0</td>\n",
       "      <td>31086.0</td>\n",
       "      <td>...</td>\n",
       "      <td>0</td>\n",
       "      <td>0</td>\n",
       "      <td>0</td>\n",
       "      <td>0</td>\n",
       "      <td>0.0</td>\n",
       "      <td>0.0</td>\n",
       "      <td>0.0</td>\n",
       "      <td>0.0</td>\n",
       "      <td>0.0</td>\n",
       "      <td>2.0</td>\n",
       "    </tr>\n",
       "    <tr>\n",
       "      <th>7734</th>\n",
       "      <td>191976</td>\n",
       "      <td>0</td>\n",
       "      <td>Cash loans</td>\n",
       "      <td>M</td>\n",
       "      <td>Y</td>\n",
       "      <td>Y</td>\n",
       "      <td>1</td>\n",
       "      <td>67500.0</td>\n",
       "      <td>135000.0</td>\n",
       "      <td>9018.0</td>\n",
       "      <td>...</td>\n",
       "      <td>0</td>\n",
       "      <td>0</td>\n",
       "      <td>0</td>\n",
       "      <td>0</td>\n",
       "      <td>NaN</td>\n",
       "      <td>NaN</td>\n",
       "      <td>NaN</td>\n",
       "      <td>NaN</td>\n",
       "      <td>NaN</td>\n",
       "      <td>NaN</td>\n",
       "    </tr>\n",
       "    <tr>\n",
       "      <th>2174</th>\n",
       "      <td>281519</td>\n",
       "      <td>0</td>\n",
       "      <td>Revolving loans</td>\n",
       "      <td>F</td>\n",
       "      <td>N</td>\n",
       "      <td>Y</td>\n",
       "      <td>0</td>\n",
       "      <td>67500.0</td>\n",
       "      <td>202500.0</td>\n",
       "      <td>10125.0</td>\n",
       "      <td>...</td>\n",
       "      <td>0</td>\n",
       "      <td>0</td>\n",
       "      <td>0</td>\n",
       "      <td>0</td>\n",
       "      <td>0.0</td>\n",
       "      <td>0.0</td>\n",
       "      <td>0.0</td>\n",
       "      <td>0.0</td>\n",
       "      <td>0.0</td>\n",
       "      <td>2.0</td>\n",
       "    </tr>\n",
       "  </tbody>\n",
       "</table>\n",
       "<p>5 rows × 122 columns</p>\n",
       "</div>"
      ],
      "text/plain": [
       "      SK_ID_CURR  TARGET NAME_CONTRACT_TYPE CODE_GENDER FLAG_OWN_CAR  \\\n",
       "6444      112261       0         Cash loans           F            N   \n",
       "3586      115058       0         Cash loans           F            N   \n",
       "9349      326623       0         Cash loans           F            N   \n",
       "7734      191976       0         Cash loans           M            Y   \n",
       "2174      281519       0    Revolving loans           F            N   \n",
       "\n",
       "     FLAG_OWN_REALTY  CNT_CHILDREN  AMT_INCOME_TOTAL  AMT_CREDIT  AMT_ANNUITY  \\\n",
       "6444               N             1           90000.0    640080.0      31261.5   \n",
       "3586               Y             0          180000.0    239850.0      23850.0   \n",
       "9349               Y             0          112500.0    337500.0      31086.0   \n",
       "7734               Y             1           67500.0    135000.0       9018.0   \n",
       "2174               Y             0           67500.0    202500.0      10125.0   \n",
       "\n",
       "      ...  FLAG_DOCUMENT_18 FLAG_DOCUMENT_19 FLAG_DOCUMENT_20  \\\n",
       "6444  ...                 0                0                0   \n",
       "3586  ...                 0                0                0   \n",
       "9349  ...                 0                0                0   \n",
       "7734  ...                 0                0                0   \n",
       "2174  ...                 0                0                0   \n",
       "\n",
       "     FLAG_DOCUMENT_21 AMT_REQ_CREDIT_BUREAU_HOUR AMT_REQ_CREDIT_BUREAU_DAY  \\\n",
       "6444                0                        0.0                       0.0   \n",
       "3586                0                        0.0                       0.0   \n",
       "9349                0                        0.0                       0.0   \n",
       "7734                0                        NaN                       NaN   \n",
       "2174                0                        0.0                       0.0   \n",
       "\n",
       "      AMT_REQ_CREDIT_BUREAU_WEEK  AMT_REQ_CREDIT_BUREAU_MON  \\\n",
       "6444                         0.0                        0.0   \n",
       "3586                         0.0                        0.0   \n",
       "9349                         0.0                        0.0   \n",
       "7734                         NaN                        NaN   \n",
       "2174                         0.0                        0.0   \n",
       "\n",
       "      AMT_REQ_CREDIT_BUREAU_QRT  AMT_REQ_CREDIT_BUREAU_YEAR  \n",
       "6444                        1.0                         0.0  \n",
       "3586                        0.0                         3.0  \n",
       "9349                        0.0                         2.0  \n",
       "7734                        NaN                         NaN  \n",
       "2174                        0.0                         2.0  \n",
       "\n",
       "[5 rows x 122 columns]"
      ]
     },
     "execution_count": 7,
     "metadata": {},
     "output_type": "execute_result"
    }
   ],
   "source": [
    "tr_data, te_data = train_test_split(\n",
    "    data,\n",
    "    test_size=0.2, \n",
    "    stratify=data[TARGET_NAME], \n",
    "    random_state=RANDOM_STATE\n",
    ")\n",
    "\n",
    "print(f'Data splitted. Parts sizes: tr_data = {tr_data.shape}, te_data = {te_data.shape}')\n",
    "\n",
    "tr_data.head()"
   ]
  },
  {
   "cell_type": "markdown",
   "metadata": {
    "id": "Jfmc4-bzuL1G"
   },
   "source": [
    "## 2. Создание и обучение пресета `TabularAutoML`"
   ]
  },
  {
   "cell_type": "code",
   "execution_count": 8,
   "metadata": {
    "id": "MdFTfw7Ipawj"
   },
   "outputs": [],
   "source": [
    "# specify task type\n",
    "#  'binary' - for binary classification.\n",
    "#  'reg' - for regression.\n",
    "#  'multiclass' - for multiclass classification.\n",
    "task = Task(\n",
    "    'binary',  # required\n",
    "    loss='logloss',\n",
    "    metric='auc'\n",
    ")"
   ]
  },
  {
   "cell_type": "code",
   "execution_count": 9,
   "metadata": {
    "id": "nqXqOmcOr4XU"
   },
   "outputs": [],
   "source": [
    "# specify feature roles\n",
    "roles = {\n",
    "    'target': TARGET_NAME,  # required\n",
    "    'drop': ['SK_ID_CURR']  # remove user's id\n",
    "}"
   ]
  },
  {
   "cell_type": "code",
   "execution_count": 10,
   "metadata": {
    "id": "WdVpBSS6trIU"
   },
   "outputs": [],
   "source": [
    "N_FOLDS = 5\n",
    "TIMEOUT = 60 * 30  # 30 minutes"
   ]
  },
  {
   "cell_type": "code",
   "execution_count": 11,
   "metadata": {
    "id": "8yhmt-p7r4ao"
   },
   "outputs": [],
   "source": [
    "automl = TabularAutoML(\n",
    "    task=task,  # required\n",
    "    timeout=TIMEOUT,\n",
    "    cpu_limit=N_THREADS,\n",
    "    reader_params={'n_jobs': N_THREADS, 'cv': N_FOLDS, 'random_state': RANDOM_STATE}\n",
    ")"
   ]
  },
  {
   "cell_type": "code",
   "execution_count": 12,
   "metadata": {
    "colab": {
     "base_uri": "https://localhost:8080/"
    },
    "id": "IWTYTwmzr4dX",
    "outputId": "2329a9e4-9017-494e-df0f-343dd6ec2269",
    "scrolled": false
   },
   "outputs": [
    {
     "name": "stdout",
     "output_type": "stream",
     "text": [
      "[12:46:54] Stdout logging level is INFO.\n",
      "[12:46:54] Copying TaskTimer may affect the parent PipelineTimer, so copy will create new unlimited TaskTimer\n",
      "[12:46:54] Task: binary\n",
      "\n",
      "[12:46:54] Start automl preset with listed constraints:\n",
      "[12:46:54] - time: 1800.00 seconds\n",
      "[12:46:54] - CPU: 4 cores\n",
      "[12:46:54] - memory: 16 GB\n",
      "\n",
      "[12:46:54] \u001b[1mTrain data shape: (8000, 122)\u001b[0m\n",
      "\n",
      "[12:46:57] Layer \u001b[1m1\u001b[0m train process start. Time left 1797.39 secs\n",
      "[12:46:57] Start fitting \u001b[1mLvl_0_Pipe_0_Mod_0_LinearL2\u001b[0m ...\n",
      "[12:47:00] Fitting \u001b[1mLvl_0_Pipe_0_Mod_0_LinearL2\u001b[0m finished. score = \u001b[1m0.7354017993149616\u001b[0m\n",
      "[12:47:00] \u001b[1mLvl_0_Pipe_0_Mod_0_LinearL2\u001b[0m fitting and predicting completed\n",
      "[12:47:00] Time left 1793.66 secs\n",
      "\n",
      "[12:47:03] \u001b[1mSelector_LightGBM\u001b[0m fitting and predicting completed\n",
      "[12:47:04] Start fitting \u001b[1mLvl_0_Pipe_1_Mod_0_LightGBM\u001b[0m ...\n",
      "[12:47:22] Fitting \u001b[1mLvl_0_Pipe_1_Mod_0_LightGBM\u001b[0m finished. score = \u001b[1m0.735377350367659\u001b[0m\n",
      "[12:47:22] \u001b[1mLvl_0_Pipe_1_Mod_0_LightGBM\u001b[0m fitting and predicting completed\n",
      "[12:47:22] Start hyperparameters optimization for \u001b[1mLvl_0_Pipe_1_Mod_1_Tuned_LightGBM\u001b[0m ... Time budget is 298.86 secs\n",
      "[12:51:19] Hyperparameters optimization for \u001b[1mLvl_0_Pipe_1_Mod_1_Tuned_LightGBM\u001b[0m completed\n",
      "[12:51:19] Start fitting \u001b[1mLvl_0_Pipe_1_Mod_1_Tuned_LightGBM\u001b[0m ...\n",
      "[12:51:21] Fitting \u001b[1mLvl_0_Pipe_1_Mod_1_Tuned_LightGBM\u001b[0m finished. score = \u001b[1m0.7353401454478505\u001b[0m\n",
      "[12:51:21] \u001b[1mLvl_0_Pipe_1_Mod_1_Tuned_LightGBM\u001b[0m fitting and predicting completed\n",
      "[12:51:21] Start fitting \u001b[1mLvl_0_Pipe_1_Mod_2_CatBoost\u001b[0m ...\n",
      "[12:51:26] Fitting \u001b[1mLvl_0_Pipe_1_Mod_2_CatBoost\u001b[0m finished. score = \u001b[1m0.7174998549008127\u001b[0m\n",
      "[12:51:26] \u001b[1mLvl_0_Pipe_1_Mod_2_CatBoost\u001b[0m fitting and predicting completed\n",
      "[12:51:26] Start hyperparameters optimization for \u001b[1mLvl_0_Pipe_1_Mod_3_Tuned_CatBoost\u001b[0m ... Time budget is 300.00 secs\n",
      "[12:53:24] Hyperparameters optimization for \u001b[1mLvl_0_Pipe_1_Mod_3_Tuned_CatBoost\u001b[0m completed\n",
      "[12:53:24] Start fitting \u001b[1mLvl_0_Pipe_1_Mod_3_Tuned_CatBoost\u001b[0m ...\n",
      "[12:53:31] Fitting \u001b[1mLvl_0_Pipe_1_Mod_3_Tuned_CatBoost\u001b[0m finished. score = \u001b[1m0.7458127988750932\u001b[0m\n",
      "[12:53:31] \u001b[1mLvl_0_Pipe_1_Mod_3_Tuned_CatBoost\u001b[0m fitting and predicting completed\n",
      "[12:53:31] Time left 1403.10 secs\n",
      "\n",
      "[12:53:31] \u001b[1mLayer 1 training completed.\u001b[0m\n",
      "\n",
      "[12:53:31] Blending: optimization starts with equal weights and score \u001b[1m0.7509666369665106\u001b[0m\n",
      "[12:53:31] Blending: iteration \u001b[1m0\u001b[0m: score = \u001b[1m0.7519775477875935\u001b[0m, weights = \u001b[1m[0.19345643 0.26095653 0.09479326 0.06882784 0.38196602]\u001b[0m\n",
      "[12:53:31] Blending: iteration \u001b[1m1\u001b[0m: score = \u001b[1m0.7520378197576832\u001b[0m, weights = \u001b[1m[0.2519864  0.24664502 0.08711048 0.0632495  0.35100856]\u001b[0m\n",
      "[12:53:31] Blending: iteration \u001b[1m2\u001b[0m: score = \u001b[1m0.7520378197576832\u001b[0m, weights = \u001b[1m[0.2519864  0.24664502 0.08711048 0.0632495  0.35100856]\u001b[0m\n",
      "[12:53:31] Blending: no score update. Terminated\n",
      "\n",
      "[12:53:31] \u001b[1mAutoml preset training completed in 397.27 seconds\u001b[0m\n",
      "\n",
      "[12:53:31] Model description:\n",
      "Final prediction for new objects (level 0) = \n",
      "\t 0.25199 * (5 averaged models Lvl_0_Pipe_0_Mod_0_LinearL2) +\n",
      "\t 0.24665 * (5 averaged models Lvl_0_Pipe_1_Mod_0_LightGBM) +\n",
      "\t 0.08711 * (5 averaged models Lvl_0_Pipe_1_Mod_1_Tuned_LightGBM) +\n",
      "\t 0.06325 * (5 averaged models Lvl_0_Pipe_1_Mod_2_CatBoost) +\n",
      "\t 0.35101 * (5 averaged models Lvl_0_Pipe_1_Mod_3_Tuned_CatBoost) \n",
      "\n",
      "CPU times: user 23min 56s, sys: 50.2 s, total: 24min 47s\n",
      "Wall time: 6min 37s\n"
     ]
    }
   ],
   "source": [
    "%%time\n",
    "oof_preds = automl.fit_predict(tr_data, roles=roles, verbose=1)"
   ]
  },
  {
   "cell_type": "code",
   "execution_count": 13,
   "metadata": {
    "colab": {
     "base_uri": "https://localhost:8080/"
    },
    "id": "wad9LY7I1FeG",
    "outputId": "0b3a4ef5-d60f-4cce-a661-d00196946aaa"
   },
   "outputs": [
    {
     "name": "stdout",
     "output_type": "stream",
     "text": [
      "Final prediction for new objects (level 0) = \n",
      "\t 0.25199 * (5 averaged models Lvl_0_Pipe_0_Mod_0_LinearL2) +\n",
      "\t 0.24665 * (5 averaged models Lvl_0_Pipe_1_Mod_0_LightGBM) +\n",
      "\t 0.08711 * (5 averaged models Lvl_0_Pipe_1_Mod_1_Tuned_LightGBM) +\n",
      "\t 0.06325 * (5 averaged models Lvl_0_Pipe_1_Mod_2_CatBoost) +\n",
      "\t 0.35101 * (5 averaged models Lvl_0_Pipe_1_Mod_3_Tuned_CatBoost) \n"
     ]
    }
   ],
   "source": [
    "print(automl.create_model_str_desc())"
   ]
  },
  {
   "cell_type": "code",
   "execution_count": 14,
   "metadata": {
    "colab": {
     "base_uri": "https://localhost:8080/"
    },
    "id": "wIpO3V62r4f2",
    "outputId": "c459fe6a-4747-4caf-acdf-088874bb5200"
   },
   "outputs": [
    {
     "name": "stdout",
     "output_type": "stream",
     "text": [
      "Prediction for te_data:\n",
      "array([[0.06484319],\n",
      "       [0.07277071],\n",
      "       [0.03308925],\n",
      "       ...,\n",
      "       [0.0629824 ],\n",
      "       [0.04203793],\n",
      "       [0.2079497 ]], dtype=float32)\n",
      "Shape = (2000, 1)\n",
      "CPU times: user 1.74 s, sys: 38.7 ms, total: 1.78 s\n",
      "Wall time: 888 ms\n"
     ]
    }
   ],
   "source": [
    "%%time\n",
    "\n",
    "te_preds = automl.predict(te_data)\n",
    "print(f'Prediction for te_data:\\n{te_preds}\\nShape = {te_preds.shape}')"
   ]
  },
  {
   "cell_type": "markdown",
   "metadata": {
    "id": "3eNyq2AiuHiS"
   },
   "source": [
    "Используем метрику ROC-AUC для оценки качества"
   ]
  },
  {
   "cell_type": "code",
   "execution_count": 15,
   "metadata": {
    "colab": {
     "base_uri": "https://localhost:8080/"
    },
    "id": "MF39uSc6sCMG",
    "outputId": "a980f01a-1166-4739-a51a-670e8574fe35"
   },
   "outputs": [
    {
     "name": "stdout",
     "output_type": "stream",
     "text": [
      "OOF score: 0.75204706783775\n",
      "HOLDOUT score: 0.7344361413043479\n"
     ]
    }
   ],
   "source": [
    "print(f'OOF score: {roc_auc_score(tr_data[TARGET_NAME].values, oof_preds.data[:, 0])}')\n",
    "print(f'HOLDOUT score: {roc_auc_score(te_data[TARGET_NAME].values, te_preds.data[:, 0])}')"
   ]
  },
  {
   "cell_type": "markdown",
   "metadata": {
    "id": "eGBg8DB5xHCq"
   },
   "source": [
    "Пресет `TabularAutoML` обучался 6.5 минут, несмотря на то, что `TIMEOUT` установлен равным 30 минутам. Чтобы использовать отведенное время, воспользуемся пресетом `TabularUtilizedAutoML` вместо `TabularAutoML`."
   ]
  },
  {
   "cell_type": "markdown",
   "metadata": {
    "id": "AEEnHKJ9zoR2"
   },
   "source": [
    "## 3. Создание и обучение `TabularUtilizedAutoML`"
   ]
  },
  {
   "cell_type": "code",
   "execution_count": 16,
   "metadata": {
    "id": "-U-RgYF-sDqR"
   },
   "outputs": [],
   "source": [
    "utilized_automl = TabularUtilizedAutoML(\n",
    "    task=task,\n",
    "    timeout=TIMEOUT,\n",
    "    cpu_limit=N_THREADS,\n",
    "    reader_params={'n_jobs': N_THREADS, 'cv': N_FOLDS, 'random_state': RANDOM_STATE},\n",
    ")"
   ]
  },
  {
   "cell_type": "code",
   "execution_count": 17,
   "metadata": {
    "id": "HKLatdqcyXP4",
    "scrolled": false
   },
   "outputs": [
    {
     "name": "stdout",
     "output_type": "stream",
     "text": [
      "[12:53:33] Start automl \u001b[1mutilizator\u001b[0m with listed constraints:\n",
      "[12:53:33] - time: 1800.00 seconds\n",
      "[12:53:33] - CPU: 4 cores\n",
      "[12:53:33] - memory: 16 GB\n",
      "\n",
      "[12:53:33] \u001b[1mIf one preset completes earlier, next preset configuration will be started\u001b[0m\n",
      "\n",
      "[12:53:33] ==================================================\n",
      "[12:53:33] Start 0 automl preset configuration:\n",
      "[12:53:33] \u001b[1mconf_0_sel_type_0.yml\u001b[0m, random state: {'reader_params': {'random_state': 42}, 'general_params': {'return_all_predictions': False}}\n",
      "[12:53:33] Stdout logging level is INFO.\n",
      "[12:53:33] Task: binary\n",
      "\n",
      "[12:53:33] Start automl preset with listed constraints:\n",
      "[12:53:33] - time: 1800.00 seconds\n",
      "[12:53:33] - CPU: 4 cores\n",
      "[12:53:33] - memory: 16 GB\n",
      "\n",
      "[12:53:33] \u001b[1mTrain data shape: (8000, 122)\u001b[0m\n",
      "\n",
      "[12:53:35] Layer \u001b[1m1\u001b[0m train process start. Time left 1797.48 secs\n",
      "[12:53:36] Start fitting \u001b[1mLvl_0_Pipe_0_Mod_0_LinearL2\u001b[0m ...\n",
      "[12:53:39] Fitting \u001b[1mLvl_0_Pipe_0_Mod_0_LinearL2\u001b[0m finished. score = \u001b[1m0.7354017993149616\u001b[0m\n",
      "[12:53:39] \u001b[1mLvl_0_Pipe_0_Mod_0_LinearL2\u001b[0m fitting and predicting completed\n",
      "[12:53:39] Time left 1793.73 secs\n",
      "\n",
      "[12:53:40] Start fitting \u001b[1mLvl_0_Pipe_1_Mod_0_LightGBM\u001b[0m ...\n",
      "[12:53:54] Fitting \u001b[1mLvl_0_Pipe_1_Mod_0_LightGBM\u001b[0m finished. score = \u001b[1m0.7193220455732628\u001b[0m\n",
      "[12:53:54] \u001b[1mLvl_0_Pipe_1_Mod_0_LightGBM\u001b[0m fitting and predicting completed\n",
      "[12:53:54] Start hyperparameters optimization for \u001b[1mLvl_0_Pipe_1_Mod_1_Tuned_LightGBM\u001b[0m ... Time budget is 300.00 secs\n",
      "[12:58:55] Hyperparameters optimization for \u001b[1mLvl_0_Pipe_1_Mod_1_Tuned_LightGBM\u001b[0m completed\n",
      "[12:58:55] Start fitting \u001b[1mLvl_0_Pipe_1_Mod_1_Tuned_LightGBM\u001b[0m ...\n",
      "[12:58:59] Fitting \u001b[1mLvl_0_Pipe_1_Mod_1_Tuned_LightGBM\u001b[0m finished. score = \u001b[1m0.7278725865434269\u001b[0m\n",
      "[12:58:59] \u001b[1mLvl_0_Pipe_1_Mod_1_Tuned_LightGBM\u001b[0m fitting and predicting completed\n",
      "[12:58:59] Start fitting \u001b[1mLvl_0_Pipe_1_Mod_2_CatBoost\u001b[0m ...\n",
      "[12:59:04] Fitting \u001b[1mLvl_0_Pipe_1_Mod_2_CatBoost\u001b[0m finished. score = \u001b[1m0.7158152161318831\u001b[0m\n",
      "[12:59:04] \u001b[1mLvl_0_Pipe_1_Mod_2_CatBoost\u001b[0m fitting and predicting completed\n",
      "[12:59:04] Start hyperparameters optimization for \u001b[1mLvl_0_Pipe_1_Mod_3_Tuned_CatBoost\u001b[0m ... Time budget is 300.00 secs\n",
      "[13:01:04] Hyperparameters optimization for \u001b[1mLvl_0_Pipe_1_Mod_3_Tuned_CatBoost\u001b[0m completed\n",
      "[13:01:04] Start fitting \u001b[1mLvl_0_Pipe_1_Mod_3_Tuned_CatBoost\u001b[0m ...\n",
      "[13:01:11] Fitting \u001b[1mLvl_0_Pipe_1_Mod_3_Tuned_CatBoost\u001b[0m finished. score = \u001b[1m0.7403045573475571\u001b[0m\n",
      "[13:01:11] \u001b[1mLvl_0_Pipe_1_Mod_3_Tuned_CatBoost\u001b[0m fitting and predicting completed\n",
      "[13:01:11] Time left 1341.15 secs\n",
      "\n",
      "[13:01:11] \u001b[1mLayer 1 training completed.\u001b[0m\n",
      "\n",
      "[13:01:11] Blending: optimization starts with equal weights and score \u001b[1m0.7481579844202804\u001b[0m\n",
      "[13:01:12] Blending: iteration \u001b[1m0\u001b[0m: score = \u001b[1m0.750259530890607\u001b[0m, weights = \u001b[1m[0.30913126 0.14527363 0.1095159  0.07320054 0.36287868]\u001b[0m\n",
      "[13:01:12] Blending: iteration \u001b[1m1\u001b[0m: score = \u001b[1m0.7504023977826718\u001b[0m, weights = \u001b[1m[0.3528767  0.1172727  0.09320266 0.06049639 0.37615153]\u001b[0m\n",
      "[13:01:12] Blending: iteration \u001b[1m2\u001b[0m: score = \u001b[1m0.7504366263088956\u001b[0m, weights = \u001b[1m[0.36441767 0.08537905 0.09625089 0.06247495 0.39147744]\u001b[0m\n",
      "[13:01:12] Blending: iteration \u001b[1m3\u001b[0m: score = \u001b[1m0.7504636264506996\u001b[0m, weights = \u001b[1m[0.3720064  0.08568278 0.09659331 0.05500652 0.390711  ]\u001b[0m\n",
      "[13:01:12] Blending: iteration \u001b[1m4\u001b[0m: score = \u001b[1m0.7504657524461171\u001b[0m, weights = \u001b[1m[0.3719024  0.08569697 0.09660931 0.05501563 0.3907757 ]\u001b[0m\n",
      "[13:01:12] \u001b[1mAutoml preset training completed in 459.45 seconds\u001b[0m\n",
      "\n",
      "[13:01:12] Model description:\n",
      "Final prediction for new objects (level 0) = \n",
      "\t 0.37190 * (5 averaged models Lvl_0_Pipe_0_Mod_0_LinearL2) +\n",
      "\t 0.08570 * (5 averaged models Lvl_0_Pipe_1_Mod_0_LightGBM) +\n",
      "\t 0.09661 * (5 averaged models Lvl_0_Pipe_1_Mod_1_Tuned_LightGBM) +\n",
      "\t 0.05502 * (5 averaged models Lvl_0_Pipe_1_Mod_2_CatBoost) +\n",
      "\t 0.39078 * (5 averaged models Lvl_0_Pipe_1_Mod_3_Tuned_CatBoost) \n",
      "\n",
      "[13:01:12] ==================================================\n",
      "[13:01:12] Start 1 automl preset configuration:\n",
      "[13:01:12] \u001b[1mconf_1_sel_type_1.yml\u001b[0m, random state: {'reader_params': {'random_state': 43}, 'general_params': {'return_all_predictions': False}}\n",
      "[13:01:12] Stdout logging level is INFO.\n",
      "[13:01:12] Task: binary\n",
      "\n",
      "[13:01:12] Start automl preset with listed constraints:\n",
      "[13:01:12] - time: 1340.53 seconds\n",
      "[13:01:12] - CPU: 4 cores\n",
      "[13:01:12] - memory: 16 GB\n",
      "\n",
      "[13:01:12] \u001b[1mTrain data shape: (8000, 122)\u001b[0m\n",
      "\n",
      "[13:01:15] Layer \u001b[1m1\u001b[0m train process start. Time left 1337.96 secs\n",
      "[13:01:15] Start fitting \u001b[1mLvl_0_Pipe_0_Mod_0_LinearL2\u001b[0m ...\n",
      "[13:01:19] Fitting \u001b[1mLvl_0_Pipe_0_Mod_0_LinearL2\u001b[0m finished. score = \u001b[1m0.7336965383904812\u001b[0m\n",
      "[13:01:19] \u001b[1mLvl_0_Pipe_0_Mod_0_LinearL2\u001b[0m fitting and predicting completed\n",
      "[13:01:19] Time left 1333.19 secs\n",
      "\n",
      "[13:01:23] \u001b[1mSelector_LightGBM\u001b[0m fitting and predicting completed\n",
      "[13:01:24] Start fitting \u001b[1mLvl_0_Pipe_1_Mod_0_LightGBM\u001b[0m ...\n",
      "[13:01:38] Fitting \u001b[1mLvl_0_Pipe_1_Mod_0_LightGBM\u001b[0m finished. score = \u001b[1m0.7316721655538143\u001b[0m\n",
      "[13:01:38] \u001b[1mLvl_0_Pipe_1_Mod_0_LightGBM\u001b[0m fitting and predicting completed\n",
      "[13:01:38] Start hyperparameters optimization for \u001b[1mLvl_0_Pipe_1_Mod_1_Tuned_LightGBM\u001b[0m ... Time budget is 241.19 secs\n",
      "[13:05:40] Hyperparameters optimization for \u001b[1mLvl_0_Pipe_1_Mod_1_Tuned_LightGBM\u001b[0m completed\n",
      "[13:05:40] Start fitting \u001b[1mLvl_0_Pipe_1_Mod_1_Tuned_LightGBM\u001b[0m ...\n",
      "[13:05:44] Fitting \u001b[1mLvl_0_Pipe_1_Mod_1_Tuned_LightGBM\u001b[0m finished. score = \u001b[1m0.7334671434849189\u001b[0m\n",
      "[13:05:44] \u001b[1mLvl_0_Pipe_1_Mod_1_Tuned_LightGBM\u001b[0m fitting and predicting completed\n",
      "[13:05:44] Start fitting \u001b[1mLvl_0_Pipe_1_Mod_2_CatBoost\u001b[0m ...\n",
      "[13:05:49] Fitting \u001b[1mLvl_0_Pipe_1_Mod_2_CatBoost\u001b[0m finished. score = \u001b[1m0.7108554814220952\u001b[0m\n",
      "[13:05:49] \u001b[1mLvl_0_Pipe_1_Mod_2_CatBoost\u001b[0m fitting and predicting completed\n",
      "[13:05:49] Start hyperparameters optimization for \u001b[1mLvl_0_Pipe_1_Mod_3_Tuned_CatBoost\u001b[0m ... Time budget is 300.00 secs\n",
      "[13:08:17] Hyperparameters optimization for \u001b[1mLvl_0_Pipe_1_Mod_3_Tuned_CatBoost\u001b[0m completed\n",
      "[13:08:17] Start fitting \u001b[1mLvl_0_Pipe_1_Mod_3_Tuned_CatBoost\u001b[0m ...\n",
      "[13:08:26] Fitting \u001b[1mLvl_0_Pipe_1_Mod_3_Tuned_CatBoost\u001b[0m finished. score = \u001b[1m0.7420667949492302\u001b[0m\n",
      "[13:08:26] \u001b[1mLvl_0_Pipe_1_Mod_3_Tuned_CatBoost\u001b[0m fitting and predicting completed\n",
      "[13:08:26] Time left 906.43 secs\n",
      "\n",
      "[13:08:26] \u001b[1mLayer 1 training completed.\u001b[0m\n",
      "\n",
      "[13:08:26] Blending: optimization starts with equal weights and score \u001b[1m0.7483542137973275\u001b[0m\n",
      "[13:08:26] Blending: iteration \u001b[1m0\u001b[0m: score = \u001b[1m0.7502629324832754\u001b[0m, weights = \u001b[1m[0.25153086 0.23463246 0.22901487 0.         0.28482178]\u001b[0m\n",
      "[13:08:26] Blending: iteration \u001b[1m1\u001b[0m: score = \u001b[1m0.7504334373157692\u001b[0m, weights = \u001b[1m[0.2836549  0.2031968  0.19578499 0.         0.31736335]\u001b[0m\n",
      "[13:08:27] Blending: iteration \u001b[1m2\u001b[0m: score = \u001b[1m0.7504965793796727\u001b[0m, weights = \u001b[1m[0.2839676  0.20167938 0.15631568 0.         0.35803735]\u001b[0m\n",
      "[13:08:27] Blending: iteration \u001b[1m3\u001b[0m: score = \u001b[1m0.7504965793796727\u001b[0m, weights = \u001b[1m[0.2839676  0.20167938 0.15631568 0.         0.35803735]\u001b[0m\n",
      "[13:08:27] Blending: no score update. Terminated\n",
      "\n",
      "[13:08:27] \u001b[1mAutoml preset training completed in 434.58 seconds\u001b[0m\n",
      "\n",
      "[13:08:27] Model description:\n",
      "Final prediction for new objects (level 0) = \n",
      "\t 0.28397 * (5 averaged models Lvl_0_Pipe_0_Mod_0_LinearL2) +\n",
      "\t 0.20168 * (5 averaged models Lvl_0_Pipe_1_Mod_0_LightGBM) +\n",
      "\t 0.15632 * (5 averaged models Lvl_0_Pipe_1_Mod_1_Tuned_LightGBM) +\n",
      "\t 0.35804 * (5 averaged models Lvl_0_Pipe_1_Mod_3_Tuned_CatBoost) \n",
      "\n",
      "[13:08:27] ==================================================\n",
      "[13:08:27] Start 2 automl preset configuration:\n",
      "[13:08:27] \u001b[1mconf_2_select_mode_1_no_typ.yml\u001b[0m, random state: {'reader_params': {'random_state': 44}, 'general_params': {'return_all_predictions': False}}\n",
      "[13:08:27] Stdout logging level is INFO.\n",
      "[13:08:27] Task: binary\n",
      "\n",
      "[13:08:27] Start automl preset with listed constraints:\n",
      "[13:08:27] - time: 905.93 seconds\n",
      "[13:08:27] - CPU: 4 cores\n",
      "[13:08:27] - memory: 16 GB\n",
      "\n",
      "[13:08:27] \u001b[1mTrain data shape: (8000, 122)\u001b[0m\n",
      "\n",
      "[13:08:27] Layer \u001b[1m1\u001b[0m train process start. Time left 905.78 secs\n"
     ]
    },
    {
     "name": "stdout",
     "output_type": "stream",
     "text": [
      "[13:08:27] Start fitting \u001b[1mLvl_0_Pipe_0_Mod_0_LinearL2\u001b[0m ...\n",
      "[13:08:31] Fitting \u001b[1mLvl_0_Pipe_0_Mod_0_LinearL2\u001b[0m finished. score = \u001b[1m0.7370124534433578\u001b[0m\n",
      "[13:08:31] \u001b[1mLvl_0_Pipe_0_Mod_0_LinearL2\u001b[0m fitting and predicting completed\n",
      "[13:08:31] Time left 902.05 secs\n",
      "\n",
      "[13:08:34] \u001b[1mSelector_LightGBM\u001b[0m fitting and predicting completed\n",
      "[13:08:35] Start fitting \u001b[1mLvl_0_Pipe_1_Mod_0_LightGBM\u001b[0m ...\n",
      "[13:08:49] Fitting \u001b[1mLvl_0_Pipe_1_Mod_0_LightGBM\u001b[0m finished. score = \u001b[1m0.7396506011570942\u001b[0m\n",
      "[13:08:49] \u001b[1mLvl_0_Pipe_1_Mod_0_LightGBM\u001b[0m fitting and predicting completed\n",
      "[13:08:49] Start hyperparameters optimization for \u001b[1mLvl_0_Pipe_1_Mod_1_Tuned_LightGBM\u001b[0m ... Time budget is 118.38 secs\n",
      "[13:10:51] Hyperparameters optimization for \u001b[1mLvl_0_Pipe_1_Mod_1_Tuned_LightGBM\u001b[0m completed\n",
      "[13:10:51] Start fitting \u001b[1mLvl_0_Pipe_1_Mod_1_Tuned_LightGBM\u001b[0m ...\n",
      "[13:10:53] Fitting \u001b[1mLvl_0_Pipe_1_Mod_1_Tuned_LightGBM\u001b[0m finished. score = \u001b[1m0.7484952735932873\u001b[0m\n",
      "[13:10:53] \u001b[1mLvl_0_Pipe_1_Mod_1_Tuned_LightGBM\u001b[0m fitting and predicting completed\n",
      "[13:10:53] Start fitting \u001b[1mLvl_0_Pipe_1_Mod_2_CatBoost\u001b[0m ...\n",
      "[13:10:58] Fitting \u001b[1mLvl_0_Pipe_1_Mod_2_CatBoost\u001b[0m finished. score = \u001b[1m0.7208621166537937\u001b[0m\n",
      "[13:10:58] \u001b[1mLvl_0_Pipe_1_Mod_2_CatBoost\u001b[0m fitting and predicting completed\n",
      "[13:10:58] Start hyperparameters optimization for \u001b[1mLvl_0_Pipe_1_Mod_3_Tuned_CatBoost\u001b[0m ... Time budget is 300.00 secs\n",
      "[13:13:08] Hyperparameters optimization for \u001b[1mLvl_0_Pipe_1_Mod_3_Tuned_CatBoost\u001b[0m completed\n",
      "[13:13:08] Start fitting \u001b[1mLvl_0_Pipe_1_Mod_3_Tuned_CatBoost\u001b[0m ...\n",
      "[13:13:14] Fitting \u001b[1mLvl_0_Pipe_1_Mod_3_Tuned_CatBoost\u001b[0m finished. score = \u001b[1m0.7435819918833748\u001b[0m\n",
      "[13:13:14] \u001b[1mLvl_0_Pipe_1_Mod_3_Tuned_CatBoost\u001b[0m fitting and predicting completed\n",
      "[13:13:14] Time left 618.65 secs\n",
      "\n",
      "[13:13:14] \u001b[1mLayer 1 training completed.\u001b[0m\n",
      "\n",
      "[13:13:14] Blending: optimization starts with equal weights and score \u001b[1m0.7571254330918414\u001b[0m\n",
      "[13:13:14] Blending: iteration \u001b[1m0\u001b[0m: score = \u001b[1m0.7581354935147572\u001b[0m, weights = \u001b[1m[0.22266644 0.2686354  0.29584187 0.         0.2128563 ]\u001b[0m\n",
      "[13:13:14] Blending: iteration \u001b[1m1\u001b[0m: score = \u001b[1m0.7582898407820771\u001b[0m, weights = \u001b[1m[0.2778004  0.2641158  0.24880861 0.         0.20927516]\u001b[0m\n",
      "[13:13:14] Blending: iteration \u001b[1m2\u001b[0m: score = \u001b[1m0.7582957935692465\u001b[0m, weights = \u001b[1m[0.27062172 0.2668167  0.25135297 0.         0.21120852]\u001b[0m\n",
      "[13:13:14] Blending: iteration \u001b[1m3\u001b[0m: score = \u001b[1m0.7582945179719959\u001b[0m, weights = \u001b[1m[0.27062172 0.2668167  0.25135297 0.         0.21120852]\u001b[0m\n",
      "[13:13:14] Blending: no score update. Terminated\n",
      "\n",
      "[13:13:14] \u001b[1mAutoml preset training completed in 287.77 seconds\u001b[0m\n",
      "\n",
      "[13:13:14] Model description:\n",
      "Final prediction for new objects (level 0) = \n",
      "\t 0.27062 * (5 averaged models Lvl_0_Pipe_0_Mod_0_LinearL2) +\n",
      "\t 0.26682 * (5 averaged models Lvl_0_Pipe_1_Mod_0_LightGBM) +\n",
      "\t 0.25135 * (5 averaged models Lvl_0_Pipe_1_Mod_1_Tuned_LightGBM) +\n",
      "\t 0.21121 * (5 averaged models Lvl_0_Pipe_1_Mod_3_Tuned_CatBoost) \n",
      "\n",
      "[13:13:14] ==================================================\n",
      "[13:13:14] Start 3 automl preset configuration:\n",
      "[13:13:14] \u001b[1mconf_3_sel_type_1_no_inter_lgbm.yml\u001b[0m, random state: {'reader_params': {'random_state': 45}, 'general_params': {'return_all_predictions': False}}\n",
      "[13:13:14] Stdout logging level is INFO.\n",
      "[13:13:14] Task: binary\n",
      "\n",
      "[13:13:14] Start automl preset with listed constraints:\n",
      "[13:13:14] - time: 618.14 seconds\n",
      "[13:13:14] - CPU: 4 cores\n",
      "[13:13:14] - memory: 16 GB\n",
      "\n",
      "[13:13:14] \u001b[1mTrain data shape: (8000, 122)\u001b[0m\n",
      "\n",
      "[13:13:17] Layer \u001b[1m1\u001b[0m train process start. Time left 615.51 secs\n",
      "[13:13:18] Start fitting \u001b[1mLvl_0_Pipe_0_Mod_0_LinearL2\u001b[0m ...\n",
      "[13:13:21] Fitting \u001b[1mLvl_0_Pipe_0_Mod_0_LinearL2\u001b[0m finished. score = \u001b[1m0.727919145843073\u001b[0m\n",
      "[13:13:21] \u001b[1mLvl_0_Pipe_0_Mod_0_LinearL2\u001b[0m fitting and predicting completed\n",
      "[13:13:21] Time left 611.50 secs\n",
      "\n",
      "[13:13:24] \u001b[1mSelector_LightGBM\u001b[0m fitting and predicting completed\n",
      "[13:13:24] Start fitting \u001b[1mLvl_0_Pipe_1_Mod_0_LightGBM\u001b[0m ...\n",
      "[13:13:34] Fitting \u001b[1mLvl_0_Pipe_1_Mod_0_LightGBM\u001b[0m finished. score = \u001b[1m0.7043286754899728\u001b[0m\n",
      "[13:13:34] \u001b[1mLvl_0_Pipe_1_Mod_0_LightGBM\u001b[0m fitting and predicting completed\n",
      "[13:13:34] Start hyperparameters optimization for \u001b[1mLvl_0_Pipe_1_Mod_1_Tuned_LightGBM\u001b[0m ... Time budget is 85.32 secs\n",
      "[13:15:01] Hyperparameters optimization for \u001b[1mLvl_0_Pipe_1_Mod_1_Tuned_LightGBM\u001b[0m completed\n",
      "[13:15:01] Start fitting \u001b[1mLvl_0_Pipe_1_Mod_1_Tuned_LightGBM\u001b[0m ...\n",
      "[13:15:04] Fitting \u001b[1mLvl_0_Pipe_1_Mod_1_Tuned_LightGBM\u001b[0m finished. score = \u001b[1m0.730046629457495\u001b[0m\n",
      "[13:15:04] \u001b[1mLvl_0_Pipe_1_Mod_1_Tuned_LightGBM\u001b[0m fitting and predicting completed\n",
      "[13:15:04] Start fitting \u001b[1mLvl_0_Pipe_1_Mod_2_CatBoost\u001b[0m ...\n",
      "[13:15:07] Fitting \u001b[1mLvl_0_Pipe_1_Mod_2_CatBoost\u001b[0m finished. score = \u001b[1m0.7088926561527689\u001b[0m\n",
      "[13:15:07] \u001b[1mLvl_0_Pipe_1_Mod_2_CatBoost\u001b[0m fitting and predicting completed\n",
      "[13:15:07] Start hyperparameters optimization for \u001b[1mLvl_0_Pipe_1_Mod_3_Tuned_CatBoost\u001b[0m ... Time budget is 300.00 secs\n",
      "[13:17:31] Hyperparameters optimization for \u001b[1mLvl_0_Pipe_1_Mod_3_Tuned_CatBoost\u001b[0m completed\n",
      "[13:17:31] Start fitting \u001b[1mLvl_0_Pipe_1_Mod_3_Tuned_CatBoost\u001b[0m ...\n",
      "[13:17:38] Fitting \u001b[1mLvl_0_Pipe_1_Mod_3_Tuned_CatBoost\u001b[0m finished. score = \u001b[1m0.739570025930766\u001b[0m\n",
      "[13:17:38] \u001b[1mLvl_0_Pipe_1_Mod_3_Tuned_CatBoost\u001b[0m fitting and predicting completed\n",
      "[13:17:38] Time left 354.85 secs\n",
      "\n",
      "[13:17:38] \u001b[1mLayer 1 training completed.\u001b[0m\n",
      "\n",
      "[13:17:38] Blending: optimization starts with equal weights and score \u001b[1m0.740562015392632\u001b[0m\n",
      "[13:17:38] Blending: iteration \u001b[1m0\u001b[0m: score = \u001b[1m0.7447410845850664\u001b[0m, weights = \u001b[1m[0.25827953 0.         0.25215083 0.         0.48956963]\u001b[0m\n",
      "[13:17:38] Blending: iteration \u001b[1m1\u001b[0m: score = \u001b[1m0.7447576673493238\u001b[0m, weights = \u001b[1m[0.25209615 0.         0.25966406 0.         0.48823985]\u001b[0m\n",
      "[13:17:38] Blending: iteration \u001b[1m2\u001b[0m: score = \u001b[1m0.7447552224545935\u001b[0m, weights = \u001b[1m[0.2497256  0.         0.2666256  0.         0.48364878]\u001b[0m\n",
      "[13:17:38] Blending: iteration \u001b[1m3\u001b[0m: score = \u001b[1m0.7447512893630709\u001b[0m, weights = \u001b[1m[0.25471765 0.         0.26485157 0.         0.48043075]\u001b[0m\n",
      "[13:17:38] Blending: iteration \u001b[1m4\u001b[0m: score = \u001b[1m0.7447512893630709\u001b[0m, weights = \u001b[1m[0.25471765 0.         0.26485157 0.         0.48043075]\u001b[0m\n",
      "[13:17:38] Blending: no score update. Terminated\n",
      "\n",
      "[13:17:38] \u001b[1mAutoml preset training completed in 263.89 seconds\u001b[0m\n",
      "\n",
      "[13:17:38] Model description:\n",
      "Final prediction for new objects (level 0) = \n",
      "\t 0.25472 * (5 averaged models Lvl_0_Pipe_0_Mod_0_LinearL2) +\n",
      "\t 0.26485 * (5 averaged models Lvl_0_Pipe_1_Mod_1_Tuned_LightGBM) +\n",
      "\t 0.48043 * (5 averaged models Lvl_0_Pipe_1_Mod_3_Tuned_CatBoost) \n",
      "\n",
      "[13:17:38] ==================================================\n",
      "[13:17:38] Blending: optimization starts with equal weights and score \u001b[1m0.7560373486370988\u001b[0m\n",
      "[13:17:38] Blending: iteration \u001b[1m0\u001b[0m: score = \u001b[1m0.7589982224552312\u001b[0m, weights = \u001b[1m[0.0918982  0.06940706 0.83869475 0.        ]\u001b[0m\n",
      "[13:17:39] Blending: iteration \u001b[1m1\u001b[0m: score = \u001b[1m0.7592760900563156\u001b[0m, weights = \u001b[1m[0.17520766 0.1301692  0.6946231  0.        ]\u001b[0m\n",
      "[13:17:39] Blending: iteration \u001b[1m2\u001b[0m: score = \u001b[1m0.7592782160517331\u001b[0m, weights = \u001b[1m[0.17569655 0.13009204 0.6942114  0.        ]\u001b[0m\n",
      "[13:17:39] Blending: iteration \u001b[1m3\u001b[0m: score = \u001b[1m0.7592782160517331\u001b[0m, weights = \u001b[1m[0.17569655 0.13009204 0.6942114  0.        ]\u001b[0m\n",
      "[13:17:39] Blending: no score update. Terminated\n",
      "\n",
      "CPU times: user 1h 25min 52s, sys: 3min 44s, total: 1h 29min 37s\n",
      "Wall time: 24min 6s\n"
     ]
    }
   ],
   "source": [
    "%%time \n",
    "oof_pred = utilized_automl.fit_predict(tr_data, roles=roles, verbose=1)"
   ]
  },
  {
   "cell_type": "code",
   "execution_count": 18,
   "metadata": {
    "colab": {
     "base_uri": "https://localhost:8080/"
    },
    "id": "DBnB4u7Gz4xU",
    "outputId": "454e88ff-9d07-449c-8601-34ab77533003"
   },
   "outputs": [
    {
     "name": "stdout",
     "output_type": "stream",
     "text": [
      "Final prediction for new objects = \n",
      "\t0.17570 * 1 averaged models with config = \"conf_0_sel_type_0.yml\" and different CV random_states. Their structures: \n",
      "\n",
      "\t    Model #0.\n",
      "\t\t================================================================================\n",
      "\t\tFinal prediction for new objects (level 0) = \n",
      "\t\t\t 0.37190 * (5 averaged models Lvl_0_Pipe_0_Mod_0_LinearL2) +\n",
      "\t\t\t 0.08570 * (5 averaged models Lvl_0_Pipe_1_Mod_0_LightGBM) +\n",
      "\t\t\t 0.09661 * (5 averaged models Lvl_0_Pipe_1_Mod_1_Tuned_LightGBM) +\n",
      "\t\t\t 0.05502 * (5 averaged models Lvl_0_Pipe_1_Mod_2_CatBoost) +\n",
      "\t\t\t 0.39078 * (5 averaged models Lvl_0_Pipe_1_Mod_3_Tuned_CatBoost) \n",
      "\t\t================================================================================\n",
      "\n",
      "\n",
      "\t+ 0.13009 * 1 averaged models with config = \"conf_1_sel_type_1.yml\" and different CV random_states. Their structures: \n",
      "\n",
      "\t    Model #0.\n",
      "\t\t================================================================================\n",
      "\t\tFinal prediction for new objects (level 0) = \n",
      "\t\t\t 0.28397 * (5 averaged models Lvl_0_Pipe_0_Mod_0_LinearL2) +\n",
      "\t\t\t 0.20168 * (5 averaged models Lvl_0_Pipe_1_Mod_0_LightGBM) +\n",
      "\t\t\t 0.15632 * (5 averaged models Lvl_0_Pipe_1_Mod_1_Tuned_LightGBM) +\n",
      "\t\t\t 0.35804 * (5 averaged models Lvl_0_Pipe_1_Mod_3_Tuned_CatBoost) \n",
      "\t\t================================================================================\n",
      "\n",
      "\n",
      "\t+ 0.69421 * 1 averaged models with config = \"conf_2_select_mode_1_no_typ.yml\" and different CV random_states. Their structures: \n",
      "\n",
      "\t    Model #0.\n",
      "\t\t================================================================================\n",
      "\t\tFinal prediction for new objects (level 0) = \n",
      "\t\t\t 0.27062 * (5 averaged models Lvl_0_Pipe_0_Mod_0_LinearL2) +\n",
      "\t\t\t 0.26682 * (5 averaged models Lvl_0_Pipe_1_Mod_0_LightGBM) +\n",
      "\t\t\t 0.25135 * (5 averaged models Lvl_0_Pipe_1_Mod_1_Tuned_LightGBM) +\n",
      "\t\t\t 0.21121 * (5 averaged models Lvl_0_Pipe_1_Mod_3_Tuned_CatBoost) \n",
      "\t\t================================================================================\n",
      "\n",
      "\n",
      "\n"
     ]
    }
   ],
   "source": [
    "print(utilized_automl.create_model_str_desc())"
   ]
  },
  {
   "cell_type": "code",
   "execution_count": 19,
   "metadata": {
    "colab": {
     "base_uri": "https://localhost:8080/"
    },
    "id": "onaRpOVZycAx",
    "outputId": "e1e218c7-ef2d-4ab4-8071-2e745cd40650"
   },
   "outputs": [
    {
     "name": "stdout",
     "output_type": "stream",
     "text": [
      "Prediction for te_data:\n",
      "array([[0.06552619],\n",
      "       [0.09151144],\n",
      "       [0.03593913],\n",
      "       ...,\n",
      "       [0.05892349],\n",
      "       [0.04312227],\n",
      "       [0.23252055]], dtype=float32)\n",
      "Shape = (2000, 1)\n",
      "CPU times: user 4.08 s, sys: 22.5 ms, total: 4.1 s\n",
      "Wall time: 2.03 s\n"
     ]
    }
   ],
   "source": [
    "%%time\n",
    "\n",
    "te_pred = utilized_automl.predict(te_data)\n",
    "print(f'Prediction for te_data:\\n{te_pred}\\nShape = {te_pred.shape}')"
   ]
  },
  {
   "cell_type": "code",
   "execution_count": 20,
   "metadata": {
    "colab": {
     "base_uri": "https://localhost:8080/"
    },
    "id": "jnkYlTm2yms6",
    "outputId": "53e5e482-84cb-4706-9a69-643b3ad58d9d"
   },
   "outputs": [
    {
     "name": "stdout",
     "output_type": "stream",
     "text": [
      "OOF score: 0.7592782160517331\n",
      "HOLDOUT score: 0.7355638586956523\n"
     ]
    }
   ],
   "source": [
    "print(f'OOF score: {roc_auc_score(tr_data[TARGET_NAME].values, oof_pred.data[:, 0])}')\n",
    "print(f'HOLDOUT score: {roc_auc_score(te_data[TARGET_NAME].values, te_pred.data[:, 0])}')"
   ]
  },
  {
   "cell_type": "markdown",
   "metadata": {
    "id": "zxlgmGkc1A-a"
   },
   "source": [
    "Метрика ROC-AUC немного подросла"
   ]
  },
  {
   "cell_type": "code",
   "execution_count": null,
   "metadata": {
    "id": "U0EdNi-bd1ny"
   },
   "outputs": [],
   "source": []
  }
 ],
 "metadata": {
  "kernelspec": {
   "display_name": "Python 3 (ipykernel)",
   "language": "python",
   "name": "python3"
  },
  "language_info": {
   "codemirror_mode": {
    "name": "ipython",
    "version": 3
   },
   "file_extension": ".py",
   "mimetype": "text/x-python",
   "name": "python",
   "nbconvert_exporter": "python",
   "pygments_lexer": "ipython3",
   "version": "3.10.4"
  }
 },
 "nbformat": 4,
 "nbformat_minor": 1
}
