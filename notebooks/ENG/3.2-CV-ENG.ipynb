{
 "cells": [
  {
   "cell_type": "code",
   "execution_count": null,
   "metadata": {
    "colab": {
     "base_uri": "https://localhost:8080/",
     "height": 1000
    },
    "id": "pGBORq0utbGH",
    "outputId": "de705cc7-9a08-4375-e33d-52809dc12473"
   },
   "outputs": [],
   "source": [
    "##Kaggle functionality for loading data; Note that you have to use your kaggle API token (see the link above):\n",
    "# !pip install opendatasets\n",
    "# !pip install -q kaggle\n",
    "# !pip install --upgrade --force-reinstall --no-deps kaggle\n",
    "# !mkdir ~/.kaggle\n",
    "# !ls ~/.kaggle\n",
    "# !cp kaggle.json ~/.kaggle/\n",
    "# !chmod 600 ~/.kaggle/kaggle.json\n",
    "# !kaggle competitions download -c paddy-disease-classification\n",
    "\n",
    "# #Unpack data:\n",
    "# !mkdir paddy-disease\n",
    "# !unzip paddy-disease-classification.zip -d paddy-disease\n",
    "\n",
    "# #Install LightAutoML, Pandas and torch EfficientNet:\n",
    "# !pip install -U lightautoml[cv] #[cv] is for installing CV tasks functionality\n",
    "# !pip install efficientnet-pytorch==0.7.0\n",
    "# !pip install -U pandas"
   ]
  },
  {
   "cell_type": "code",
   "execution_count": 2,
   "metadata": {
    "execution": {
     "iopub.execute_input": "2022-11-30T00:11:45.599103Z",
     "iopub.status.busy": "2022-11-30T00:11:45.598808Z",
     "iopub.status.idle": "2022-11-30T00:11:50.018042Z",
     "shell.execute_reply": "2022-11-30T00:11:50.016163Z",
     "shell.execute_reply.started": "2022-11-30T00:11:45.599071Z"
    },
    "id": "yYYBCVuPtbGI",
    "papermill": {
     "duration": 8.32949,
     "end_time": "2021-06-22T20:11:01.487788",
     "exception": false,
     "start_time": "2021-06-22T20:10:53.158298",
     "status": "completed"
    },
    "tags": []
   },
   "outputs": [
    {
     "data": {
      "text/html": [
       "<style type='text/css'>\n",
       ".datatable table.frame { margin-bottom: 0; }\n",
       ".datatable table.frame thead { border-bottom: none; }\n",
       ".datatable table.frame tr.coltypes td {  color: #FFFFFF;  line-height: 6px;  padding: 0 0.5em;}\n",
       ".datatable .bool    { background: #DDDD99; }\n",
       ".datatable .object  { background: #565656; }\n",
       ".datatable .int     { background: #5D9E5D; }\n",
       ".datatable .float   { background: #4040CC; }\n",
       ".datatable .str     { background: #CC4040; }\n",
       ".datatable .time    { background: #40CC40; }\n",
       ".datatable .row_index {  background: var(--jp-border-color3);  border-right: 1px solid var(--jp-border-color0);  color: var(--jp-ui-font-color3);  font-size: 9px;}\n",
       ".datatable .frame tbody td { text-align: left; }\n",
       ".datatable .frame tr.coltypes .row_index {  background: var(--jp-border-color0);}\n",
       ".datatable th:nth-child(2) { padding-left: 12px; }\n",
       ".datatable .hellipsis {  color: var(--jp-cell-editor-border-color);}\n",
       ".datatable .vellipsis {  background: var(--jp-layout-color0);  color: var(--jp-cell-editor-border-color);}\n",
       ".datatable .na {  color: var(--jp-cell-editor-border-color);  font-size: 80%;}\n",
       ".datatable .sp {  opacity: 0.25;}\n",
       ".datatable .footer { font-size: 9px; }\n",
       ".datatable .frame_dimensions {  background: var(--jp-border-color3);  border-top: 1px solid var(--jp-border-color0);  color: var(--jp-ui-font-color3);  display: inline-block;  opacity: 0.6;  padding: 1px 10px 1px 5px;}\n",
       "</style>\n"
      ],
      "text/plain": [
       "<IPython.core.display.HTML object>"
      ]
     },
     "metadata": {},
     "output_type": "display_data"
    }
   ],
   "source": [
    "# Standard python libraries\n",
    "import os\n",
    "import time\n",
    "\n",
    "# Essential DS libraries\n",
    "import numpy as np\n",
    "import pandas as pd\n",
    "from sklearn.metrics import f1_score, accuracy_score, confusion_matrix\n",
    "from sklearn.model_selection import train_test_split\n",
    "import torch\n",
    "import seaborn as sns\n",
    "import matplotlib.pyplot as plt\n",
    "\n",
    "# LightAutoML presets, task and report generation\n",
    "from lightautoml.automl.presets.image_presets import TabularCVAutoML\n",
    "from lightautoml.tasks import Task"
   ]
  },
  {
   "cell_type": "code",
   "execution_count": 8,
   "metadata": {
    "execution": {
     "iopub.execute_input": "2022-07-05T14:51:52.670042Z",
     "iopub.status.busy": "2022-07-05T14:51:52.669639Z",
     "iopub.status.idle": "2022-07-05T14:51:52.694336Z",
     "shell.execute_reply": "2022-07-05T14:51:52.693519Z",
     "shell.execute_reply.started": "2022-07-05T14:51:52.670013Z"
    },
    "id": "A2lN_r1_tbGK",
    "papermill": {
     "duration": 0.087268,
     "end_time": "2021-06-22T20:11:02.092497",
     "exception": false,
     "start_time": "2021-06-22T20:11:02.005229",
     "status": "completed"
    },
    "tags": []
   },
   "outputs": [],
   "source": [
    "np.random.seed(42)\n",
    "torch.set_num_threads(2)"
   ]
  },
  {
   "cell_type": "code",
   "execution_count": 3,
   "metadata": {
    "execution": {
     "iopub.execute_input": "2022-11-30T00:12:00.911615Z",
     "iopub.status.busy": "2022-11-30T00:12:00.911306Z",
     "iopub.status.idle": "2022-11-30T00:12:00.916490Z",
     "shell.execute_reply": "2022-11-30T00:12:00.915635Z",
     "shell.execute_reply.started": "2022-11-30T00:12:00.911584Z"
    },
    "id": "YuCJf9oztbGL"
   },
   "outputs": [],
   "source": [
    "INPUT_DIR = './paddy-disease/'"
   ]
  },
  {
   "cell_type": "code",
   "execution_count": 20,
   "metadata": {
    "colab": {
     "base_uri": "https://localhost:8080/",
     "height": 225
    },
    "execution": {
     "iopub.execute_input": "2022-11-30T00:21:54.432250Z",
     "iopub.status.busy": "2022-11-30T00:21:54.431952Z",
     "iopub.status.idle": "2022-11-30T00:21:54.480864Z",
     "shell.execute_reply": "2022-11-30T00:21:54.479878Z",
     "shell.execute_reply.started": "2022-11-30T00:21:54.432217Z"
    },
    "id": "V9rpjUl2tbGL",
    "outputId": "e9d1d4d0-dabf-4dc1-b325-9e5bac8fc39a",
    "papermill": {
     "duration": 12.710747,
     "end_time": "2021-06-22T20:11:15.01836",
     "exception": false,
     "start_time": "2021-06-22T20:11:02.307613",
     "status": "completed"
    },
    "scrolled": true,
    "tags": []
   },
   "outputs": [
    {
     "name": "stdout",
     "output_type": "stream",
     "text": [
      "(10407, 4)\n"
     ]
    },
    {
     "data": {
      "text/html": [
       "<div>\n",
       "<style scoped>\n",
       "    .dataframe tbody tr th:only-of-type {\n",
       "        vertical-align: middle;\n",
       "    }\n",
       "\n",
       "    .dataframe tbody tr th {\n",
       "        vertical-align: top;\n",
       "    }\n",
       "\n",
       "    .dataframe thead th {\n",
       "        text-align: right;\n",
       "    }\n",
       "</style>\n",
       "<table border=\"1\" class=\"dataframe\">\n",
       "  <thead>\n",
       "    <tr style=\"text-align: right;\">\n",
       "      <th></th>\n",
       "      <th>image_id</th>\n",
       "      <th>label</th>\n",
       "      <th>variety</th>\n",
       "      <th>age</th>\n",
       "    </tr>\n",
       "  </thead>\n",
       "  <tbody>\n",
       "    <tr>\n",
       "      <th>0</th>\n",
       "      <td>100330.jpg</td>\n",
       "      <td>bacterial_leaf_blight</td>\n",
       "      <td>ADT45</td>\n",
       "      <td>45</td>\n",
       "    </tr>\n",
       "    <tr>\n",
       "      <th>1</th>\n",
       "      <td>100365.jpg</td>\n",
       "      <td>bacterial_leaf_blight</td>\n",
       "      <td>ADT45</td>\n",
       "      <td>45</td>\n",
       "    </tr>\n",
       "    <tr>\n",
       "      <th>2</th>\n",
       "      <td>100382.jpg</td>\n",
       "      <td>bacterial_leaf_blight</td>\n",
       "      <td>ADT45</td>\n",
       "      <td>45</td>\n",
       "    </tr>\n",
       "    <tr>\n",
       "      <th>3</th>\n",
       "      <td>100632.jpg</td>\n",
       "      <td>bacterial_leaf_blight</td>\n",
       "      <td>ADT45</td>\n",
       "      <td>45</td>\n",
       "    </tr>\n",
       "    <tr>\n",
       "      <th>4</th>\n",
       "      <td>101918.jpg</td>\n",
       "      <td>bacterial_leaf_blight</td>\n",
       "      <td>ADT45</td>\n",
       "      <td>45</td>\n",
       "    </tr>\n",
       "  </tbody>\n",
       "</table>\n",
       "</div>"
      ],
      "text/plain": [
       "     image_id                  label variety  age\n",
       "0  100330.jpg  bacterial_leaf_blight   ADT45   45\n",
       "1  100365.jpg  bacterial_leaf_blight   ADT45   45\n",
       "2  100382.jpg  bacterial_leaf_blight   ADT45   45\n",
       "3  100632.jpg  bacterial_leaf_blight   ADT45   45\n",
       "4  101918.jpg  bacterial_leaf_blight   ADT45   45"
      ]
     },
     "execution_count": 20,
     "metadata": {},
     "output_type": "execute_result"
    }
   ],
   "source": [
    "train_data = pd.read_csv(INPUT_DIR + 'train.csv')\n",
    "print(train_data.shape)\n",
    "train_data.head()"
   ]
  },
  {
   "cell_type": "markdown",
   "metadata": {
    "id": "6Oa-CuIstbGP"
   },
   "source": [
    "Добавляем колонку с путями картинок.\n",
    "\n"
   ]
  },
  {
   "cell_type": "code",
   "execution_count": 21,
   "metadata": {
    "colab": {
     "base_uri": "https://localhost:8080/",
     "height": 244
    },
    "execution": {
     "iopub.execute_input": "2022-11-30T00:22:02.401345Z",
     "iopub.status.busy": "2022-11-30T00:22:02.400471Z",
     "iopub.status.idle": "2022-11-30T00:22:02.427961Z",
     "shell.execute_reply": "2022-11-30T00:22:02.427177Z",
     "shell.execute_reply.started": "2022-11-30T00:22:02.401304Z"
    },
    "id": "mOMG8ynqtbGP",
    "outputId": "0d6e420e-5e12-4533-b8de-867b472c3419"
   },
   "outputs": [
    {
     "name": "stdout",
     "output_type": "stream",
     "text": [
      "CPU times: user 6.4 ms, sys: 1.08 ms, total: 7.48 ms\n",
      "Wall time: 10.8 ms\n"
     ]
    },
    {
     "data": {
      "text/html": [
       "<div>\n",
       "<style scoped>\n",
       "    .dataframe tbody tr th:only-of-type {\n",
       "        vertical-align: middle;\n",
       "    }\n",
       "\n",
       "    .dataframe tbody tr th {\n",
       "        vertical-align: top;\n",
       "    }\n",
       "\n",
       "    .dataframe thead th {\n",
       "        text-align: right;\n",
       "    }\n",
       "</style>\n",
       "<table border=\"1\" class=\"dataframe\">\n",
       "  <thead>\n",
       "    <tr style=\"text-align: right;\">\n",
       "      <th></th>\n",
       "      <th>image_id</th>\n",
       "      <th>label</th>\n",
       "      <th>variety</th>\n",
       "      <th>age</th>\n",
       "      <th>path</th>\n",
       "    </tr>\n",
       "  </thead>\n",
       "  <tbody>\n",
       "    <tr>\n",
       "      <th>0</th>\n",
       "      <td>100330.jpg</td>\n",
       "      <td>bacterial_leaf_blight</td>\n",
       "      <td>ADT45</td>\n",
       "      <td>45</td>\n",
       "      <td>./paddy-disease/train_images/bacterial_leaf_bl...</td>\n",
       "    </tr>\n",
       "    <tr>\n",
       "      <th>1</th>\n",
       "      <td>100365.jpg</td>\n",
       "      <td>bacterial_leaf_blight</td>\n",
       "      <td>ADT45</td>\n",
       "      <td>45</td>\n",
       "      <td>./paddy-disease/train_images/bacterial_leaf_bl...</td>\n",
       "    </tr>\n",
       "    <tr>\n",
       "      <th>2</th>\n",
       "      <td>100382.jpg</td>\n",
       "      <td>bacterial_leaf_blight</td>\n",
       "      <td>ADT45</td>\n",
       "      <td>45</td>\n",
       "      <td>./paddy-disease/train_images/bacterial_leaf_bl...</td>\n",
       "    </tr>\n",
       "    <tr>\n",
       "      <th>3</th>\n",
       "      <td>100632.jpg</td>\n",
       "      <td>bacterial_leaf_blight</td>\n",
       "      <td>ADT45</td>\n",
       "      <td>45</td>\n",
       "      <td>./paddy-disease/train_images/bacterial_leaf_bl...</td>\n",
       "    </tr>\n",
       "    <tr>\n",
       "      <th>4</th>\n",
       "      <td>101918.jpg</td>\n",
       "      <td>bacterial_leaf_blight</td>\n",
       "      <td>ADT45</td>\n",
       "      <td>45</td>\n",
       "      <td>./paddy-disease/train_images/bacterial_leaf_bl...</td>\n",
       "    </tr>\n",
       "  </tbody>\n",
       "</table>\n",
       "</div>"
      ],
      "text/plain": [
       "     image_id                  label variety  age  \\\n",
       "0  100330.jpg  bacterial_leaf_blight   ADT45   45   \n",
       "1  100365.jpg  bacterial_leaf_blight   ADT45   45   \n",
       "2  100382.jpg  bacterial_leaf_blight   ADT45   45   \n",
       "3  100632.jpg  bacterial_leaf_blight   ADT45   45   \n",
       "4  101918.jpg  bacterial_leaf_blight   ADT45   45   \n",
       "\n",
       "                                                path  \n",
       "0  ./paddy-disease/train_images/bacterial_leaf_bl...  \n",
       "1  ./paddy-disease/train_images/bacterial_leaf_bl...  \n",
       "2  ./paddy-disease/train_images/bacterial_leaf_bl...  \n",
       "3  ./paddy-disease/train_images/bacterial_leaf_bl...  \n",
       "4  ./paddy-disease/train_images/bacterial_leaf_bl...  "
      ]
     },
     "execution_count": 21,
     "metadata": {},
     "output_type": "execute_result"
    }
   ],
   "source": [
    "%%time\n",
    "\n",
    "train_data['path'] = INPUT_DIR + 'train_images/' + train_data['label'] + '/' + train_data['image_id']\n",
    "train_data.head()"
   ]
  },
  {
   "cell_type": "markdown",
   "metadata": {
    "id": "TrU4eVFGtbGV",
    "papermill": {
     "duration": 0.071526,
     "end_time": "2021-06-22T20:11:22.853156",
     "exception": false,
     "start_time": "2021-06-22T20:11:22.78163",
     "status": "completed"
    },
    "tags": []
   },
   "source": [
    "# Создание модели"
   ]
  },
  {
   "cell_type": "code",
   "execution_count": 22,
   "metadata": {
    "execution": {
     "iopub.execute_input": "2022-11-30T00:22:03.054120Z",
     "iopub.status.busy": "2022-11-30T00:22:03.053675Z",
     "iopub.status.idle": "2022-11-30T00:22:03.067023Z",
     "shell.execute_reply": "2022-11-30T00:22:03.066104Z",
     "shell.execute_reply.started": "2022-11-30T00:22:03.054078Z"
    },
    "id": "nfeiQo-qtbGW",
    "papermill": {
     "duration": 0.086442,
     "end_time": "2021-06-22T20:11:23.010643",
     "exception": false,
     "start_time": "2021-06-22T20:11:22.924201",
     "status": "completed"
    },
    "tags": []
   },
   "outputs": [],
   "source": [
    "task = Task('multiclass')"
   ]
  },
  {
   "cell_type": "code",
   "execution_count": 23,
   "metadata": {
    "execution": {
     "iopub.execute_input": "2022-11-30T00:22:03.407804Z",
     "iopub.status.busy": "2022-11-30T00:22:03.407468Z",
     "iopub.status.idle": "2022-11-30T00:22:03.516687Z",
     "shell.execute_reply": "2022-11-30T00:22:03.515675Z",
     "shell.execute_reply.started": "2022-11-30T00:22:03.407766Z"
    },
    "id": "3RoqZDnKtbGW"
   },
   "outputs": [],
   "source": [
    "roles = {\n",
    "    'target': 'label',\n",
    "    'path': ['path'],\n",
    "    'drop': ['variety', 'age'],\n",
    "    'group': 'image_id'\n",
    "}\n",
    "\n",
    "automl = TabularCVAutoML(task=task,\n",
    "                         timeout=3600,\n",
    "                         cpu_limit=2,\n",
    "                         reader_params={'cv': 5, 'random_state': 42})"
   ]
  },
  {
   "cell_type": "markdown",
   "metadata": {
    "id": "WpEhskEKtbGX"
   },
   "source": [
    "# Обучение AutoML"
   ]
  },
  {
   "cell_type": "code",
   "execution_count": 24,
   "metadata": {
    "colab": {
     "base_uri": "https://localhost:8080/"
    },
    "execution": {
     "iopub.execute_input": "2022-11-30T00:22:04.028447Z",
     "iopub.status.busy": "2022-11-30T00:22:04.027977Z",
     "iopub.status.idle": "2022-11-30T00:29:26.255248Z",
     "shell.execute_reply": "2022-11-30T00:29:26.254554Z",
     "shell.execute_reply.started": "2022-11-30T00:22:04.028402Z"
    },
    "id": "Y3y7pEAOtbGY",
    "outputId": "498adef6-b256-4897-c869-de0ea556cf37",
    "scrolled": false
   },
   "outputs": [
    {
     "name": "stdout",
     "output_type": "stream",
     "text": [
      "[00:22:04] Stdout logging level is INFO3.\n",
      "[00:22:04] Task: multiclass\n",
      "\n",
      "[00:22:04] Start automl preset with listed constraints:\n",
      "[00:22:04] - time: 3600.00 seconds\n",
      "[00:22:04] - CPU: 2 cores\n",
      "[00:22:04] - memory: 16 GB\n",
      "\n",
      "[00:22:04] \u001b[1mTrain data shape: (10407, 5)\u001b[0m\n",
      "\n",
      "[00:22:04] Layer \u001b[1m1\u001b[0m train process start. Time left 3599.92 secs\n"
     ]
    },
    {
     "name": "stderr",
     "output_type": "stream",
     "text": [
      "Downloading: \"https://github.com/lukemelas/EfficientNet-PyTorch/releases/download/1.0/adv-efficientnet-b0-b64d5a18.pth\" to /root/.cache/torch/hub/checkpoints/adv-efficientnet-b0-b64d5a18.pth\n"
     ]
    },
    {
     "data": {
      "application/vnd.jupyter.widget-view+json": {
       "model_id": "4797d23d0bd3463596fe3c625a85eae4",
       "version_major": 2,
       "version_minor": 0
      },
      "text/plain": [
       "  0%|          | 0.00/20.4M [00:00<?, ?B/s]"
      ]
     },
     "metadata": {},
     "output_type": "display_data"
    },
    {
     "name": "stdout",
     "output_type": "stream",
     "text": [
      "Loaded pretrained weights for efficientnet-b0\n"
     ]
    },
    {
     "name": "stderr",
     "output_type": "stream",
     "text": [
      "100%|██████████| 82/82 [01:12<00:00,  1.13it/s]\n"
     ]
    },
    {
     "name": "stdout",
     "output_type": "stream",
     "text": [
      "[00:23:22] Feature path transformed\n",
      "[00:23:23] Start fitting \u001b[1mLvl_0_Pipe_0_Mod_0_LinearL2\u001b[0m ...\n",
      "[00:23:23] ===== Start working with \u001b[1mfold 0\u001b[0m for \u001b[1mLvl_0_Pipe_0_Mod_0_LinearL2\u001b[0m =====\n",
      "[00:23:24] Linear model: C = 1e-05 score = -1.6055354153555599\n",
      "[00:23:26] Linear model: C = 5e-05 score = -1.2046568036268392\n",
      "[00:23:27] Linear model: C = 0.0001 score = -1.037389513346396\n",
      "[00:23:29] Linear model: C = 0.0005 score = -0.7044149751456502\n",
      "[00:23:30] Linear model: C = 0.001 score = -0.5902450302584152\n",
      "[00:23:32] Linear model: C = 0.005 score = -0.4066410315283329\n",
      "[00:23:33] Linear model: C = 0.01 score = -0.3638987668583561\n",
      "[00:23:35] Linear model: C = 0.05 score = -0.33720491329123614\n",
      "[00:23:37] Linear model: C = 0.1 score = -0.34965034073679147\n",
      "[00:23:38] Linear model: C = 0.5 score = -0.4099675468180123\n",
      "[00:23:38] ===== Start working with \u001b[1mfold 1\u001b[0m for \u001b[1mLvl_0_Pipe_0_Mod_0_LinearL2\u001b[0m =====\n",
      "[00:23:40] Linear model: C = 1e-05 score = -1.6060200854047824\n",
      "[00:23:42] Linear model: C = 5e-05 score = -1.2075224367394861\n",
      "[00:23:43] Linear model: C = 0.0001 score = -1.04284268854541\n",
      "[00:23:44] Linear model: C = 0.0005 score = -0.7174809840941678\n",
      "[00:23:46] Linear model: C = 0.001 score = -0.60725761605158\n",
      "[00:23:47] Linear model: C = 0.005 score = -0.43108975945924455\n",
      "[00:23:49] Linear model: C = 0.01 score = -0.3891399293966444\n",
      "[00:23:52] Linear model: C = 0.05 score = -0.36506552803726094\n",
      "[00:23:53] Linear model: C = 0.1 score = -0.37977032069614436\n",
      "[00:23:55] Linear model: C = 0.5 score = -0.44695752969426805\n",
      "[00:23:55] ===== Start working with \u001b[1mfold 2\u001b[0m for \u001b[1mLvl_0_Pipe_0_Mod_0_LinearL2\u001b[0m =====\n",
      "[00:23:56] Linear model: C = 1e-05 score = -1.628891620432799\n",
      "[00:23:58] Linear model: C = 5e-05 score = -1.2309746551817766\n",
      "[00:23:59] Linear model: C = 0.0001 score = -1.063062237792911\n",
      "[00:24:00] Linear model: C = 0.0005 score = -0.7261235028939131\n",
      "[00:24:02] Linear model: C = 0.001 score = -0.6108159632246143\n",
      "[00:24:04] Linear model: C = 0.005 score = -0.42427049097546743\n",
      "[00:24:05] Linear model: C = 0.01 score = -0.3801640676654464\n",
      "[00:24:07] Linear model: C = 0.05 score = -0.35345108259733815\n",
      "[00:24:09] Linear model: C = 0.1 score = -0.3666862318325231\n",
      "[00:24:10] Linear model: C = 0.5 score = -0.42888146105774466\n",
      "[00:24:10] ===== Start working with \u001b[1mfold 3\u001b[0m for \u001b[1mLvl_0_Pipe_0_Mod_0_LinearL2\u001b[0m =====\n",
      "[00:24:12] Linear model: C = 1e-05 score = -1.6246116268650836\n",
      "[00:24:14] Linear model: C = 5e-05 score = -1.228944047835757\n",
      "[00:24:15] Linear model: C = 0.0001 score = -1.0635358345854535\n",
      "[00:24:17] Linear model: C = 0.0005 score = -0.733543402608202\n",
      "[00:24:18] Linear model: C = 0.001 score = -0.6207830847944757\n",
      "[00:24:20] Linear model: C = 0.005 score = -0.4423281264115496\n",
      "[00:24:21] Linear model: C = 0.01 score = -0.40261933053897986\n",
      "[00:24:24] Linear model: C = 0.05 score = -0.38453432586543723\n",
      "[00:24:26] Linear model: C = 0.1 score = -0.4007738673604906\n",
      "[00:24:27] Linear model: C = 0.5 score = -0.47137347293016724\n",
      "[00:24:27] Fitting \u001b[1mLvl_0_Pipe_0_Mod_0_LinearL2\u001b[0m finished. score = \u001b[1m-0.36006161111088936\u001b[0m\n",
      "[00:24:27] \u001b[1mLvl_0_Pipe_0_Mod_0_LinearL2\u001b[0m fitting and predicting completed\n",
      "[00:24:27] Time left 3456.21 secs\n",
      "\n",
      "[00:26:10] Start fitting \u001b[1mLvl_0_Pipe_1_Mod_0_CatBoost\u001b[0m ...\n",
      "[00:26:10] ===== Start working with \u001b[1mfold 0\u001b[0m for \u001b[1mLvl_0_Pipe_1_Mod_0_CatBoost\u001b[0m =====\n"
     ]
    },
    {
     "name": "stderr",
     "output_type": "stream",
     "text": [
      "Warning: less than 75% gpu memory available for training. Free: 11981.75 Total: 16280.875\n"
     ]
    },
    {
     "name": "stdout",
     "output_type": "stream",
     "text": [
      "[00:27:32] 0:\tlearn: 2.2653420\ttest: 2.2654054\tbest: 2.2654054 (0)\ttotal: 43.1ms\tremaining: 2m 9s\n",
      "[00:28:00] bestTest = 0.2690028338\n",
      "[00:28:00] bestIteration = 2999\n",
      "[00:28:00] ===== Start working with \u001b[1mfold 1\u001b[0m for \u001b[1mLvl_0_Pipe_1_Mod_0_CatBoost\u001b[0m =====\n"
     ]
    },
    {
     "name": "stderr",
     "output_type": "stream",
     "text": [
      "Warning: less than 75% gpu memory available for training. Free: 11981.75 Total: 16280.875\n"
     ]
    },
    {
     "name": "stdout",
     "output_type": "stream",
     "text": [
      "[00:28:00] 0:\tlearn: 2.2668477\ttest: 2.2670016\tbest: 2.2670016 (0)\ttotal: 10.7ms\tremaining: 32s\n",
      "[00:28:29] bestTest = 0.2651534201\n",
      "[00:28:29] bestIteration = 2999\n",
      "[00:28:29] ===== Start working with \u001b[1mfold 2\u001b[0m for \u001b[1mLvl_0_Pipe_1_Mod_0_CatBoost\u001b[0m =====\n"
     ]
    },
    {
     "name": "stderr",
     "output_type": "stream",
     "text": [
      "Warning: less than 75% gpu memory available for training. Free: 11981.75 Total: 16280.875\n"
     ]
    },
    {
     "name": "stdout",
     "output_type": "stream",
     "text": [
      "[00:28:29] 0:\tlearn: 2.2656042\ttest: 2.2664293\tbest: 2.2664293 (0)\ttotal: 10.8ms\tremaining: 32.5s\n",
      "[00:28:57] bestTest = 0.2952104901\n",
      "[00:28:57] bestIteration = 2999\n",
      "[00:28:57] ===== Start working with \u001b[1mfold 3\u001b[0m for \u001b[1mLvl_0_Pipe_1_Mod_0_CatBoost\u001b[0m =====\n"
     ]
    },
    {
     "name": "stderr",
     "output_type": "stream",
     "text": [
      "Warning: less than 75% gpu memory available for training. Free: 11981.75 Total: 16280.875\n"
     ]
    },
    {
     "name": "stdout",
     "output_type": "stream",
     "text": [
      "[00:28:58] 0:\tlearn: 2.2637109\ttest: 2.2660245\tbest: 2.2660245 (0)\ttotal: 10.2ms\tremaining: 30.6s\n",
      "[00:29:25] bestTest = 0.3013892315\n",
      "[00:29:25] bestIteration = 2999\n",
      "[00:29:26] Fitting \u001b[1mLvl_0_Pipe_1_Mod_0_CatBoost\u001b[0m finished. score = \u001b[1m-0.28268724848507215\u001b[0m\n",
      "[00:29:26] \u001b[1mLvl_0_Pipe_1_Mod_0_CatBoost\u001b[0m fitting and predicting completed\n",
      "[00:29:26] Time left 3158.02 secs\n",
      "\n",
      "[00:29:26] \u001b[1mLayer 1 training completed.\u001b[0m\n",
      "\n",
      "[00:29:26] Blending: optimization starts with equal weights and score \u001b[1m-0.2427339312736738\u001b[0m\n",
      "[00:29:26] Blending: iteration \u001b[1m0\u001b[0m: score = \u001b[1m-0.24027219374387357\u001b[0m, weights = \u001b[1m[0.37110832 0.62889165]\u001b[0m\n",
      "[00:29:26] Blending: iteration \u001b[1m1\u001b[0m: score = \u001b[1m-0.24027219374387357\u001b[0m, weights = \u001b[1m[0.37110832 0.62889165]\u001b[0m\n",
      "[00:29:26] Blending: no score update. Terminated\n",
      "\n",
      "[00:29:26] \u001b[1mAutoml preset training completed in 442.16 seconds\u001b[0m\n",
      "\n",
      "[00:29:26] Model description:\n",
      "Final prediction for new objects (level 0) = \n",
      "\t 0.37111 * (4 averaged models Lvl_0_Pipe_0_Mod_0_LinearL2) +\n",
      "\t 0.62889 * (4 averaged models Lvl_0_Pipe_1_Mod_0_CatBoost) \n",
      "\n",
      "CPU times: user 5min 47s, sys: 1min 5s, total: 6min 53s\n",
      "Wall time: 7min 22s\n"
     ]
    }
   ],
   "source": [
    "%%time \n",
    "\n",
    "oof_pred = automl.fit_predict(train_data, roles=roles, verbose=3)"
   ]
  },
  {
   "cell_type": "markdown",
   "metadata": {
    "id": "L9-eqj_otbGZ"
   },
   "source": [
    "Посмотрим на out-of-fold предсказания модели. В случае мультиклассовой классификации, ```LightAutoML``` возвращает вероятности классов в качестве предсказаний."
   ]
  },
  {
   "cell_type": "code",
   "execution_count": 26,
   "metadata": {
    "execution": {
     "iopub.execute_input": "2022-11-30T00:29:26.281451Z",
     "iopub.status.busy": "2022-11-30T00:29:26.279214Z",
     "iopub.status.idle": "2022-11-30T00:29:26.314547Z",
     "shell.execute_reply": "2022-11-30T00:29:26.313971Z",
     "shell.execute_reply.started": "2022-11-30T00:29:26.281418Z"
    },
    "id": "THuBgUtctbGZ"
   },
   "outputs": [
    {
     "name": "stderr",
     "output_type": "stream",
     "text": [
      "/opt/conda/lib/python3.7/site-packages/ipykernel_launcher.py:2: SettingWithCopyWarning: \n",
      "A value is trying to be set on a copy of a slice from a DataFrame.\n",
      "Try using .loc[row_indexer,col_indexer] = value instead\n",
      "\n",
      "See the caveats in the documentation: https://pandas.pydata.org/pandas-docs/stable/user_guide/indexing.html#returning-a-view-versus-a-copy\n",
      "  \n"
     ]
    },
    {
     "data": {
      "text/html": [
       "<div>\n",
       "<style scoped>\n",
       "    .dataframe tbody tr th:only-of-type {\n",
       "        vertical-align: middle;\n",
       "    }\n",
       "\n",
       "    .dataframe tbody tr th {\n",
       "        vertical-align: top;\n",
       "    }\n",
       "\n",
       "    .dataframe thead th {\n",
       "        text-align: right;\n",
       "    }\n",
       "</style>\n",
       "<table border=\"1\" class=\"dataframe\">\n",
       "  <thead>\n",
       "    <tr style=\"text-align: right;\">\n",
       "      <th></th>\n",
       "      <th>image_id</th>\n",
       "      <th>label</th>\n",
       "      <th>pred_0</th>\n",
       "      <th>pred_1</th>\n",
       "      <th>pred_2</th>\n",
       "      <th>pred_3</th>\n",
       "      <th>pred_4</th>\n",
       "      <th>pred_5</th>\n",
       "      <th>pred_6</th>\n",
       "      <th>pred_7</th>\n",
       "      <th>pred_8</th>\n",
       "      <th>pred_9</th>\n",
       "    </tr>\n",
       "  </thead>\n",
       "  <tbody>\n",
       "    <tr>\n",
       "      <th>0</th>\n",
       "      <td>100330.jpg</td>\n",
       "      <td>bacterial_leaf_blight</td>\n",
       "      <td>0.020604</td>\n",
       "      <td>0.360138</td>\n",
       "      <td>0.402973</td>\n",
       "      <td>0.003394</td>\n",
       "      <td>0.067288</td>\n",
       "      <td>0.028710</td>\n",
       "      <td>0.001623</td>\n",
       "      <td>0.115230</td>\n",
       "      <td>1.642598e-05</td>\n",
       "      <td>2.509150e-05</td>\n",
       "    </tr>\n",
       "    <tr>\n",
       "      <th>1</th>\n",
       "      <td>100365.jpg</td>\n",
       "      <td>bacterial_leaf_blight</td>\n",
       "      <td>0.041199</td>\n",
       "      <td>0.338623</td>\n",
       "      <td>0.044106</td>\n",
       "      <td>0.000181</td>\n",
       "      <td>0.018184</td>\n",
       "      <td>0.055776</td>\n",
       "      <td>0.000560</td>\n",
       "      <td>0.501299</td>\n",
       "      <td>5.160815e-05</td>\n",
       "      <td>1.876510e-05</td>\n",
       "    </tr>\n",
       "    <tr>\n",
       "      <th>2</th>\n",
       "      <td>100382.jpg</td>\n",
       "      <td>bacterial_leaf_blight</td>\n",
       "      <td>0.085126</td>\n",
       "      <td>0.202267</td>\n",
       "      <td>0.302371</td>\n",
       "      <td>0.007710</td>\n",
       "      <td>0.022013</td>\n",
       "      <td>0.009413</td>\n",
       "      <td>0.000351</td>\n",
       "      <td>0.370369</td>\n",
       "      <td>3.647954e-04</td>\n",
       "      <td>1.590227e-05</td>\n",
       "    </tr>\n",
       "    <tr>\n",
       "      <th>3</th>\n",
       "      <td>100632.jpg</td>\n",
       "      <td>bacterial_leaf_blight</td>\n",
       "      <td>0.007831</td>\n",
       "      <td>0.772487</td>\n",
       "      <td>0.010031</td>\n",
       "      <td>0.000932</td>\n",
       "      <td>0.132978</td>\n",
       "      <td>0.002223</td>\n",
       "      <td>0.000157</td>\n",
       "      <td>0.073216</td>\n",
       "      <td>1.046456e-04</td>\n",
       "      <td>4.053696e-05</td>\n",
       "    </tr>\n",
       "    <tr>\n",
       "      <th>4</th>\n",
       "      <td>101918.jpg</td>\n",
       "      <td>bacterial_leaf_blight</td>\n",
       "      <td>0.021298</td>\n",
       "      <td>0.153516</td>\n",
       "      <td>0.039869</td>\n",
       "      <td>0.000104</td>\n",
       "      <td>0.030173</td>\n",
       "      <td>0.000710</td>\n",
       "      <td>0.000327</td>\n",
       "      <td>0.754004</td>\n",
       "      <td>1.029202e-07</td>\n",
       "      <td>1.880157e-07</td>\n",
       "    </tr>\n",
       "    <tr>\n",
       "      <th>...</th>\n",
       "      <td>...</td>\n",
       "      <td>...</td>\n",
       "      <td>...</td>\n",
       "      <td>...</td>\n",
       "      <td>...</td>\n",
       "      <td>...</td>\n",
       "      <td>...</td>\n",
       "      <td>...</td>\n",
       "      <td>...</td>\n",
       "      <td>...</td>\n",
       "      <td>...</td>\n",
       "      <td>...</td>\n",
       "    </tr>\n",
       "    <tr>\n",
       "      <th>10402</th>\n",
       "      <td>107607.jpg</td>\n",
       "      <td>tungro</td>\n",
       "      <td>0.008465</td>\n",
       "      <td>0.020844</td>\n",
       "      <td>0.000934</td>\n",
       "      <td>0.000220</td>\n",
       "      <td>0.912799</td>\n",
       "      <td>0.001032</td>\n",
       "      <td>0.055698</td>\n",
       "      <td>0.000005</td>\n",
       "      <td>3.641807e-06</td>\n",
       "      <td>1.737569e-07</td>\n",
       "    </tr>\n",
       "    <tr>\n",
       "      <th>10403</th>\n",
       "      <td>107811.jpg</td>\n",
       "      <td>tungro</td>\n",
       "      <td>0.001228</td>\n",
       "      <td>0.202364</td>\n",
       "      <td>0.016311</td>\n",
       "      <td>0.007188</td>\n",
       "      <td>0.682410</td>\n",
       "      <td>0.003198</td>\n",
       "      <td>0.084703</td>\n",
       "      <td>0.002256</td>\n",
       "      <td>3.296992e-04</td>\n",
       "      <td>1.273677e-05</td>\n",
       "    </tr>\n",
       "    <tr>\n",
       "      <th>10404</th>\n",
       "      <td>108547.jpg</td>\n",
       "      <td>tungro</td>\n",
       "      <td>0.001525</td>\n",
       "      <td>0.039695</td>\n",
       "      <td>0.002633</td>\n",
       "      <td>0.001502</td>\n",
       "      <td>0.943956</td>\n",
       "      <td>0.001407</td>\n",
       "      <td>0.008925</td>\n",
       "      <td>0.000158</td>\n",
       "      <td>1.907664e-04</td>\n",
       "      <td>7.666896e-06</td>\n",
       "    </tr>\n",
       "    <tr>\n",
       "      <th>10405</th>\n",
       "      <td>110245.jpg</td>\n",
       "      <td>tungro</td>\n",
       "      <td>0.006035</td>\n",
       "      <td>0.031850</td>\n",
       "      <td>0.000466</td>\n",
       "      <td>0.000747</td>\n",
       "      <td>0.788912</td>\n",
       "      <td>0.004558</td>\n",
       "      <td>0.165864</td>\n",
       "      <td>0.001532</td>\n",
       "      <td>1.703711e-05</td>\n",
       "      <td>1.954897e-05</td>\n",
       "    </tr>\n",
       "    <tr>\n",
       "      <th>10406</th>\n",
       "      <td>110381.jpg</td>\n",
       "      <td>tungro</td>\n",
       "      <td>0.154793</td>\n",
       "      <td>0.048842</td>\n",
       "      <td>0.078347</td>\n",
       "      <td>0.006539</td>\n",
       "      <td>0.668497</td>\n",
       "      <td>0.007989</td>\n",
       "      <td>0.033110</td>\n",
       "      <td>0.001795</td>\n",
       "      <td>7.972174e-05</td>\n",
       "      <td>8.399358e-06</td>\n",
       "    </tr>\n",
       "  </tbody>\n",
       "</table>\n",
       "<p>10407 rows × 12 columns</p>\n",
       "</div>"
      ],
      "text/plain": [
       "         image_id                  label    pred_0    pred_1    pred_2  \\\n",
       "0      100330.jpg  bacterial_leaf_blight  0.020604  0.360138  0.402973   \n",
       "1      100365.jpg  bacterial_leaf_blight  0.041199  0.338623  0.044106   \n",
       "2      100382.jpg  bacterial_leaf_blight  0.085126  0.202267  0.302371   \n",
       "3      100632.jpg  bacterial_leaf_blight  0.007831  0.772487  0.010031   \n",
       "4      101918.jpg  bacterial_leaf_blight  0.021298  0.153516  0.039869   \n",
       "...           ...                    ...       ...       ...       ...   \n",
       "10402  107607.jpg                 tungro  0.008465  0.020844  0.000934   \n",
       "10403  107811.jpg                 tungro  0.001228  0.202364  0.016311   \n",
       "10404  108547.jpg                 tungro  0.001525  0.039695  0.002633   \n",
       "10405  110245.jpg                 tungro  0.006035  0.031850  0.000466   \n",
       "10406  110381.jpg                 tungro  0.154793  0.048842  0.078347   \n",
       "\n",
       "         pred_3    pred_4    pred_5    pred_6    pred_7        pred_8  \\\n",
       "0      0.003394  0.067288  0.028710  0.001623  0.115230  1.642598e-05   \n",
       "1      0.000181  0.018184  0.055776  0.000560  0.501299  5.160815e-05   \n",
       "2      0.007710  0.022013  0.009413  0.000351  0.370369  3.647954e-04   \n",
       "3      0.000932  0.132978  0.002223  0.000157  0.073216  1.046456e-04   \n",
       "4      0.000104  0.030173  0.000710  0.000327  0.754004  1.029202e-07   \n",
       "...         ...       ...       ...       ...       ...           ...   \n",
       "10402  0.000220  0.912799  0.001032  0.055698  0.000005  3.641807e-06   \n",
       "10403  0.007188  0.682410  0.003198  0.084703  0.002256  3.296992e-04   \n",
       "10404  0.001502  0.943956  0.001407  0.008925  0.000158  1.907664e-04   \n",
       "10405  0.000747  0.788912  0.004558  0.165864  0.001532  1.703711e-05   \n",
       "10406  0.006539  0.668497  0.007989  0.033110  0.001795  7.972174e-05   \n",
       "\n",
       "             pred_9  \n",
       "0      2.509150e-05  \n",
       "1      1.876510e-05  \n",
       "2      1.590227e-05  \n",
       "3      4.053696e-05  \n",
       "4      1.880157e-07  \n",
       "...             ...  \n",
       "10402  1.737569e-07  \n",
       "10403  1.273677e-05  \n",
       "10404  7.666896e-06  \n",
       "10405  1.954897e-05  \n",
       "10406  8.399358e-06  \n",
       "\n",
       "[10407 rows x 12 columns]"
      ]
     },
     "execution_count": 26,
     "metadata": {},
     "output_type": "execute_result"
    }
   ],
   "source": [
    "preds = train_data[['image_id', 'label']]\n",
    "for i in range(10):\n",
    "    preds['pred_' + str(i)] = oof_pred.data[:,i]\n",
    "    \n",
    "preds"
   ]
  },
  {
   "cell_type": "markdown",
   "metadata": {
    "id": "2i_K508TtbGa"
   },
   "source": [
    "Найдем классы с наибольшими вероятностями."
   ]
  },
  {
   "cell_type": "code",
   "execution_count": 27,
   "metadata": {
    "execution": {
     "iopub.execute_input": "2022-11-30T00:29:26.319326Z",
     "iopub.status.busy": "2022-11-30T00:29:26.317728Z",
     "iopub.status.idle": "2022-11-30T00:29:26.330339Z",
     "shell.execute_reply": "2022-11-30T00:29:26.329694Z",
     "shell.execute_reply.started": "2022-11-30T00:29:26.319292Z"
    },
    "id": "M9Uc7BB2tbGa"
   },
   "outputs": [
    {
     "data": {
      "text/plain": [
       "array([2, 7, 7, ..., 4, 4, 4])"
      ]
     },
     "execution_count": 27,
     "metadata": {},
     "output_type": "execute_result"
    }
   ],
   "source": [
    "OOFs = np.argmax(preds[['pred_' + str(i) for i in range(10)]].values, axis = 1)\n",
    "OOFs"
   ]
  },
  {
   "cell_type": "markdown",
   "metadata": {
    "id": "OJCz5kP7tbGb"
   },
   "source": [
    "Посчитаем точность предсказаний."
   ]
  },
  {
   "cell_type": "code",
   "execution_count": 28,
   "metadata": {
    "execution": {
     "iopub.execute_input": "2022-11-30T00:29:26.336039Z",
     "iopub.status.busy": "2022-11-30T00:29:26.334172Z",
     "iopub.status.idle": "2022-11-30T00:29:26.345761Z",
     "shell.execute_reply": "2022-11-30T00:29:26.345061Z",
     "shell.execute_reply.started": "2022-11-30T00:29:26.336006Z"
    },
    "id": "daTaqNHttbGc"
   },
   "outputs": [
    {
     "name": "stdout",
     "output_type": "stream",
     "text": [
      "Out-of-fold accuracy: 0.9420582300374748\n"
     ]
    }
   ],
   "source": [
    "accuracy = (OOFs == preds['label'].map(automl.reader.class_mapping)).mean()\n",
    "print(f'Out-of-fold accuracy: {accuracy}')"
   ]
  },
  {
   "cell_type": "markdown",
   "metadata": {
    "id": "hNCYcDxstbGc"
   },
   "source": [
    "Чтобы оценить качество предсказаний, можно также посмотреть на матрицу ошибок."
   ]
  },
  {
   "cell_type": "code",
   "execution_count": 29,
   "metadata": {
    "execution": {
     "iopub.execute_input": "2022-11-30T00:29:26.351228Z",
     "iopub.status.busy": "2022-11-30T00:29:26.349507Z",
     "iopub.status.idle": "2022-11-30T00:29:27.109614Z",
     "shell.execute_reply": "2022-11-30T00:29:27.108919Z",
     "shell.execute_reply.started": "2022-11-30T00:29:26.351196Z"
    },
    "id": "Z_v4CnqBtbGc"
   },
   "outputs": [
    {
     "data": {
      "image/png": "[encoded data removed]",
      "text/plain": [
       "<Figure size 720x720 with 2 Axes>"
      ]
     },
     "metadata": {
      "needs_background": "light"
     },
     "output_type": "display_data"
    }
   ],
   "source": [
    "cf_matrix = confusion_matrix(preds['label'].map(automl.reader.class_mapping), OOFs)\n",
    "\n",
    "plt.figure(figsize = (10, 10))\n",
    "\n",
    "ax = sns.heatmap(cf_matrix, annot=True, cmap='Blues', fmt = 'd')\n",
    "\n",
    "ax.set_title('Seaborn Confusion Matrix with labels\\n\\n');\n",
    "ax.set_xlabel('\\nPredicted Values')\n",
    "ax.set_ylabel('Actual Values ');\n",
    "\n",
    "inverse_class_mapping = {y: x for x,y in automl.reader.class_mapping.items()}\n",
    "labels = [inverse_class_mapping[i] for i in range(len(inverse_class_mapping))]\n",
    "ax.xaxis.set_ticklabels(labels, rotation = 90)\n",
    "ax.yaxis.set_ticklabels(labels, rotation = 0)\n",
    "\n",
    "plt.show()"
   ]
  },
  {
   "cell_type": "code",
   "execution_count": null,
   "metadata": {
    "id": "Y5732oSMx2uf"
   },
   "outputs": [],
   "source": []
  }
 ],
 "metadata": {
  "accelerator": "GPU",
  "colab": {
   "provenance": []
  },
  "gpuClass": "standard",
  "kernelspec": {
   "display_name": "Python 3 (ipykernel)",
   "language": "python",
   "name": "python3"
  },
  "language_info": {
   "codemirror_mode": {
    "name": "ipython",
    "version": 3
   },
   "file_extension": ".py",
   "mimetype": "text/x-python",
   "name": "python",
   "nbconvert_exporter": "python",
   "pygments_lexer": "ipython3",
   "version": "3.11.0"
  }
 },
 "nbformat": 4,
 "nbformat_minor": 4
}
