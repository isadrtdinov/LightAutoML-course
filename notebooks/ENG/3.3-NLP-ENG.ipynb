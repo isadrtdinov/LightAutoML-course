{
 "cells": [
  {
   "cell_type": "code",
   "execution_count": null,
   "metadata": {
    "id": "WDCfvfPD2Tqz"
   },
   "outputs": [],
   "source": [
    "import shutil\n",
    "\n",
    "import numpy as np\n",
    "import pandas as pd\n",
    "\n",
    "from sklearn.metrics import roc_auc_score, mean_squared_error\n",
    "from sklearn.model_selection import train_test_split\n",
    "\n",
    "from lightautoml.automl.presets.text_presets import TabularNLPAutoML\n",
    "from lightautoml.tasks import Task\n",
    "\n",
    "from lightautoml.addons.interpretation import LimeTextExplainer, L2XTextExplainer\n",
    "\n",
    "import transformers\n",
    "transformers.logging.set_verbosity(50)\n",
    "\n",
    "import pickle"
   ]
  },
  {
   "cell_type": "markdown",
   "metadata": {
    "id": "tiWYIbVg2Tqz"
   },
   "source": [
    "## Read data"
   ]
  },
  {
   "cell_type": "markdown",
   "metadata": {},
   "source": [
    "We will classify toxicity of comment from kaggle dataset [Jigsaw-Toxic-Comment-Classification-Challage](https://www.kaggle.com/c/jigsaw-toxic-comment-classification-challenge/overview)."
   ]
  },
  {
   "cell_type": "code",
   "execution_count": null,
   "metadata": {
    "id": "MYtgSwmS2Tq2",
    "outputId": "a60e6e7f-f445-4cc0-fb8b-0378ff365bfa"
   },
   "outputs": [
    {
     "data": {
      "text/html": [
       "<div>\n",
       "<style scoped>\n",
       "    .dataframe tbody tr th:only-of-type {\n",
       "        vertical-align: middle;\n",
       "    }\n",
       "\n",
       "    .dataframe tbody tr th {\n",
       "        vertical-align: top;\n",
       "    }\n",
       "\n",
       "    .dataframe thead th {\n",
       "        text-align: right;\n",
       "    }\n",
       "</style>\n",
       "<table border=\"1\" class=\"dataframe\">\n",
       "  <thead>\n",
       "    <tr style=\"text-align: right;\">\n",
       "      <th></th>\n",
       "      <th>id</th>\n",
       "      <th>comment_text</th>\n",
       "      <th>toxic</th>\n",
       "      <th>severe_toxic</th>\n",
       "      <th>obscene</th>\n",
       "      <th>threat</th>\n",
       "      <th>insult</th>\n",
       "      <th>identity_hate</th>\n",
       "    </tr>\n",
       "  </thead>\n",
       "  <tbody>\n",
       "    <tr>\n",
       "      <th>0</th>\n",
       "      <td>0000997932d777bf</td>\n",
       "      <td>Explanation\\nWhy the edits made under my usern...</td>\n",
       "      <td>0</td>\n",
       "      <td>0</td>\n",
       "      <td>0</td>\n",
       "      <td>0</td>\n",
       "      <td>0</td>\n",
       "      <td>0</td>\n",
       "    </tr>\n",
       "    <tr>\n",
       "      <th>1</th>\n",
       "      <td>000103f0d9cfb60f</td>\n",
       "      <td>D'aww! He matches this background colour I'm s...</td>\n",
       "      <td>0</td>\n",
       "      <td>0</td>\n",
       "      <td>0</td>\n",
       "      <td>0</td>\n",
       "      <td>0</td>\n",
       "      <td>0</td>\n",
       "    </tr>\n",
       "    <tr>\n",
       "      <th>2</th>\n",
       "      <td>000113f07ec002fd</td>\n",
       "      <td>Hey man, I'm really not trying to edit war. It...</td>\n",
       "      <td>0</td>\n",
       "      <td>0</td>\n",
       "      <td>0</td>\n",
       "      <td>0</td>\n",
       "      <td>0</td>\n",
       "      <td>0</td>\n",
       "    </tr>\n",
       "    <tr>\n",
       "      <th>3</th>\n",
       "      <td>0001b41b1c6bb37e</td>\n",
       "      <td>\"\\nMore\\nI can't make any real suggestions on ...</td>\n",
       "      <td>0</td>\n",
       "      <td>0</td>\n",
       "      <td>0</td>\n",
       "      <td>0</td>\n",
       "      <td>0</td>\n",
       "      <td>0</td>\n",
       "    </tr>\n",
       "    <tr>\n",
       "      <th>4</th>\n",
       "      <td>0001d958c54c6e35</td>\n",
       "      <td>You, sir, are my hero. Any chance you remember...</td>\n",
       "      <td>0</td>\n",
       "      <td>0</td>\n",
       "      <td>0</td>\n",
       "      <td>0</td>\n",
       "      <td>0</td>\n",
       "      <td>0</td>\n",
       "    </tr>\n",
       "    <tr>\n",
       "      <th>...</th>\n",
       "      <td>...</td>\n",
       "      <td>...</td>\n",
       "      <td>...</td>\n",
       "      <td>...</td>\n",
       "      <td>...</td>\n",
       "      <td>...</td>\n",
       "      <td>...</td>\n",
       "      <td>...</td>\n",
       "    </tr>\n",
       "    <tr>\n",
       "      <th>159566</th>\n",
       "      <td>ffe987279560d7ff</td>\n",
       "      <td>\":::::And for the second time of asking, when ...</td>\n",
       "      <td>0</td>\n",
       "      <td>0</td>\n",
       "      <td>0</td>\n",
       "      <td>0</td>\n",
       "      <td>0</td>\n",
       "      <td>0</td>\n",
       "    </tr>\n",
       "    <tr>\n",
       "      <th>159567</th>\n",
       "      <td>ffea4adeee384e90</td>\n",
       "      <td>You should be ashamed of yourself \\n\\nThat is ...</td>\n",
       "      <td>0</td>\n",
       "      <td>0</td>\n",
       "      <td>0</td>\n",
       "      <td>0</td>\n",
       "      <td>0</td>\n",
       "      <td>0</td>\n",
       "    </tr>\n",
       "    <tr>\n",
       "      <th>159568</th>\n",
       "      <td>ffee36eab5c267c9</td>\n",
       "      <td>Spitzer \\n\\nUmm, theres no actual article for ...</td>\n",
       "      <td>0</td>\n",
       "      <td>0</td>\n",
       "      <td>0</td>\n",
       "      <td>0</td>\n",
       "      <td>0</td>\n",
       "      <td>0</td>\n",
       "    </tr>\n",
       "    <tr>\n",
       "      <th>159569</th>\n",
       "      <td>fff125370e4aaaf3</td>\n",
       "      <td>And it looks like it was actually you who put ...</td>\n",
       "      <td>0</td>\n",
       "      <td>0</td>\n",
       "      <td>0</td>\n",
       "      <td>0</td>\n",
       "      <td>0</td>\n",
       "      <td>0</td>\n",
       "    </tr>\n",
       "    <tr>\n",
       "      <th>159570</th>\n",
       "      <td>fff46fc426af1f9a</td>\n",
       "      <td>\"\\nAnd ... I really don't think you understand...</td>\n",
       "      <td>0</td>\n",
       "      <td>0</td>\n",
       "      <td>0</td>\n",
       "      <td>0</td>\n",
       "      <td>0</td>\n",
       "      <td>0</td>\n",
       "    </tr>\n",
       "  </tbody>\n",
       "</table>\n",
       "<p>159571 rows × 8 columns</p>\n",
       "</div>"
      ],
      "text/plain": [
       "                      id                                       comment_text  \\\n",
       "0       0000997932d777bf  Explanation\\nWhy the edits made under my usern...   \n",
       "1       000103f0d9cfb60f  D'aww! He matches this background colour I'm s...   \n",
       "2       000113f07ec002fd  Hey man, I'm really not trying to edit war. It...   \n",
       "3       0001b41b1c6bb37e  \"\\nMore\\nI can't make any real suggestions on ...   \n",
       "4       0001d958c54c6e35  You, sir, are my hero. Any chance you remember...   \n",
       "...                  ...                                                ...   \n",
       "159566  ffe987279560d7ff  \":::::And for the second time of asking, when ...   \n",
       "159567  ffea4adeee384e90  You should be ashamed of yourself \\n\\nThat is ...   \n",
       "159568  ffee36eab5c267c9  Spitzer \\n\\nUmm, theres no actual article for ...   \n",
       "159569  fff125370e4aaaf3  And it looks like it was actually you who put ...   \n",
       "159570  fff46fc426af1f9a  \"\\nAnd ... I really don't think you understand...   \n",
       "\n",
       "        toxic  severe_toxic  obscene  threat  insult  identity_hate  \n",
       "0           0             0        0       0       0              0  \n",
       "1           0             0        0       0       0              0  \n",
       "2           0             0        0       0       0              0  \n",
       "3           0             0        0       0       0              0  \n",
       "4           0             0        0       0       0              0  \n",
       "...       ...           ...      ...     ...     ...            ...  \n",
       "159566      0             0        0       0       0              0  \n",
       "159567      0             0        0       0       0              0  \n",
       "159568      0             0        0       0       0              0  \n",
       "159569      0             0        0       0       0              0  \n",
       "159570      0             0        0       0       0              0  \n",
       "\n",
       "[159571 rows x 8 columns]"
      ]
     },
     "execution_count": 3,
     "metadata": {},
     "output_type": "execute_result"
    }
   ],
   "source": [
    "# train.csv file from\n",
    "# https://www.kaggle.com/c/jigsaw-toxic-comment-classification-challenge/overview\n",
    "\n",
    "data = pd.read_csv('train.csv')\n",
    "data"
   ]
  },
  {
   "cell_type": "code",
   "execution_count": null,
   "metadata": {},
   "outputs": [],
   "source": [
    "np.random.seed(42)\n",
    "\n",
    "train, test = train_test_split(data, test_size=0.2, random_state=42)"
   ]
  },
  {
   "cell_type": "markdown",
   "metadata": {
    "id": "TlaG-8M_2Tq3"
   },
   "source": [
    "## AutoML part"
   ]
  },
  {
   "cell_type": "markdown",
   "metadata": {
    "id": "oxEO27V72Tq6"
   },
   "source": [
    "We will finetune TinyBERT from [Hugging Face](https://huggingface.co) library using ``lightautoml.automl.presets.text_presets.TabularNLPAutoML`` preset."
   ]
  },
  {
   "cell_type": "code",
   "execution_count": null,
   "metadata": {
    "id": "Hcdx6YIr2Tq6"
   },
   "outputs": [],
   "source": [
    "roles = {\n",
    "    'text': ['comment_text'], \n",
    "    'drop': ['id', 'severe_toxic', 'obscene', 'threat', 'insult', 'identity_hate'],\n",
    "    'target': 'toxic'\n",
    "}\n",
    "\n",
    "task = Task('binary')\n",
    "\n",
    "# WAT\n",
    "\n",
    "# automl = TabularNLPAutoML(\n",
    "#     task=task,\n",
    "#     autonlp_params={'model_name': 'wat',\n",
    "#                     'transformer_params': {\n",
    "#                         'weight_type': 'idf',\n",
    "#                         'use_svd': True\n",
    "#                    }}\n",
    "# )\n",
    "\n",
    "\n",
    "# BOREP\n",
    "\n",
    "# automl = TabularNLPAutoML(\n",
    "#     task=task,\n",
    "#     autonlp_params={\n",
    "#         'model_name': 'borep',\n",
    "#         'transformer_params': {\n",
    "#             'model_params':\n",
    "#                 {'proj_size': 300, 'pooling': 'mean',\n",
    "#                  'max_length': 200, 'init': 'orthogonal',\n",
    "#                  'pos_encoding': False},\n",
    "#         'dataset_params': {'max_length': 200}\n",
    "#         }\n",
    "#     }\n",
    "# )\n",
    "\n",
    "\n",
    "# Random LSTM\n",
    "\n",
    "# automl = TabularNLPAutoML(\n",
    "#     task=task,\n",
    "#     autonlp_params={\n",
    "#         'model_name': 'random_lstm',\n",
    "#         'transformer_params': {\n",
    "#             'model_params':\n",
    "#                 {'embed_size': 300, 'hidden_size': 256,\n",
    "#                  'pooling': 'mean', 'num_layers': 1},\n",
    "#             'dataset_params': {'max_length': 200, 'embed_size': 300}\n",
    "#         }\n",
    "#     }\n",
    "# )\n",
    "\n",
    "\n",
    "automl = TabularNLPAutoML(\n",
    "    task=task,\n",
    "    timeout=3600,\n",
    "    cpu_limit=1,\n",
    "    gpu_ids='0',\n",
    "    general_params={\n",
    "        'nested_cv': False,\n",
    "        'use_algos': [['nn']]\n",
    "    },\n",
    "    autonlp_params={\n",
    "        'sent_scaler': 'l2'\n",
    "    },\n",
    "    text_params={\n",
    "        'lang': 'en',\n",
    "        'bert_model': 'prajjwal1/bert-tiny'\n",
    "    },\n",
    "    nn_params={\n",
    "        'opt_params': {'lr': 1e-5},\n",
    "        'max_length': 128,\n",
    "        'bs': 32,\n",
    "        'n_epochs': 7,\n",
    "    }\n",
    "\n",
    ")"
   ]
  },
  {
   "cell_type": "code",
   "execution_count": null,
   "metadata": {
    "id": "Jn7jZ54Q2Tq9",
    "outputId": "1be71694-0706-4bb9-d683-46f4cd8cd653",
    "scrolled": false
   },
   "outputs": [
    {
     "name": "stdout",
     "output_type": "stream",
     "text": [
      "[11:22:30] Stdout logging level is DEBUG.\n",
      "[11:22:30] Model language mode: en\n",
      "[11:22:30] Task: binary\n",
      "\n",
      "[11:22:30] Start automl preset with listed constraints:\n",
      "[11:22:30] - time: 3600.00 seconds\n",
      "[11:22:30] - CPU: 1 cores\n",
      "[11:22:30] - memory: 16 GB\n",
      "\n",
      "[11:22:30] \u001b[1mTrain data shape: (127656, 8)\u001b[0m\n",
      "\n",
      "[11:22:30] Layer \u001b[1m1\u001b[0m train process start. Time left 3599.85 secs\n",
      "[11:22:31] Start fitting \u001b[1mLvl_0_Pipe_0_Mod_0_TorchNN\u001b[0m ...\n",
      "[11:22:31] Training params: {'bs': 32, 'num_workers': 1, 'max_length': 128, 'opt_params': {'lr': 1e-05}, 'scheduler_params': {'patience': 5, 'factor': 0.5, 'verbose': True}, 'is_snap': False, 'snap_params': {'k': 1, 'early_stopping': True, 'patience': 1, 'swa': False}, 'init_bias': True, 'n_epochs': 7, 'input_bn': False, 'emb_dropout': 0.1, 'emb_ratio': 3, 'max_emb_size': 50, 'bert_name': 'prajjwal1/bert-tiny', 'pooling': 'cls', 'device': device(type='cuda', index=0), 'use_cont': True, 'use_cat': True, 'use_text': True, 'lang': 'en', 'deterministic': False, 'multigpu': False, 'random_state': 42, 'path_to_save': None, 'verbose_inside': None, 'verbose': 1, 'device_ids': None, 'n_out': 1, 'cat_features': [], 'cat_dims': [], 'cont_features': [], 'cont_dim': 0, 'text_features': ['concated__comment_text'], 'bias': array([[-2.24401446]])}\n",
      "[11:22:31] ===== Start working with \u001b[1mfold 0\u001b[0m for \u001b[1mLvl_0_Pipe_0_Mod_0_TorchNN\u001b[0m =====\n",
      "[11:22:36] number of text features: 1 \n",
      "[11:22:36] number of categorical features: 0 \n",
      "[11:22:36] number of continuous features: 0 \n"
     ]
    },
    {
     "name": "stderr",
     "output_type": "stream",
     "text": [
      "train (loss=0.257356): 100%|██████████| 2660/2660 [02:12<00:00, 20.13it/s]\n",
      "val: 100%|██████████| 1330/1330 [01:07<00:00, 19.83it/s]"
     ]
    },
    {
     "name": "stdout",
     "output_type": "stream",
     "text": [
      "[11:25:59] Epoch: 0, train loss: 0.25735557079315186, val loss: 0.19599375128746033, val metric: 0.9640350800072578\n"
     ]
    },
    {
     "name": "stderr",
     "output_type": "stream",
     "text": [
      "\n",
      "train (loss=0.168968): 100%|██████████| 2660/2660 [02:09<00:00, 20.61it/s]\n",
      "val: 100%|██████████| 1330/1330 [01:04<00:00, 20.58it/s]"
     ]
    },
    {
     "name": "stdout",
     "output_type": "stream",
     "text": [
      "[11:29:13] Epoch: 1, train loss: 0.16896754503250122, val loss: 0.14401142299175262, val metric: 0.9713461808486132\n"
     ]
    },
    {
     "name": "stderr",
     "output_type": "stream",
     "text": [
      "\n",
      "train (loss=0.131891): 100%|██████████| 2660/2660 [02:09<00:00, 20.49it/s]\n",
      "val: 100%|██████████| 1330/1330 [01:03<00:00, 20.87it/s]"
     ]
    },
    {
     "name": "stdout",
     "output_type": "stream",
     "text": [
      "[11:32:26] Epoch: 2, train loss: 0.1318911910057068, val loss: 0.12361849099397659, val metric: 0.9742718921629787\n"
     ]
    },
    {
     "name": "stderr",
     "output_type": "stream",
     "text": [
      "\n",
      "train (loss=0.114705): 100%|██████████| 2660/2660 [02:07<00:00, 20.90it/s]\n",
      "val: 100%|██████████| 1330/1330 [01:04<00:00, 20.76it/s]"
     ]
    },
    {
     "name": "stdout",
     "output_type": "stream",
     "text": [
      "[11:35:38] Epoch: 3, train loss: 0.11470535397529602, val loss: 0.11394938081502914, val metric: 0.9763582643756192\n"
     ]
    },
    {
     "name": "stderr",
     "output_type": "stream",
     "text": [
      "\n",
      "train (loss=0.103179): 100%|██████████| 2660/2660 [02:09<00:00, 20.54it/s]\n",
      "val: 100%|██████████| 1330/1330 [01:05<00:00, 20.36it/s]"
     ]
    },
    {
     "name": "stdout",
     "output_type": "stream",
     "text": [
      "[11:38:53] Epoch: 4, train loss: 0.10317856818437576, val loss: 0.10656153410673141, val metric: 0.9775081138714583\n"
     ]
    },
    {
     "name": "stderr",
     "output_type": "stream",
     "text": [
      "\n",
      "train (loss=0.0965996): 100%|██████████| 2660/2660 [02:09<00:00, 20.49it/s]\n",
      "val: 100%|██████████| 1330/1330 [01:05<00:00, 20.24it/s]"
     ]
    },
    {
     "name": "stdout",
     "output_type": "stream",
     "text": [
      "[11:42:08] Epoch: 5, train loss: 0.09659960865974426, val loss: 0.10427780449390411, val metric: 0.9783243683208365\n"
     ]
    },
    {
     "name": "stderr",
     "output_type": "stream",
     "text": [
      "\n",
      "train (loss=0.090561): 100%|██████████| 2660/2660 [02:11<00:00, 20.24it/s] \n",
      "val: 100%|██████████| 1330/1330 [01:02<00:00, 21.23it/s]\n"
     ]
    },
    {
     "name": "stdout",
     "output_type": "stream",
     "text": [
      "[11:45:22] Epoch: 6, train loss: 0.09056100249290466, val loss: 0.10337436944246292, val metric: 0.9788043902058639\n",
      "[11:45:23] ===== Start working with \u001b[1mfold 1\u001b[0m for \u001b[1mLvl_0_Pipe_0_Mod_0_TorchNN\u001b[0m =====\n",
      "[11:45:28] number of text features: 1 \n",
      "[11:45:28] number of categorical features: 0 \n",
      "[11:45:28] number of continuous features: 0 \n"
     ]
    },
    {
     "name": "stderr",
     "output_type": "stream",
     "text": [
      "train (loss=0.257485): 100%|██████████| 2660/2660 [02:04<00:00, 21.30it/s]\n",
      "val: 100%|██████████| 1330/1330 [01:04<00:00, 20.67it/s]"
     ]
    },
    {
     "name": "stdout",
     "output_type": "stream",
     "text": [
      "[11:48:38] Epoch: 0, train loss: 0.2574850618839264, val loss: 0.19478833675384521, val metric: 0.961936968917119\n"
     ]
    },
    {
     "name": "stderr",
     "output_type": "stream",
     "text": [
      "\n",
      "train (loss=0.170552): 100%|██████████| 2660/2660 [02:08<00:00, 20.72it/s]\n",
      "val: 100%|██████████| 1330/1330 [01:06<00:00, 19.87it/s]"
     ]
    },
    {
     "name": "stdout",
     "output_type": "stream",
     "text": [
      "[11:51:53] Epoch: 1, train loss: 0.1705523431301117, val loss: 0.1437842845916748, val metric: 0.970873732336761\n"
     ]
    },
    {
     "name": "stderr",
     "output_type": "stream",
     "text": [
      "\n",
      "train (loss=0.132485): 100%|██████████| 2660/2660 [02:05<00:00, 21.15it/s]\n",
      "val: 100%|██████████| 1330/1330 [01:03<00:00, 20.97it/s]"
     ]
    },
    {
     "name": "stdout",
     "output_type": "stream",
     "text": [
      "[11:55:03] Epoch: 2, train loss: 0.13248467445373535, val loss: 0.12127983570098877, val metric: 0.9751468710522353\n"
     ]
    },
    {
     "name": "stderr",
     "output_type": "stream",
     "text": [
      "\n",
      "train (loss=0.11448): 100%|██████████| 2660/2660 [02:03<00:00, 21.51it/s] \n",
      "val: 100%|██████████| 1330/1330 [01:02<00:00, 21.11it/s]"
     ]
    },
    {
     "name": "stdout",
     "output_type": "stream",
     "text": [
      "[11:58:09] Epoch: 3, train loss: 0.11447965353727341, val loss: 0.11149459332227707, val metric: 0.9768346789459879\n"
     ]
    },
    {
     "name": "stderr",
     "output_type": "stream",
     "text": [
      "\n",
      "train (loss=0.103458): 100%|██████████| 2660/2660 [02:06<00:00, 20.99it/s]\n",
      "val: 100%|██████████| 1330/1330 [01:04<00:00, 20.65it/s]"
     ]
    },
    {
     "name": "stdout",
     "output_type": "stream",
     "text": [
      "[12:01:20] Epoch: 4, train loss: 0.10345754027366638, val loss: 0.10722416639328003, val metric: 0.9782435623593337\n"
     ]
    },
    {
     "name": "stderr",
     "output_type": "stream",
     "text": [
      "\n",
      "train (loss=0.0963441): 100%|██████████| 2660/2660 [02:05<00:00, 21.17it/s]\n",
      "val: 100%|██████████| 1330/1330 [01:03<00:00, 20.91it/s]"
     ]
    },
    {
     "name": "stdout",
     "output_type": "stream",
     "text": [
      "[12:04:30] Epoch: 5, train loss: 0.09634406119585037, val loss: 0.10441421717405319, val metric: 0.978748563376753\n"
     ]
    },
    {
     "name": "stderr",
     "output_type": "stream",
     "text": [
      "\n",
      "train (loss=0.0900231): 100%|██████████| 2660/2660 [02:05<00:00, 21.17it/s]\n",
      "val: 100%|██████████| 1330/1330 [01:03<00:00, 20.84it/s]"
     ]
    },
    {
     "name": "stdout",
     "output_type": "stream",
     "text": [
      "[12:07:39] Epoch: 6, train loss: 0.09002314507961273, val loss: 0.10312184691429138, val metric: 0.9791290354336872\n"
     ]
    },
    {
     "name": "stderr",
     "output_type": "stream",
     "text": [
      "\n"
     ]
    },
    {
     "name": "stdout",
     "output_type": "stream",
     "text": [
      "[12:07:40] ===== Start working with \u001b[1mfold 2\u001b[0m for \u001b[1mLvl_0_Pipe_0_Mod_0_TorchNN\u001b[0m =====\n",
      "[12:07:44] number of text features: 1 \n",
      "[12:07:44] number of categorical features: 0 \n",
      "[12:07:44] number of continuous features: 0 \n"
     ]
    },
    {
     "name": "stderr",
     "output_type": "stream",
     "text": [
      "train (loss=0.257448): 100%|██████████| 2660/2660 [02:04<00:00, 21.45it/s]\n",
      "val: 100%|██████████| 1330/1330 [01:00<00:00, 21.91it/s]\n"
     ]
    },
    {
     "name": "stdout",
     "output_type": "stream",
     "text": [
      "[12:10:50] Epoch: 0, train loss: 0.2574479281902313, val loss: 0.19449889659881592, val metric: 0.9648288318293945\n"
     ]
    },
    {
     "name": "stderr",
     "output_type": "stream",
     "text": [
      "train (loss=0.169502): 100%|██████████| 2660/2660 [02:03<00:00, 21.52it/s]\n",
      "val: 100%|██████████| 1330/1330 [01:01<00:00, 21.79it/s]\n"
     ]
    },
    {
     "name": "stdout",
     "output_type": "stream",
     "text": [
      "[12:13:55] Epoch: 1, train loss: 0.1695016324520111, val loss: 0.14307956397533417, val metric: 0.9706200035841146\n"
     ]
    },
    {
     "name": "stderr",
     "output_type": "stream",
     "text": [
      "train (loss=0.131626): 100%|██████████| 2660/2660 [02:03<00:00, 21.54it/s]\n",
      "val: 100%|██████████| 1330/1330 [01:00<00:00, 21.84it/s]\n"
     ]
    },
    {
     "name": "stdout",
     "output_type": "stream",
     "text": [
      "[12:16:59] Epoch: 2, train loss: 0.13162554800510406, val loss: 0.12111066281795502, val metric: 0.97454294780979\n"
     ]
    },
    {
     "name": "stderr",
     "output_type": "stream",
     "text": [
      "train (loss=0.114015): 100%|██████████| 2660/2660 [02:03<00:00, 21.57it/s]\n",
      "val: 100%|██████████| 1330/1330 [01:00<00:00, 21.83it/s]\n"
     ]
    },
    {
     "name": "stdout",
     "output_type": "stream",
     "text": [
      "[12:20:04] Epoch: 3, train loss: 0.11401509493589401, val loss: 0.11131983995437622, val metric: 0.9763178957078734\n"
     ]
    },
    {
     "name": "stderr",
     "output_type": "stream",
     "text": [
      "train (loss=0.104155): 100%|██████████| 2660/2660 [02:03<00:00, 21.56it/s]\n",
      "val: 100%|██████████| 1330/1330 [01:00<00:00, 21.87it/s]\n"
     ]
    },
    {
     "name": "stdout",
     "output_type": "stream",
     "text": [
      "[12:23:08] Epoch: 4, train loss: 0.10415521264076233, val loss: 0.10691472887992859, val metric: 0.9772204526836245\n"
     ]
    },
    {
     "name": "stderr",
     "output_type": "stream",
     "text": [
      "train (loss=0.0953203): 100%|██████████| 2660/2660 [02:04<00:00, 21.41it/s]\n",
      "val: 100%|██████████| 1330/1330 [01:01<00:00, 21.67it/s]\n"
     ]
    },
    {
     "name": "stdout",
     "output_type": "stream",
     "text": [
      "[12:26:13] Epoch: 5, train loss: 0.09532025456428528, val loss: 0.10362745076417923, val metric: 0.9780747656394276\n"
     ]
    },
    {
     "name": "stderr",
     "output_type": "stream",
     "text": [
      "train (loss=0.0899258): 100%|██████████| 2660/2660 [02:04<00:00, 21.34it/s]\n",
      "val: 100%|██████████| 1330/1330 [01:01<00:00, 21.68it/s]"
     ]
    },
    {
     "name": "stdout",
     "output_type": "stream",
     "text": [
      "[12:29:20] Epoch: 6, train loss: 0.08992581069469452, val loss: 0.10427321493625641, val metric: 0.9781931517871759\n"
     ]
    },
    {
     "name": "stderr",
     "output_type": "stream",
     "text": [
      "\n",
      "val: 100%|██████████| 1330/1330 [01:01<00:00, 21.53it/s]"
     ]
    },
    {
     "name": "stdout",
     "output_type": "stream",
     "text": [
      "[12:30:21] Early stopping: val loss: 0.10362745076417923, val metric: 0.9780747656394276\n"
     ]
    },
    {
     "name": "stderr",
     "output_type": "stream",
     "text": [
      "\n"
     ]
    },
    {
     "name": "stdout",
     "output_type": "stream",
     "text": [
      "[12:30:22] Fitting \u001b[1mLvl_0_Pipe_0_Mod_0_TorchNN\u001b[0m finished. score = \u001b[1m0.9782371823652668\u001b[0m\n",
      "[12:30:22] \u001b[1mLvl_0_Pipe_0_Mod_0_TorchNN\u001b[0m fitting and predicting completed\n",
      "[12:30:22] Time left -472.15 secs\n",
      "\n",
      "[12:30:22] Time limit exceeded. Last level models will be blended and unused pipelines will be pruned.\n",
      "\n",
      "[12:30:22] \u001b[1mLayer 1 training completed.\u001b[0m\n",
      "\n",
      "[12:30:22] \u001b[1mAutoml preset training completed in 4072.15 seconds\u001b[0m\n",
      "\n",
      "[12:30:22] Model description:\n",
      "Final prediction for new objects (level 0) = \n",
      "\t 1.00000 * (3 averaged models Lvl_0_Pipe_0_Mod_0_TorchNN) \n",
      "\n",
      "[12:30:22] number of text features: 1 \n",
      "[12:30:22] number of categorical features: 0 \n",
      "[12:30:22] number of continuous features: 0 \n"
     ]
    },
    {
     "name": "stderr",
     "output_type": "stream",
     "text": [
      "test: 100%|██████████| 998/998 [00:47<00:00, 21.08it/s]\n"
     ]
    },
    {
     "name": "stdout",
     "output_type": "stream",
     "text": [
      "[12:31:15] number of text features: 1 \n",
      "[12:31:15] number of categorical features: 0 \n",
      "[12:31:15] number of continuous features: 0 \n"
     ]
    },
    {
     "name": "stderr",
     "output_type": "stream",
     "text": [
      "test: 100%|██████████| 998/998 [00:46<00:00, 21.51it/s]\n"
     ]
    },
    {
     "name": "stdout",
     "output_type": "stream",
     "text": [
      "[12:32:08] number of text features: 1 \n",
      "[12:32:08] number of categorical features: 0 \n",
      "[12:32:08] number of continuous features: 0 \n"
     ]
    },
    {
     "name": "stderr",
     "output_type": "stream",
     "text": [
      "test: 100%|██████████| 998/998 [00:46<00:00, 21.47it/s]\n"
     ]
    },
    {
     "name": "stdout",
     "output_type": "stream",
     "text": [
      "Check scores:\n",
      "OOF score: 0.9782371823652668\n",
      "TEST score: 0.9807740353486142\n",
      "CPU times: user 18min 47s, sys: 1min 15s, total: 20min 3s\n",
      "Wall time: 1h 10min 30s\n"
     ]
    }
   ],
   "source": [
    "%%time\n",
    "oof_pred = automl.fit_predict(train, roles=roles, verbose=10)\n",
    "test_pred = automl.predict(test)\n",
    "not_nan = np.any(~np.isnan(oof_pred.data), axis=1)\n",
    "\n",
    "print('Check scores:')\n",
    "print('OOF score: {}'.format(roc_auc_score(train[roles['target']].values[not_nan], oof_pred.data[not_nan][:, 0])))\n",
    "print('TEST score: {}'.format(roc_auc_score(test[roles['target']].values, test_pred.data[:, 0])))"
   ]
  },
  {
   "cell_type": "code",
   "execution_count": null,
   "metadata": {
    "id": "OYn5WGOd2TrA"
   },
   "outputs": [],
   "source": [
    "automl.set_verbosity_level(0) # refuse logging in automl"
   ]
  },
  {
   "cell_type": "markdown",
   "metadata": {
    "id": "fTvPRLYs2TrB"
   },
   "source": [
    "## LIME"
   ]
  },
  {
   "cell_type": "markdown",
   "metadata": {
    "id": "VOZtx6ia2TrB"
   },
   "source": [
    "![lime](https://github.com/sb-ai-lab/LightAutoML/blob/master/imgs/lime.jpg?raw=1)"
   ]
  },
  {
   "cell_type": "code",
   "execution_count": null,
   "metadata": {
    "id": "QB-OfdwI2TrB"
   },
   "outputs": [],
   "source": [
    "# LimeTextExplainer for NLP preset\n",
    "lime = LimeTextExplainer(automl, feature_selection='lasso', force_order=False)"
   ]
  },
  {
   "cell_type": "markdown",
   "metadata": {
    "id": "lYL6EOQc2TrF"
   },
   "source": [
    "### Toxic examples"
   ]
  },
  {
   "cell_type": "code",
   "execution_count": null,
   "metadata": {
    "id": "ipQRGMds2TrI",
    "outputId": "ab8332bc-4179-44c4-ce10-e8d58e7ba213"
   },
   "outputs": [
    {
     "name": "stderr",
     "output_type": "stream",
     "text": [
      "test: 100%|██████████| 157/157 [00:01<00:00, 93.42it/s]\n",
      "test: 100%|██████████| 157/157 [00:01<00:00, 92.47it/s]\n",
      "test: 100%|██████████| 157/157 [00:01<00:00, 93.75it/s]\n"
     ]
    },
    {
     "data": {
      "text/html": [
       "\n",
       "    <div>\n",
       "        <p style=\"text-align: center\">\n",
       "            Text\n",
       "        </p>\n",
       "        <div style=\"border: 1px solid black;\">\n",
       "            <p style=\"font-size:14px;; margin-left: 1%; margin-right: 1%;\"><span style=\"background-color: #DADAFF;\">A</span> <span style=\"background-color: #FFFEFE;\"> </span> <span style=\"background-color: #9E9EFF;\">silly</span> <span style=\"background-color: #FFFEFE;\"> </span> <span style=\"background-color: #8080FF;\">fat</span> <span style=\"background-color: #FFFEFE;\"> </span> <span style=\"background-color: #A2A2FF;\">cow</span> <span style=\"background-color: #FFFEFE;\"> </span> <span style=\"background-color: #FFFCFC;\">who</span> <span style=\"background-color: #FFFEFE;\"> </span> <span style=\"background-color: #FFE2E2;\">won</span> <span style=\"background-color: #FFFEFE;\">'</span> <span style=\"background-color: #FCFCFF;\">t</span> <span style=\"background-color: #FFFEFE;\"> </span> <span style=\"background-color: #FEFEFF;\">leave</span> <span style=\"background-color: #FFFEFE;\"> </span> <span style=\"background-color: #F2F2FF;\">me</span> <span style=\"background-color: #FFFEFE;\"> </span> <span style=\"background-color: #FEFEFF;\">alone</span></p>\n",
       "        </div>\n",
       "        \n",
       "        <p style=\"text-align: center\">\n",
       "            Class mapping\n",
       "        </p>\n",
       "        <div style=\"margin-left: 10%; margin-right: 10%; \">\n",
       "            <div id=\"grad\" style=\"background: linear-gradient(90deg, #FF7E7E 0%, #FFFEFE 50%, #8080FF 100%); border: 1px solid black; margin-left: 5.0em; margin-right: 5.0em; float: center; \">\n",
       "                <p style=\"text-align:left; margin-left: 1%; margin-right: 1%; color: white;\">\n",
       "                    Class: 0\n",
       "                    <span style=\"float:right;\">\n",
       "                        Class: 1\n",
       "                    </span>\n",
       "                </p>\n",
       "            </div>\n",
       "\n",
       "            <div style=\"margin-left: 5.0em; margin-right: 5.0em; \">\n",
       "                <div style=\"border-left: 1px solid black; height: 18px; float: left; width: 9.97%;\"><span style=\"position: relative; top: 1em; left: -1.085em\">-2.3</span></div> <div style=\"border-left: 1px solid black; height: 18px; float: left; width: 9.97%;\"><span style=\"position: relative; top: 1em; left: -1.085em\">-1.8</span></div> <div style=\"border-left: 1px solid black; height: 18px; float: left; width: 9.97%;\"><span style=\"position: relative; top: 1em; left: -1.085em\">-1.4</span></div> <div style=\"border-left: 1px solid black; height: 18px; float: left; width: 9.97%;\"><span style=\"position: relative; top: 1em; left: -1.085em\">-0.9</span></div> <div style=\"border-left: 1px solid black; height: 18px; float: left; width: 9.97%;\"><span style=\"position: relative; top: 1em; left: -1.085em\">-0.5</span></div> <div style=\"border-left: 1px solid black; height: 18px; float: left; width: 9.97%;\"><span style=\"position: relative; top: 1em; left: -0.7em\">0.0</span></div> <div style=\"border-left: 1px solid black; height: 18px; float: left; width: 9.97%;\"><span style=\"position: relative; top: 1em; left: -0.7em\">0.5</span></div> <div style=\"border-left: 1px solid black; height: 18px; float: left; width: 9.97%;\"><span style=\"position: relative; top: 1em; left: -0.7em\">0.9</span></div> <div style=\"border-left: 1px solid black; height: 18px; float: left; width: 9.97%;\"><span style=\"position: relative; top: 1em; left: -0.7em\">1.4</span></div> <div style=\"border-left: 1px solid black; height: 18px; float: left; width: 9.97%;\"><span style=\"position: relative; top: 1em; left: -0.7em\">1.8</span></div> <div style=\"border-left: 1px solid black; height: 18px; float: left; width: 0%;\"><span style=\"position: relative; top: 1em; left: -0.7em\">2.3</span></div>\n",
       "            </div>\n",
       "\n",
       "            <div style=\"float: right; right: 0.75em; top: -3em; position: relative; font-weight: bold;\">Scale</div>\n",
       "            <div style=\"float: right; right: -2em; top: -2.9em; position: relative; font-weight: bold;\">✕ 1e-01</div>\n",
       "\n",
       "            <div style=\"float: left; left: -5.5em; top: -4.42em; position: relative;  font-weight: bold;\">AutoML's prediction</div>\n",
       "            <div style=\"float: left; left: -8.22em; top: -2.9em; position: relative;  font-weight: bold;\">0.913</div>\n",
       "        </div>\n",
       "        \n",
       "    </div>\n",
       "    "
      ]
     },
     "metadata": {},
     "output_type": "display_data"
    }
   ],
   "source": [
    "exp = lime.explain_instance(test.loc[78687], labels=(0, 1), perturb_column='comment_text')\n",
    "exp.visualize_in_notebook(1)"
   ]
  },
  {
   "cell_type": "markdown",
   "metadata": {
    "id": "JrWeZkcN2TrT"
   },
   "source": [
    "Another one."
   ]
  },
  {
   "cell_type": "code",
   "execution_count": null,
   "metadata": {
    "id": "w1XCYgk52TrT",
    "outputId": "8714b2e7-648a-4094-f2d0-06775410fc12"
   },
   "outputs": [
    {
     "name": "stderr",
     "output_type": "stream",
     "text": [
      "test: 100%|██████████| 157/157 [00:02<00:00, 57.57it/s]\n",
      "test: 100%|██████████| 157/157 [00:02<00:00, 56.72it/s]\n",
      "test: 100%|██████████| 157/157 [00:02<00:00, 56.36it/s]\n"
     ]
    },
    {
     "data": {
      "text/html": [
       "\n",
       "    <div>\n",
       "        <p style=\"text-align: center\">\n",
       "            Text\n",
       "        </p>\n",
       "        <div style=\"border: 1px solid black;\">\n",
       "            <p style=\"font-size:14px;; margin-left: 1%; margin-right: 1%;\"><span style=\"background-color: #F8F8FF;\">stop</span> <span style=\"background-color: #FFFEFE;\"> </span> <span style=\"background-color: #FFF4F4;\">editing</span> <span style=\"background-color: #FFFEFE;\"> </span> <span style=\"background-color: #FFFEFE;\">this</span> <span style=\"background-color: #FFFEFE;\">, </span> <span style=\"background-color: #ECECFF;\">you</span> <span style=\"background-color: #FFFEFE;\"> </span> <span style=\"background-color: #8888FF;\">dumbass</span> <span style=\"background-color: #FFFEFE;\">. </span> <span style=\"background-color: #FFF4F4;\">why</span> <span style=\"background-color: #FFFEFE;\"> </span> <span style=\"background-color: #FFFEFE;\">do</span> <span style=\"background-color: #FFFEFE;\"> </span> <span style=\"background-color: #ECECFF;\">you</span> <span style=\"background-color: #FFFEFE;\"> </span> <span style=\"background-color: #FFFCFC;\">have</span> <span style=\"background-color: #FFFEFE;\"> </span> <span style=\"background-color: #FFFCFC;\">to</span> <span style=\"background-color: #FFFEFE;\"> </span> <span style=\"background-color: #FAFAFF;\">be</span> <span style=\"background-color: #FFFEFE;\"> </span> <span style=\"background-color: #FFFEFE;\">such</span> <span style=\"background-color: #FFFEFE;\"> </span> <span style=\"background-color: #FFFCFC;\">a</span> <span style=\"background-color: #FFFEFE;\"> </span> <span style=\"background-color: #8080FF;\">bitch</span> <span style=\"background-color: #FFFEFE;\">? </span> <span style=\"background-color: #FFFCFC;\">the</span> <span style=\"background-color: #FFFEFE;\"> </span> <span style=\"background-color: #FFFAFA;\">ghosts</span> <span style=\"background-color: #FFFEFE;\"> </span> <span style=\"background-color: #FFFEFE;\">of</span> <span style=\"background-color: #FFFEFE;\"> </span> <span style=\"background-color: #FEFEFF;\">bill</span> <span style=\"background-color: #FFFEFE;\"> </span> <span style=\"background-color: #FFFEFE;\">maas</span> <span style=\"background-color: #FFFEFE;\">' </span> <span style=\"background-color: #FFFAFA;\">past</span> <span style=\"background-color: #FFFEFE;\"> </span> <span style=\"background-color: #FFFEFE;\">will</span> <span style=\"background-color: #FFFEFE;\"> </span> <span style=\"background-color: #FFFEFE;\">haunt</span> <span style=\"background-color: #FFFEFE;\"> </span> <span style=\"background-color: #ECECFF;\">you</span> <span style=\"background-color: #FFFEFE;\"> </span> <span style=\"background-color: #FFFEFE;\">forever</span> <span style=\"background-color: #FFFEFE;\">!!! </span> <span style=\"background-color: #FFFCFC;\">MWAHAHHAHAA</span></p>\n",
       "        </div>\n",
       "        \n",
       "        <p style=\"text-align: center\">\n",
       "            Class mapping\n",
       "        </p>\n",
       "        <div style=\"margin-left: 10%; margin-right: 10%; \">\n",
       "            <div id=\"grad\" style=\"background: linear-gradient(90deg, #FF7E7E 0%, #FFFEFE 50%, #8080FF 100%); border: 1px solid black; margin-left: 5.0em; margin-right: 5.0em; float: center; \">\n",
       "                <p style=\"text-align:left; margin-left: 1%; margin-right: 1%; color: white;\">\n",
       "                    Class: 0\n",
       "                    <span style=\"float:right;\">\n",
       "                        Class: 1\n",
       "                    </span>\n",
       "                </p>\n",
       "            </div>\n",
       "\n",
       "            <div style=\"margin-left: 5.0em; margin-right: 5.0em; \">\n",
       "                <div style=\"border-left: 1px solid black; height: 18px; float: left; width: 9.97%;\"><span style=\"position: relative; top: 1em; left: -1.085em\">-2.8</span></div> <div style=\"border-left: 1px solid black; height: 18px; float: left; width: 9.97%;\"><span style=\"position: relative; top: 1em; left: -1.085em\">-2.3</span></div> <div style=\"border-left: 1px solid black; height: 18px; float: left; width: 9.97%;\"><span style=\"position: relative; top: 1em; left: -1.085em\">-1.7</span></div> <div style=\"border-left: 1px solid black; height: 18px; float: left; width: 9.97%;\"><span style=\"position: relative; top: 1em; left: -1.085em\">-1.1</span></div> <div style=\"border-left: 1px solid black; height: 18px; float: left; width: 9.97%;\"><span style=\"position: relative; top: 1em; left: -1.085em\">-0.6</span></div> <div style=\"border-left: 1px solid black; height: 18px; float: left; width: 9.97%;\"><span style=\"position: relative; top: 1em; left: -0.7em\">0.0</span></div> <div style=\"border-left: 1px solid black; height: 18px; float: left; width: 9.97%;\"><span style=\"position: relative; top: 1em; left: -0.7em\">0.6</span></div> <div style=\"border-left: 1px solid black; height: 18px; float: left; width: 9.97%;\"><span style=\"position: relative; top: 1em; left: -0.7em\">1.1</span></div> <div style=\"border-left: 1px solid black; height: 18px; float: left; width: 9.97%;\"><span style=\"position: relative; top: 1em; left: -0.7em\">1.7</span></div> <div style=\"border-left: 1px solid black; height: 18px; float: left; width: 9.97%;\"><span style=\"position: relative; top: 1em; left: -0.7em\">2.3</span></div> <div style=\"border-left: 1px solid black; height: 18px; float: left; width: 0%;\"><span style=\"position: relative; top: 1em; left: -0.7em\">2.8</span></div>\n",
       "            </div>\n",
       "\n",
       "            <div style=\"float: right; right: 0.75em; top: -3em; position: relative; font-weight: bold;\">Scale</div>\n",
       "            <div style=\"float: right; right: -2em; top: -2.9em; position: relative; font-weight: bold;\">✕ 1e-01</div>\n",
       "\n",
       "            <div style=\"float: left; left: -5.5em; top: -4.42em; position: relative;  font-weight: bold;\">AutoML's prediction</div>\n",
       "            <div style=\"float: left; left: -8.22em; top: -2.9em; position: relative;  font-weight: bold;\">0.920</div>\n",
       "        </div>\n",
       "        \n",
       "    </div>\n",
       "    "
      ]
     },
     "metadata": {},
     "output_type": "display_data"
    }
   ],
   "source": [
    "exp = lime.explain_instance(test.loc[40112], labels=(0, 1), perturb_column='comment_text', n_features=20) \n",
    "exp.visualize_in_notebook(1)"
   ]
  },
  {
   "cell_type": "markdown",
   "metadata": {
    "id": "rHcyiob62TrT"
   },
   "source": [
    "Let's replace toxic word with 'good boy'"
   ]
  },
  {
   "cell_type": "code",
   "execution_count": null,
   "metadata": {
    "id": "Wn1GfaLp2TrT"
   },
   "outputs": [],
   "source": [
    "test.loc[40112, 'comment_text'] = \"stop editing this, you good boy. why do you have to be such a good boy? the ghosts of bill maas' past will haunt you forever!!! MWAHAHHAHAA\""
   ]
  },
  {
   "cell_type": "code",
   "execution_count": null,
   "metadata": {
    "id": "YsUnYltA2TrT",
    "outputId": "c2a344c1-be5b-49f4-9929-9fd34fb0194a"
   },
   "outputs": [
    {
     "name": "stderr",
     "output_type": "stream",
     "text": [
      "test: 100%|██████████| 157/157 [00:02<00:00, 55.40it/s]\n",
      "test: 100%|██████████| 157/157 [00:02<00:00, 56.35it/s]\n",
      "test: 100%|██████████| 157/157 [00:02<00:00, 55.86it/s]\n"
     ]
    },
    {
     "data": {
      "text/html": [
       "\n",
       "    <div>\n",
       "        <p style=\"text-align: center\">\n",
       "            Text\n",
       "        </p>\n",
       "        <div style=\"border: 1px solid black;\">\n",
       "            <p style=\"font-size:14px;; margin-left: 1%; margin-right: 1%;\"><span style=\"background-color: #D8D8FF;\">stop</span> <span style=\"background-color: #FFFEFE;\"> </span> <span style=\"background-color: #FFC3C3;\">editing</span> <span style=\"background-color: #FFFEFE;\"> </span> <span style=\"background-color: #FFFEFE;\">this</span> <span style=\"background-color: #FFFEFE;\">, </span> <span style=\"background-color: #8080FF;\">you</span> <span style=\"background-color: #FFFEFE;\"> </span> <span style=\"background-color: #FF8A8A;\">good</span> <span style=\"background-color: #FFFEFE;\"> </span> <span style=\"background-color: #CACAFF;\">boy</span> <span style=\"background-color: #FFFEFE;\">. </span> <span style=\"background-color: #FFECEC;\">why</span> <span style=\"background-color: #FFFEFE;\"> </span> <span style=\"background-color: #FFFEFE;\">do</span> <span style=\"background-color: #FFFEFE;\"> </span> <span style=\"background-color: #8080FF;\">you</span> <span style=\"background-color: #FFFEFE;\"> </span> <span style=\"background-color: #FFF2F2;\">have</span> <span style=\"background-color: #FFFEFE;\"> </span> <span style=\"background-color: #FFF2F2;\">to</span> <span style=\"background-color: #FFFEFE;\"> </span> <span style=\"background-color: #FFFEFE;\">be</span> <span style=\"background-color: #FFFEFE;\"> </span> <span style=\"background-color: #F6F6FF;\">such</span> <span style=\"background-color: #FFFEFE;\"> </span> <span style=\"background-color: #E6E6FF;\">a</span> <span style=\"background-color: #FFFEFE;\"> </span> <span style=\"background-color: #FF8A8A;\">good</span> <span style=\"background-color: #FFFEFE;\"> </span> <span style=\"background-color: #CACAFF;\">boy</span> <span style=\"background-color: #FFFEFE;\">? </span> <span style=\"background-color: #FFFAFA;\">the</span> <span style=\"background-color: #FFFEFE;\"> </span> <span style=\"background-color: #ECECFF;\">ghosts</span> <span style=\"background-color: #FFFEFE;\"> </span> <span style=\"background-color: #FFF6F6;\">of</span> <span style=\"background-color: #FFFEFE;\"> </span> <span style=\"background-color: #ECECFF;\">bill</span> <span style=\"background-color: #FFFEFE;\"> </span> <span style=\"background-color: #F0F0FF;\">maas</span> <span style=\"background-color: #FFFEFE;\">' </span> <span style=\"background-color: #FFF8F8;\">past</span> <span style=\"background-color: #FFFEFE;\"> </span> <span style=\"background-color: #F6F6FF;\">will</span> <span style=\"background-color: #FFFEFE;\"> </span> <span style=\"background-color: #FAFAFF;\">haunt</span> <span style=\"background-color: #FFFEFE;\"> </span> <span style=\"background-color: #8080FF;\">you</span> <span style=\"background-color: #FFFEFE;\"> </span> <span style=\"background-color: #ECECFF;\">forever</span> <span style=\"background-color: #FFFEFE;\">!!! </span> <span style=\"background-color: #FFF0F0;\">MWAHAHHAHAA</span></p>\n",
       "        </div>\n",
       "        \n",
       "        <p style=\"text-align: center\">\n",
       "            Class mapping\n",
       "        </p>\n",
       "        <div style=\"margin-left: 10%; margin-right: 10%; \">\n",
       "            <div id=\"grad\" style=\"background: linear-gradient(90deg, #FF7E7E 0%, #FFFEFE 50%, #8080FF 100%); border: 1px solid black; margin-left: 5.0em; margin-right: 5.0em; float: center; \">\n",
       "                <p style=\"text-align:left; margin-left: 1%; margin-right: 1%; color: white;\">\n",
       "                    Class: 0\n",
       "                    <span style=\"float:right;\">\n",
       "                        Class: 1\n",
       "                    </span>\n",
       "                </p>\n",
       "            </div>\n",
       "\n",
       "            <div style=\"margin-left: 5.0em; margin-right: 5.0em; \">\n",
       "                <div style=\"border-left: 1px solid black; height: 18px; float: left; width: 9.97%;\"><span style=\"position: relative; top: 1em; left: -1.085em\">-1.5</span></div> <div style=\"border-left: 1px solid black; height: 18px; float: left; width: 9.97%;\"><span style=\"position: relative; top: 1em; left: -1.085em\">-1.2</span></div> <div style=\"border-left: 1px solid black; height: 18px; float: left; width: 9.97%;\"><span style=\"position: relative; top: 1em; left: -1.085em\">-0.9</span></div> <div style=\"border-left: 1px solid black; height: 18px; float: left; width: 9.97%;\"><span style=\"position: relative; top: 1em; left: -1.085em\">-0.6</span></div> <div style=\"border-left: 1px solid black; height: 18px; float: left; width: 9.97%;\"><span style=\"position: relative; top: 1em; left: -1.085em\">-0.3</span></div> <div style=\"border-left: 1px solid black; height: 18px; float: left; width: 9.97%;\"><span style=\"position: relative; top: 1em; left: -0.7em\">0.0</span></div> <div style=\"border-left: 1px solid black; height: 18px; float: left; width: 9.97%;\"><span style=\"position: relative; top: 1em; left: -0.7em\">0.3</span></div> <div style=\"border-left: 1px solid black; height: 18px; float: left; width: 9.97%;\"><span style=\"position: relative; top: 1em; left: -0.7em\">0.6</span></div> <div style=\"border-left: 1px solid black; height: 18px; float: left; width: 9.97%;\"><span style=\"position: relative; top: 1em; left: -0.7em\">0.9</span></div> <div style=\"border-left: 1px solid black; height: 18px; float: left; width: 9.97%;\"><span style=\"position: relative; top: 1em; left: -0.7em\">1.2</span></div> <div style=\"border-left: 1px solid black; height: 18px; float: left; width: 0%;\"><span style=\"position: relative; top: 1em; left: -0.7em\">1.5</span></div>\n",
       "            </div>\n",
       "\n",
       "            <div style=\"float: right; right: 0.75em; top: -3em; position: relative; font-weight: bold;\">Scale</div>\n",
       "            <div style=\"float: right; right: -2em; top: -2.9em; position: relative; font-weight: bold;\">✕ 1e-01</div>\n",
       "\n",
       "            <div style=\"float: left; left: -5.5em; top: -4.42em; position: relative;  font-weight: bold;\">AutoML's prediction</div>\n",
       "            <div style=\"float: left; left: -8.22em; top: -2.9em; position: relative;  font-weight: bold;\">0.157</div>\n",
       "        </div>\n",
       "        \n",
       "    </div>\n",
       "    "
      ]
     },
     "metadata": {},
     "output_type": "display_data"
    }
   ],
   "source": [
    "exp = lime.explain_instance(test.loc[40112], labels=(0, 1), perturb_column='comment_text', n_features=20) \n",
    "exp.visualize_in_notebook(1)"
   ]
  },
  {
   "cell_type": "markdown",
   "metadata": {
    "id": "CEfe_kAo2TrV"
   },
   "source": [
    "Let's make neutral text out of toxic."
   ]
  },
  {
   "cell_type": "code",
   "execution_count": null,
   "metadata": {
    "id": "G3k8QHS82TrX",
    "outputId": "fd75eb68-b5bc-4676-ecc1-e65e9e780281"
   },
   "outputs": [
    {
     "name": "stderr",
     "output_type": "stream",
     "text": [
      "test: 100%|██████████| 157/157 [00:01<00:00, 101.90it/s]\n",
      "test: 100%|██████████| 157/157 [00:01<00:00, 100.88it/s]\n",
      "test: 100%|██████████| 157/157 [00:01<00:00, 99.18it/s] \n"
     ]
    },
    {
     "data": {
      "text/html": [
       "\n",
       "    <div>\n",
       "        <p style=\"text-align: center\">\n",
       "            Text\n",
       "        </p>\n",
       "        <div style=\"border: 1px solid black;\">\n",
       "            <p style=\"font-size:14px;; margin-left: 1%; margin-right: 1%;\"><span style=\"background-color: #D6D6FF;\">Okay</span> <span style=\"background-color: #FFFEFE;\">, </span> <span style=\"background-color: #FF7E7E;\">thanks</span> <span style=\"background-color: #FFFEFE;\">. </span> <span style=\"background-color: #FEFEFF;\">I</span> <span style=\"background-color: #FFFEFE;\"> </span> <span style=\"background-color: #FFFEFE;\">will</span> <span style=\"background-color: #FFFEFE;\"> </span> <span style=\"background-color: #FEFEFF;\">do</span> <span style=\"background-color: #FFFEFE;\"> </span> <span style=\"background-color: #FCFCFF;\">so</span> <span style=\"background-color: #FFFEFE;\"></span> <span style=\"background-color: #FFFEFE;\">.</span></p>\n",
       "        </div>\n",
       "        \n",
       "        <p style=\"text-align: center\">\n",
       "            Class mapping\n",
       "        </p>\n",
       "        <div style=\"margin-left: 10%; margin-right: 10%; \">\n",
       "            <div id=\"grad\" style=\"background: linear-gradient(90deg, #FF7E7E 0%, #FFFEFE 50%, #8080FF 100%); border: 1px solid black; margin-left: 5.0em; margin-right: 5.0em; float: center; \">\n",
       "                <p style=\"text-align:left; margin-left: 1%; margin-right: 1%; color: white;\">\n",
       "                    Class: 0\n",
       "                    <span style=\"float:right;\">\n",
       "                        Class: 1\n",
       "                    </span>\n",
       "                </p>\n",
       "            </div>\n",
       "\n",
       "            <div style=\"margin-left: 5.0em; margin-right: 5.0em; \">\n",
       "                <div style=\"border-left: 1px solid black; height: 18px; float: left; width: 9.97%;\"><span style=\"position: relative; top: 1em; left: -1.085em\">-1.2</span></div> <div style=\"border-left: 1px solid black; height: 18px; float: left; width: 9.97%;\"><span style=\"position: relative; top: 1em; left: -1.085em\">-1.0</span></div> <div style=\"border-left: 1px solid black; height: 18px; float: left; width: 9.97%;\"><span style=\"position: relative; top: 1em; left: -1.085em\">-0.7</span></div> <div style=\"border-left: 1px solid black; height: 18px; float: left; width: 9.97%;\"><span style=\"position: relative; top: 1em; left: -1.085em\">-0.5</span></div> <div style=\"border-left: 1px solid black; height: 18px; float: left; width: 9.97%;\"><span style=\"position: relative; top: 1em; left: -1.085em\">-0.2</span></div> <div style=\"border-left: 1px solid black; height: 18px; float: left; width: 9.97%;\"><span style=\"position: relative; top: 1em; left: -0.7em\">0.0</span></div> <div style=\"border-left: 1px solid black; height: 18px; float: left; width: 9.97%;\"><span style=\"position: relative; top: 1em; left: -0.7em\">0.2</span></div> <div style=\"border-left: 1px solid black; height: 18px; float: left; width: 9.97%;\"><span style=\"position: relative; top: 1em; left: -0.7em\">0.5</span></div> <div style=\"border-left: 1px solid black; height: 18px; float: left; width: 9.97%;\"><span style=\"position: relative; top: 1em; left: -0.7em\">0.7</span></div> <div style=\"border-left: 1px solid black; height: 18px; float: left; width: 9.97%;\"><span style=\"position: relative; top: 1em; left: -0.7em\">1.0</span></div> <div style=\"border-left: 1px solid black; height: 18px; float: left; width: 0%;\"><span style=\"position: relative; top: 1em; left: -0.7em\">1.2</span></div>\n",
       "            </div>\n",
       "\n",
       "            <div style=\"float: right; right: 0.75em; top: -3em; position: relative; font-weight: bold;\">Scale</div>\n",
       "            <div style=\"float: right; right: -2em; top: -2.9em; position: relative; font-weight: bold;\">✕ 1e-03</div>\n",
       "\n",
       "            <div style=\"float: left; left: -5.5em; top: -4.42em; position: relative;  font-weight: bold;\">AutoML's prediction</div>\n",
       "            <div style=\"float: left; left: -8.22em; top: -2.9em; position: relative;  font-weight: bold;\">0.003</div>\n",
       "        </div>\n",
       "        \n",
       "    </div>\n",
       "    "
      ]
     },
     "metadata": {},
     "output_type": "display_data"
    }
   ],
   "source": [
    "exp = lime.explain_instance(test.loc[18396], labels=(0, 1), perturb_column='comment_text', n_features=20) \n",
    "exp.visualize_in_notebook(1)"
   ]
  },
  {
   "cell_type": "code",
   "execution_count": null,
   "metadata": {
    "id": "oFxsW6Cs2Trc"
   },
   "outputs": [],
   "source": [
    "test.loc[18396] = \"Okay , thanks . I will do so . dumbass please\""
   ]
  },
  {
   "cell_type": "code",
   "execution_count": null,
   "metadata": {
    "id": "5eXpmpoz2Trd",
    "outputId": "1c7a3f38-ab0b-472a-9524-e30835da9b37"
   },
   "outputs": [
    {
     "name": "stderr",
     "output_type": "stream",
     "text": [
      "test: 100%|██████████| 157/157 [00:01<00:00, 89.68it/s]\n",
      "test: 100%|██████████| 157/157 [00:01<00:00, 90.71it/s]\n",
      "test: 100%|██████████| 157/157 [00:01<00:00, 90.35it/s]\n"
     ]
    },
    {
     "data": {
      "text/html": [
       "\n",
       "    <div>\n",
       "        <p style=\"text-align: center\">\n",
       "            Text\n",
       "        </p>\n",
       "        <div style=\"border: 1px solid black;\">\n",
       "            <p style=\"font-size:14px;; margin-left: 1%; margin-right: 1%;\"><span style=\"background-color: #FFFAFA;\">Okay</span> <span style=\"background-color: #FFFEFE;\"> , </span> <span style=\"background-color: #FFF4F4;\">thanks</span> <span style=\"background-color: #FFFEFE;\"> . </span> <span style=\"background-color: #FEFEFF;\">I</span> <span style=\"background-color: #FFFEFE;\"> </span> <span style=\"background-color: #FCFCFF;\">will</span> <span style=\"background-color: #FFFEFE;\"> </span> <span style=\"background-color: #FEFEFF;\">do</span> <span style=\"background-color: #FFFEFE;\"> </span> <span style=\"background-color: #FFFEFE;\">so</span> <span style=\"background-color: #FFFEFE;\"> . </span> <span style=\"background-color: #8080FF;\">dumbass</span> <span style=\"background-color: #FFFEFE;\"> </span> <span style=\"background-color: #FFFAFA;\">please</span></p>\n",
       "        </div>\n",
       "        \n",
       "        <p style=\"text-align: center\">\n",
       "            Class mapping\n",
       "        </p>\n",
       "        <div style=\"margin-left: 10%; margin-right: 10%; \">\n",
       "            <div id=\"grad\" style=\"background: linear-gradient(90deg, #FF7E7E 0%, #FFFEFE 50%, #8080FF 100%); border: 1px solid black; margin-left: 5.0em; margin-right: 5.0em; float: center; \">\n",
       "                <p style=\"text-align:left; margin-left: 1%; margin-right: 1%; color: white;\">\n",
       "                    Class: 0\n",
       "                    <span style=\"float:right;\">\n",
       "                        Class: 1\n",
       "                    </span>\n",
       "                </p>\n",
       "            </div>\n",
       "\n",
       "            <div style=\"margin-left: 5.0em; margin-right: 5.0em; \">\n",
       "                <div style=\"border-left: 1px solid black; height: 18px; float: left; width: 9.97%;\"><span style=\"position: relative; top: 1em; left: -1.085em\">-8.0</span></div> <div style=\"border-left: 1px solid black; height: 18px; float: left; width: 9.97%;\"><span style=\"position: relative; top: 1em; left: -1.085em\">-6.4</span></div> <div style=\"border-left: 1px solid black; height: 18px; float: left; width: 9.97%;\"><span style=\"position: relative; top: 1em; left: -1.085em\">-4.8</span></div> <div style=\"border-left: 1px solid black; height: 18px; float: left; width: 9.97%;\"><span style=\"position: relative; top: 1em; left: -1.085em\">-3.2</span></div> <div style=\"border-left: 1px solid black; height: 18px; float: left; width: 9.97%;\"><span style=\"position: relative; top: 1em; left: -1.085em\">-1.6</span></div> <div style=\"border-left: 1px solid black; height: 18px; float: left; width: 9.97%;\"><span style=\"position: relative; top: 1em; left: -0.7em\">0.0</span></div> <div style=\"border-left: 1px solid black; height: 18px; float: left; width: 9.97%;\"><span style=\"position: relative; top: 1em; left: -0.7em\">1.6</span></div> <div style=\"border-left: 1px solid black; height: 18px; float: left; width: 9.97%;\"><span style=\"position: relative; top: 1em; left: -0.7em\">3.2</span></div> <div style=\"border-left: 1px solid black; height: 18px; float: left; width: 9.97%;\"><span style=\"position: relative; top: 1em; left: -0.7em\">4.8</span></div> <div style=\"border-left: 1px solid black; height: 18px; float: left; width: 9.97%;\"><span style=\"position: relative; top: 1em; left: -0.7em\">6.4</span></div> <div style=\"border-left: 1px solid black; height: 18px; float: left; width: 0%;\"><span style=\"position: relative; top: 1em; left: -0.7em\">8.0</span></div>\n",
       "            </div>\n",
       "\n",
       "            <div style=\"float: right; right: 0.75em; top: -3em; position: relative; font-weight: bold;\">Scale</div>\n",
       "            <div style=\"float: right; right: -2em; top: -2.9em; position: relative; font-weight: bold;\">✕ 1e-01</div>\n",
       "\n",
       "            <div style=\"float: left; left: -5.5em; top: -4.42em; position: relative;  font-weight: bold;\">AutoML's prediction</div>\n",
       "            <div style=\"float: left; left: -8.22em; top: -2.9em; position: relative;  font-weight: bold;\">0.696</div>\n",
       "        </div>\n",
       "        \n",
       "    </div>\n",
       "    "
      ]
     },
     "metadata": {},
     "output_type": "display_data"
    }
   ],
   "source": [
    "exp = lime.explain_instance(test.loc[18396], labels=(0, 1), perturb_column='comment_text', n_features=20) \n",
    "exp.visualize_in_notebook(1)"
   ]
  },
  {
   "cell_type": "markdown",
   "metadata": {
    "id": "iMm1HwAk2Trf"
   },
   "source": [
    "Add some 'happy' words."
   ]
  },
  {
   "cell_type": "code",
   "execution_count": null,
   "metadata": {
    "id": "KmXFw9bu2Tri"
   },
   "outputs": [],
   "source": [
    "test.loc[18396] = \"Okay , thanks . I will do so . happy dumbass please\""
   ]
  },
  {
   "cell_type": "code",
   "execution_count": null,
   "metadata": {
    "id": "Z3Vv4Hr92Tri",
    "outputId": "e891161d-1c85-44ea-c2ab-8b4e4dc8cfe1"
   },
   "outputs": [
    {
     "name": "stderr",
     "output_type": "stream",
     "text": [
      "test: 100%|██████████| 157/157 [00:01<00:00, 86.02it/s]\n",
      "test: 100%|██████████| 157/157 [00:01<00:00, 87.59it/s]\n",
      "test: 100%|██████████| 157/157 [00:01<00:00, 85.69it/s]\n"
     ]
    },
    {
     "data": {
      "text/html": [
       "\n",
       "    <div>\n",
       "        <p style=\"text-align: center\">\n",
       "            Text\n",
       "        </p>\n",
       "        <div style=\"border: 1px solid black;\">\n",
       "            <p style=\"font-size:14px;; margin-left: 1%; margin-right: 1%;\"><span style=\"background-color: #FFF4F4;\">Okay</span> <span style=\"background-color: #FFFEFE;\"> , </span> <span style=\"background-color: #FFECEC;\">thanks</span> <span style=\"background-color: #FFFEFE;\"> . </span> <span style=\"background-color: #FFFEFE;\">I</span> <span style=\"background-color: #FFFEFE;\"> </span> <span style=\"background-color: #FCFCFF;\">will</span> <span style=\"background-color: #FFFEFE;\"> </span> <span style=\"background-color: #FFFEFE;\">do</span> <span style=\"background-color: #FFFEFE;\"> </span> <span style=\"background-color: #FFFCFC;\">so</span> <span style=\"background-color: #FFFEFE;\"> . </span> <span style=\"background-color: #FFEEEE;\">happy</span> <span style=\"background-color: #FFFEFE;\"> </span> <span style=\"background-color: #8080FF;\">dumbass</span> <span style=\"background-color: #FFFEFE;\"> </span> <span style=\"background-color: #FFF8F8;\">please</span></p>\n",
       "        </div>\n",
       "        \n",
       "        <p style=\"text-align: center\">\n",
       "            Class mapping\n",
       "        </p>\n",
       "        <div style=\"margin-left: 10%; margin-right: 10%; \">\n",
       "            <div id=\"grad\" style=\"background: linear-gradient(90deg, #FF7E7E 0%, #FFFEFE 50%, #8080FF 100%); border: 1px solid black; margin-left: 5.0em; margin-right: 5.0em; float: center; \">\n",
       "                <p style=\"text-align:left; margin-left: 1%; margin-right: 1%; color: white;\">\n",
       "                    Class: 0\n",
       "                    <span style=\"float:right;\">\n",
       "                        Class: 1\n",
       "                    </span>\n",
       "                </p>\n",
       "            </div>\n",
       "\n",
       "            <div style=\"margin-left: 5.0em; margin-right: 5.0em; \">\n",
       "                <div style=\"border-left: 1px solid black; height: 18px; float: left; width: 9.97%;\"><span style=\"position: relative; top: 1em; left: -1.085em\">-7.0</span></div> <div style=\"border-left: 1px solid black; height: 18px; float: left; width: 9.97%;\"><span style=\"position: relative; top: 1em; left: -1.085em\">-5.6</span></div> <div style=\"border-left: 1px solid black; height: 18px; float: left; width: 9.97%;\"><span style=\"position: relative; top: 1em; left: -1.085em\">-4.2</span></div> <div style=\"border-left: 1px solid black; height: 18px; float: left; width: 9.97%;\"><span style=\"position: relative; top: 1em; left: -1.085em\">-2.8</span></div> <div style=\"border-left: 1px solid black; height: 18px; float: left; width: 9.97%;\"><span style=\"position: relative; top: 1em; left: -1.085em\">-1.4</span></div> <div style=\"border-left: 1px solid black; height: 18px; float: left; width: 9.97%;\"><span style=\"position: relative; top: 1em; left: -0.7em\">0.0</span></div> <div style=\"border-left: 1px solid black; height: 18px; float: left; width: 9.97%;\"><span style=\"position: relative; top: 1em; left: -0.7em\">1.4</span></div> <div style=\"border-left: 1px solid black; height: 18px; float: left; width: 9.97%;\"><span style=\"position: relative; top: 1em; left: -0.7em\">2.8</span></div> <div style=\"border-left: 1px solid black; height: 18px; float: left; width: 9.97%;\"><span style=\"position: relative; top: 1em; left: -0.7em\">4.2</span></div> <div style=\"border-left: 1px solid black; height: 18px; float: left; width: 9.97%;\"><span style=\"position: relative; top: 1em; left: -0.7em\">5.6</span></div> <div style=\"border-left: 1px solid black; height: 18px; float: left; width: 0%;\"><span style=\"position: relative; top: 1em; left: -0.7em\">7.0</span></div>\n",
       "            </div>\n",
       "\n",
       "            <div style=\"float: right; right: 0.75em; top: -3em; position: relative; font-weight: bold;\">Scale</div>\n",
       "            <div style=\"float: right; right: -2em; top: -2.9em; position: relative; font-weight: bold;\">✕ 1e-01</div>\n",
       "\n",
       "            <div style=\"float: left; left: -5.5em; top: -4.42em; position: relative;  font-weight: bold;\">AutoML's prediction</div>\n",
       "            <div style=\"float: left; left: -8.22em; top: -2.9em; position: relative;  font-weight: bold;\">0.513</div>\n",
       "        </div>\n",
       "        \n",
       "    </div>\n",
       "    "
      ]
     },
     "metadata": {},
     "output_type": "display_data"
    }
   ],
   "source": [
    "exp = lime.explain_instance(test.loc[18396], labels=(0, 1), perturb_column='comment_text', n_features=20) \n",
    "exp.visualize_in_notebook(1)"
   ]
  },
  {
   "cell_type": "markdown",
   "metadata": {
    "id": "66tSc91C2Tri"
   },
   "source": [
    "A little bit more."
   ]
  },
  {
   "cell_type": "code",
   "execution_count": null,
   "metadata": {
    "id": "m3rTQmfW2Tri"
   },
   "outputs": [],
   "source": [
    "test.loc[18396] = \"Okay , thanks . I will do so . happy cheerful joyfull glorious elated dumbass please\""
   ]
  },
  {
   "cell_type": "code",
   "execution_count": null,
   "metadata": {
    "id": "neNr2o312Trj",
    "outputId": "9ed24f27-e33c-44e2-a042-04fe6464616b"
   },
   "outputs": [
    {
     "name": "stderr",
     "output_type": "stream",
     "text": [
      "test: 100%|██████████| 157/157 [00:02<00:00, 75.00it/s]\n",
      "test: 100%|██████████| 157/157 [00:02<00:00, 74.62it/s]\n",
      "test: 100%|██████████| 157/157 [00:02<00:00, 74.52it/s]\n"
     ]
    },
    {
     "data": {
      "text/html": [
       "\n",
       "    <div>\n",
       "        <p style=\"text-align: center\">\n",
       "            Text\n",
       "        </p>\n",
       "        <div style=\"border: 1px solid black;\">\n",
       "            <p style=\"font-size:14px;; margin-left: 1%; margin-right: 1%;\"><span style=\"background-color: #FFECEC;\">Okay</span> <span style=\"background-color: #FFFEFE;\"> , </span> <span style=\"background-color: #FFDCDC;\">thanks</span> <span style=\"background-color: #FFFEFE;\"> . </span> <span style=\"background-color: #FFFEFE;\">I</span> <span style=\"background-color: #FFFEFE;\"> </span> <span style=\"background-color: #FAFAFF;\">will</span> <span style=\"background-color: #FFFEFE;\"> </span> <span style=\"background-color: #FFFEFE;\">do</span> <span style=\"background-color: #FFFEFE;\"> </span> <span style=\"background-color: #FEFEFF;\">so</span> <span style=\"background-color: #FFFEFE;\"> . </span> <span style=\"background-color: #FFE6E6;\">happy</span> <span style=\"background-color: #FFFEFE;\"> </span> <span style=\"background-color: #FFEAEA;\">cheerful</span> <span style=\"background-color: #FFFEFE;\"> </span> <span style=\"background-color: #FFF4F4;\">joyfull</span> <span style=\"background-color: #FFFEFE;\"> </span> <span style=\"background-color: #FFFCFC;\">glorious</span> <span style=\"background-color: #FFFEFE;\"> </span> <span style=\"background-color: #FFFAFA;\">elated</span> <span style=\"background-color: #FFFEFE;\"> </span> <span style=\"background-color: #8080FF;\">dumbass</span> <span style=\"background-color: #FFFEFE;\"> </span> <span style=\"background-color: #FFF2F2;\">please</span></p>\n",
       "        </div>\n",
       "        \n",
       "        <p style=\"text-align: center\">\n",
       "            Class mapping\n",
       "        </p>\n",
       "        <div style=\"margin-left: 10%; margin-right: 10%; \">\n",
       "            <div id=\"grad\" style=\"background: linear-gradient(90deg, #FF7E7E 0%, #FFFEFE 50%, #8080FF 100%); border: 1px solid black; margin-left: 5.0em; margin-right: 5.0em; float: center; \">\n",
       "                <p style=\"text-align:left; margin-left: 1%; margin-right: 1%; color: white;\">\n",
       "                    Class: 0\n",
       "                    <span style=\"float:right;\">\n",
       "                        Class: 1\n",
       "                    </span>\n",
       "                </p>\n",
       "            </div>\n",
       "\n",
       "            <div style=\"margin-left: 5.0em; margin-right: 5.0em; \">\n",
       "                <div style=\"border-left: 1px solid black; height: 18px; float: left; width: 9.97%;\"><span style=\"position: relative; top: 1em; left: -1.085em\">-4.9</span></div> <div style=\"border-left: 1px solid black; height: 18px; float: left; width: 9.97%;\"><span style=\"position: relative; top: 1em; left: -1.085em\">-3.9</span></div> <div style=\"border-left: 1px solid black; height: 18px; float: left; width: 9.97%;\"><span style=\"position: relative; top: 1em; left: -1.085em\">-2.9</span></div> <div style=\"border-left: 1px solid black; height: 18px; float: left; width: 9.97%;\"><span style=\"position: relative; top: 1em; left: -1.085em\">-2.0</span></div> <div style=\"border-left: 1px solid black; height: 18px; float: left; width: 9.97%;\"><span style=\"position: relative; top: 1em; left: -1.085em\">-1.0</span></div> <div style=\"border-left: 1px solid black; height: 18px; float: left; width: 9.97%;\"><span style=\"position: relative; top: 1em; left: -0.7em\">0.0</span></div> <div style=\"border-left: 1px solid black; height: 18px; float: left; width: 9.97%;\"><span style=\"position: relative; top: 1em; left: -0.7em\">1.0</span></div> <div style=\"border-left: 1px solid black; height: 18px; float: left; width: 9.97%;\"><span style=\"position: relative; top: 1em; left: -0.7em\">2.0</span></div> <div style=\"border-left: 1px solid black; height: 18px; float: left; width: 9.97%;\"><span style=\"position: relative; top: 1em; left: -0.7em\">2.9</span></div> <div style=\"border-left: 1px solid black; height: 18px; float: left; width: 9.97%;\"><span style=\"position: relative; top: 1em; left: -0.7em\">3.9</span></div> <div style=\"border-left: 1px solid black; height: 18px; float: left; width: 0%;\"><span style=\"position: relative; top: 1em; left: -0.7em\">4.9</span></div>\n",
       "            </div>\n",
       "\n",
       "            <div style=\"float: right; right: 0.75em; top: -3em; position: relative; font-weight: bold;\">Scale</div>\n",
       "            <div style=\"float: right; right: -2em; top: -2.9em; position: relative; font-weight: bold;\">✕ 1e-01</div>\n",
       "\n",
       "            <div style=\"float: left; left: -5.5em; top: -4.42em; position: relative;  font-weight: bold;\">AutoML's prediction</div>\n",
       "            <div style=\"float: left; left: -8.22em; top: -2.9em; position: relative;  font-weight: bold;\">0.175</div>\n",
       "        </div>\n",
       "        \n",
       "    </div>\n",
       "    "
      ]
     },
     "metadata": {},
     "output_type": "display_data"
    }
   ],
   "source": [
    "exp = lime.explain_instance(test.loc[18396], labels=(0, 1), perturb_column='comment_text', n_features=20) \n",
    "exp.visualize_in_notebook(1)"
   ]
  },
  {
   "cell_type": "markdown",
   "metadata": {
    "id": "Y0o0dPla2Trj"
   },
   "source": [
    "## L2X for Regression"
   ]
  },
  {
   "cell_type": "markdown",
   "metadata": {
    "id": "-2GcrJDT2Trj"
   },
   "source": [
    "For L2X, take the [BeerAdvocate](http://people.csail.mit.edu/taolei/beer/) dataset. It consists of descriptions of alcoholic beverages and five their characteristics. We will use overall appearance as a target."
   ]
  },
  {
   "cell_type": "code",
   "execution_count": null,
   "metadata": {
    "id": "3Ibnmwmj2Trj",
    "outputId": "0be7da60-a563-4b61-b098-b1bb3d26b7a8"
   },
   "outputs": [
    {
     "name": "stdout",
     "output_type": "stream",
     "text": [
      "GET: 200 CODE\n",
      "Started downloading...\n",
      "Downloaded.\n"
     ]
    }
   ],
   "source": [
    "def download_from_gdrive(file_id, file_name, chunk_size=2**15):\n",
    "    import requests\n",
    "    \n",
    "    def handle_warning(res):\n",
    "        for k, v in res.cookies.items():\n",
    "            if k.startswith(\"download_warning\"):\n",
    "                return v\n",
    "            \n",
    "    template_url = \"https://docs.google.com/uc?export=download\"\n",
    "    session = requests.Session()\n",
    "    res = session.get(template_url, params={\"id\": file_id}, stream=True)\n",
    "    print('GET: {} CODE'.format(res.status_code))\n",
    "    token = handle_warning(res)\n",
    "    if token:\n",
    "        res = session.get(template_url, params={\"id\": file_id, \"confirm\": token}, stream=True)\n",
    "    print('Started downloading...')\n",
    "    with open(file_name, 'wb') as f:\n",
    "        for chunk in res.iter_content(chunk_size):\n",
    "            if chunk:\n",
    "                f.write(chunk)\n",
    "    print('Downloaded.')\n",
    "\n",
    "    \n",
    "download_from_gdrive('1s8PG13Y0BvYM67nNL0EQpdgB5S4gJK9r', 'beeradvocate.tar.gz')\n",
    "shutil.unpack_archive('beeradvocate.tar.gz', '.')"
   ]
  },
  {
   "cell_type": "code",
   "execution_count": null,
   "metadata": {
    "id": "_jyHJxOl2Trj",
    "outputId": "dfa1ba20-ac9b-455a-c64f-c895c142c252"
   },
   "outputs": [
    {
     "data": {
      "text/html": [
       "<div>\n",
       "<style scoped>\n",
       "    .dataframe tbody tr th:only-of-type {\n",
       "        vertical-align: middle;\n",
       "    }\n",
       "\n",
       "    .dataframe tbody tr th {\n",
       "        vertical-align: top;\n",
       "    }\n",
       "\n",
       "    .dataframe thead th {\n",
       "        text-align: right;\n",
       "    }\n",
       "</style>\n",
       "<table border=\"1\" class=\"dataframe\">\n",
       "  <thead>\n",
       "    <tr style=\"text-align: right;\">\n",
       "      <th></th>\n",
       "      <th>Appearance</th>\n",
       "      <th>Aroma</th>\n",
       "      <th>Palate</th>\n",
       "      <th>Taste</th>\n",
       "      <th>Overall</th>\n",
       "      <th>Review</th>\n",
       "      <th>tokens_number</th>\n",
       "    </tr>\n",
       "  </thead>\n",
       "  <tbody>\n",
       "    <tr>\n",
       "      <th>0</th>\n",
       "      <td>1.5</td>\n",
       "      <td>1.5</td>\n",
       "      <td>2.5</td>\n",
       "      <td>1.5</td>\n",
       "      <td>1.5</td>\n",
       "      <td>the main problem with this beer is that it has...</td>\n",
       "      <td>62</td>\n",
       "    </tr>\n",
       "    <tr>\n",
       "      <th>1</th>\n",
       "      <td>2.0</td>\n",
       "      <td>2.0</td>\n",
       "      <td>3.0</td>\n",
       "      <td>2.0</td>\n",
       "      <td>3.0</td>\n",
       "      <td>it is very unfortunate this situation we have ...</td>\n",
       "      <td>179</td>\n",
       "    </tr>\n",
       "    <tr>\n",
       "      <th>2</th>\n",
       "      <td>4.0</td>\n",
       "      <td>2.5</td>\n",
       "      <td>3.0</td>\n",
       "      <td>1.5</td>\n",
       "      <td>2.0</td>\n",
       "      <td>appearance is a light golden yellow with a thi...</td>\n",
       "      <td>79</td>\n",
       "    </tr>\n",
       "    <tr>\n",
       "      <th>3</th>\n",
       "      <td>4.5</td>\n",
       "      <td>3.5</td>\n",
       "      <td>2.0</td>\n",
       "      <td>3.5</td>\n",
       "      <td>3.0</td>\n",
       "      <td>it has a great color to the body . this beer p...</td>\n",
       "      <td>87</td>\n",
       "    </tr>\n",
       "    <tr>\n",
       "      <th>4</th>\n",
       "      <td>4.0</td>\n",
       "      <td>4.5</td>\n",
       "      <td>1.0</td>\n",
       "      <td>1.5</td>\n",
       "      <td>1.0</td>\n",
       "      <td>though this beer is , or course , not carbonat...</td>\n",
       "      <td>246</td>\n",
       "    </tr>\n",
       "  </tbody>\n",
       "</table>\n",
       "</div>"
      ],
      "text/plain": [
       "   Appearance  Aroma  Palate  Taste  Overall  \\\n",
       "0         1.5    1.5     2.5    1.5      1.5   \n",
       "1         2.0    2.0     3.0    2.0      3.0   \n",
       "2         4.0    2.5     3.0    1.5      2.0   \n",
       "3         4.5    3.5     2.0    3.5      3.0   \n",
       "4         4.0    4.5     1.0    1.5      1.0   \n",
       "\n",
       "                                              Review  tokens_number  \n",
       "0  the main problem with this beer is that it has...             62  \n",
       "1  it is very unfortunate this situation we have ...            179  \n",
       "2  appearance is a light golden yellow with a thi...             79  \n",
       "3  it has a great color to the body . this beer p...             87  \n",
       "4  though this beer is , or course , not carbonat...            246  "
      ]
     },
     "execution_count": 26,
     "metadata": {},
     "output_type": "execute_result"
    }
   ],
   "source": [
    "train_data = pd.read_csv('./datasets/reviews.aspect0.train.csv')\n",
    "valid_data = pd.read_csv('./datasets/reviews.aspect0.heldout.csv')\n",
    "\n",
    "train_data.head()"
   ]
  },
  {
   "cell_type": "markdown",
   "metadata": {
    "id": "G0bwz3WL2Trj"
   },
   "source": [
    "### Train AutoML\n",
    "\n",
    "In this part we use BERT-Base model."
   ]
  },
  {
   "cell_type": "code",
   "execution_count": null,
   "metadata": {
    "id": "EFgzwOU72Trk",
    "outputId": "0c617f0e-a1ff-40fc-9790-1e566dd01be2"
   },
   "outputs": [
    {
     "name": "stdout",
     "output_type": "stream",
     "text": [
      "[12:38:00] Stdout logging level is INFO2.\n",
      "[12:38:00] Task: reg\n",
      "\n",
      "[12:38:00] Start automl preset with listed constraints:\n",
      "[12:38:00] - time: 3600.00 seconds\n",
      "[12:38:00] - CPU: 1 cores\n",
      "[12:38:00] - memory: 16 GB\n",
      "\n",
      "[12:38:00] \u001b[1mTrain data shape: (80000, 7)\u001b[0m\n",
      "\n",
      "[12:38:01] Layer \u001b[1m1\u001b[0m train process start. Time left 3599.63 secs\n",
      "[12:38:01] Start fitting \u001b[1mLvl_0_Pipe_0_Mod_0_TorchNN\u001b[0m ...\n",
      "[12:38:01] ===== Start working with \u001b[1mfold 0\u001b[0m for \u001b[1mLvl_0_Pipe_0_Mod_0_TorchNN\u001b[0m =====\n"
     ]
    },
    {
     "name": "stderr",
     "output_type": "stream",
     "text": [
      "train (loss=0.755747): 100%|██████████| 1667/1667 [06:45<00:00,  4.11it/s]\n",
      "val: 100%|██████████| 834/834 [02:04<00:00,  6.68it/s]\n",
      "train (loss=0.442306): 100%|██████████| 1667/1667 [06:48<00:00,  4.08it/s]\n",
      "val: 100%|██████████| 834/834 [02:05<00:00,  6.66it/s]\n",
      "train (loss=0.344638): 100%|██████████| 1667/1667 [06:52<00:00,  4.04it/s]\n",
      "val: 100%|██████████| 834/834 [02:06<00:00,  6.61it/s]\n",
      "val: 100%|██████████| 834/834 [02:05<00:00,  6.64it/s]\n"
     ]
    },
    {
     "name": "stdout",
     "output_type": "stream",
     "text": [
      "[13:07:23] ===== Start working with \u001b[1mfold 1\u001b[0m for \u001b[1mLvl_0_Pipe_0_Mod_0_TorchNN\u001b[0m =====\n"
     ]
    },
    {
     "name": "stderr",
     "output_type": "stream",
     "text": [
      "train (loss=0.760973): 100%|██████████| 1667/1667 [06:51<00:00,  4.05it/s]\n",
      "val: 100%|██████████| 834/834 [02:06<00:00,  6.62it/s]\n",
      "train (loss=0.44357): 100%|██████████| 1667/1667 [06:50<00:00,  4.06it/s] \n",
      "val: 100%|██████████| 834/834 [02:06<00:00,  6.61it/s]\n",
      "train (loss=0.343338): 100%|██████████| 1667/1667 [06:49<00:00,  4.07it/s]\n",
      "val: 100%|██████████| 834/834 [02:05<00:00,  6.66it/s]\n",
      "val: 100%|██████████| 834/834 [02:05<00:00,  6.66it/s]\n"
     ]
    },
    {
     "name": "stdout",
     "output_type": "stream",
     "text": [
      "[13:36:29] Time limit exceeded after calculating fold 1\n",
      "\n",
      "[13:36:29] Fitting \u001b[1mLvl_0_Pipe_0_Mod_0_TorchNN\u001b[0m finished. score = \u001b[1m-0.46728458911890136\u001b[0m\n",
      "[13:36:29] \u001b[1mLvl_0_Pipe_0_Mod_0_TorchNN\u001b[0m fitting and predicting completed\n",
      "[13:36:29] Time left 91.29 secs\n",
      "\n",
      "[13:36:29] Time limit exceeded in one of the tasks. AutoML will blend level 1 models.\n",
      "\n",
      "[13:36:29] \u001b[1mLayer 1 training completed.\u001b[0m\n",
      "\n",
      "[13:36:29] \u001b[1mAutoml preset training completed in 3508.71 seconds\u001b[0m\n",
      "\n",
      "[13:36:29] Model description:\n",
      "Final prediction for new objects (level 0) = \n",
      "\t 1.00000 * (2 averaged models Lvl_0_Pipe_0_Mod_0_TorchNN) \n",
      "\n"
     ]
    },
    {
     "name": "stderr",
     "output_type": "stream",
     "text": [
      "test: 100%|██████████| 313/313 [00:47<00:00,  6.63it/s]\n",
      "test: 100%|██████████| 313/313 [00:47<00:00,  6.64it/s]\n"
     ]
    },
    {
     "name": "stdout",
     "output_type": "stream",
     "text": [
      "Check scores:\n",
      "OOF score: 0.46728458911890136\n",
      "TEST score: 0.43322843977913716\n"
     ]
    }
   ],
   "source": [
    "roles = {\n",
    "    'text': ['Review'], \n",
    "    'drop': ['tokens_number', 'Aroma', 'Palete', 'Taste', 'Overall'],\n",
    "    'target': 'Appearance'\n",
    "}\n",
    "\n",
    "task = Task('reg')\n",
    "\n",
    "automl = TabularNLPAutoML(\n",
    "    task=task,\n",
    "    timeout=3600,\n",
    "    cpu_limit=1,\n",
    "    gpu_ids='1',\n",
    "    general_params={\n",
    "        'nested_cv': False,\n",
    "        'use_algos': [['nn']],\n",
    "        'n_folds': 3\n",
    "    },\n",
    "    reader_params={\n",
    "        'cv': 3\n",
    "    },\n",
    "    autonlp_params={\n",
    "        'sent_scaler': 'l2'\n",
    "    },\n",
    "    text_params={\n",
    "        'lang': 'en',\n",
    "        'bert_model': 'bert-base-uncased'\n",
    "    },\n",
    "    nn_params={\n",
    "        'opt_params': {'lr': 1e-5},\n",
    "        'max_length': 128,\n",
    "        'bs': 32,\n",
    "        'n_epochs': 7,\n",
    "    },\n",
    ")\n",
    "\n",
    "oof_pred = automl.fit_predict(train_data, roles=roles, verbose=2)\n",
    "test_pred = automl.predict(valid_data)\n",
    "not_nan = np.any(~np.isnan(oof_pred.data), axis=1)\n",
    "\n",
    "print('Check scores:')\n",
    "print('OOF score: {}'.format(mean_squared_error(train_data[roles['target']].values[not_nan], oof_pred.data[not_nan][:, 0])))\n",
    "print('TEST score: {}'.format(mean_squared_error(valid_data[roles['target']].values, test_pred.data[:, 0])))"
   ]
  },
  {
   "cell_type": "code",
   "execution_count": null,
   "metadata": {
    "id": "hsyIJHPU2Trp"
   },
   "outputs": [],
   "source": [
    "# >>> about 2gb\n",
    "with open('apperance_model.pkl', 'wb') as f:\n",
    "    pickle.dump(automl, f)"
   ]
  },
  {
   "cell_type": "code",
   "execution_count": null,
   "metadata": {
    "id": "NqzX6XjL2Trq",
    "outputId": "04f264ca-57a0-4549-fea5-c0e4fbafc775"
   },
   "outputs": [
    {
     "name": "stdout",
     "output_type": "stream",
     "text": [
      "[13:38:29] Stdout logging level is INFO2.\n"
     ]
    }
   ],
   "source": [
    "with open('apperance_model.pkl', 'rb') as f:\n",
    "    automl = pickle.load(f)\n",
    "automl.set_verbosity_level(2)"
   ]
  },
  {
   "cell_type": "markdown",
   "metadata": {
    "id": "RXv_f-n42Trq"
   },
   "source": [
    "## L2X"
   ]
  },
  {
   "cell_type": "markdown",
   "metadata": {
    "id": "iqAgXTXB2Trq"
   },
   "source": [
    "![GENERALL2X2](https://github.com/sb-ai-lab/LightAutoML/blob/master/imgs/GENERALL2X2.jpg?raw=1)"
   ]
  },
  {
   "cell_type": "code",
   "execution_count": null,
   "metadata": {
    "id": "tC34Xsxh2Trr",
    "outputId": "b8ef677d-6e57-4c91-af3a-e397ac814dda"
   },
   "outputs": [
    {
     "name": "stderr",
     "output_type": "stream",
     "text": [
      "test: 100%|██████████| 2500/2500 [06:14<00:00,  6.67it/s]\n",
      "test: 100%|██████████| 2500/2500 [06:15<00:00,  6.66it/s]\n",
      "test: 100%|██████████| 313/313 [00:47<00:00,  6.66it/s]\n",
      "test: 100%|██████████| 313/313 [00:46<00:00,  6.66it/s]\n",
      "train nll (loss=7.8830): 100%|█████████▉| 1249/1251 [00:41<00:00, 30.12it/s]\n",
      "train nll (loss=1.4016): 100%|█████████▉| 1249/1251 [00:40<00:00, 30.63it/s]\n",
      "train nll (loss=1.3859): 100%|█████████▉| 1249/1251 [00:40<00:00, 30.53it/s]\n",
      "train nll (loss=1.3684): 100%|█████████▉| 1249/1251 [00:40<00:00, 30.57it/s]\n",
      "train nll (loss=1.0265): 100%|█████████▉| 1249/1251 [00:41<00:00, 30.44it/s]\n",
      "train nll (loss=0.7086): 100%|█████████▉| 1249/1251 [00:41<00:00, 30.46it/s]\n",
      "train nll (loss=0.6344): 100%|█████████▉| 1249/1251 [00:40<00:00, 30.62it/s]\n",
      "train nll (loss=0.5779): 100%|█████████▉| 1249/1251 [00:40<00:00, 30.68it/s]\n",
      "train nll (loss=0.5318): 100%|█████████▉| 1249/1251 [00:41<00:00, 30.22it/s]\n",
      "train nll (loss=0.4962): 100%|█████████▉| 1249/1251 [00:40<00:00, 30.56it/s]\n",
      "train nll (loss=0.4575): 100%|█████████▉| 1249/1251 [00:40<00:00, 30.69it/s]\n",
      "train nll (loss=0.4233): 100%|█████████▉| 1249/1251 [00:40<00:00, 30.65it/s]\n",
      "train nll (loss=0.3882): 100%|█████████▉| 1249/1251 [00:40<00:00, 30.58it/s]\n",
      "train nll (loss=0.3574): 100%|█████████▉| 1249/1251 [00:40<00:00, 30.59it/s]\n",
      "train nll (loss=0.3326): 100%|█████████▉| 1249/1251 [00:41<00:00, 30.41it/s]\n",
      "train nll (loss=0.3177): 100%|█████████▉| 1249/1251 [00:40<00:00, 30.70it/s]\n",
      "train nll (loss=0.2997): 100%|█████████▉| 1249/1251 [00:40<00:00, 30.50it/s]\n",
      "train nll (loss=0.2885): 100%|█████████▉| 1249/1251 [00:40<00:00, 30.50it/s]\n",
      "train nll (loss=0.2768): 100%|█████████▉| 1249/1251 [00:41<00:00, 30.24it/s]\n",
      "train nll (loss=0.2667): 100%|█████████▉| 1249/1251 [00:41<00:00, 30.41it/s]\n",
      "train nll (loss=0.2569): 100%|█████████▉| 1249/1251 [00:42<00:00, 29.40it/s]\n",
      "train nll (loss=0.2500): 100%|█████████▉| 1249/1251 [00:42<00:00, 29.54it/s]\n",
      "train nll (loss=0.2439): 100%|█████████▉| 1249/1251 [00:41<00:00, 30.26it/s]\n",
      "train nll (loss=0.2349): 100%|█████████▉| 1249/1251 [00:40<00:00, 30.54it/s]\n",
      "train nll (loss=0.2278): 100%|█████████▉| 1249/1251 [00:41<00:00, 30.25it/s]\n",
      "train nll (loss=0.2244): 100%|█████████▉| 1249/1251 [00:41<00:00, 30.35it/s]\n",
      "train nll (loss=0.2220): 100%|█████████▉| 1249/1251 [00:41<00:00, 30.35it/s]\n",
      "train nll (loss=0.2158): 100%|█████████▉| 1249/1251 [00:41<00:00, 30.36it/s]\n",
      "train nll (loss=0.2110): 100%|█████████▉| 1249/1251 [00:41<00:00, 30.45it/s]\n",
      "train nll (loss=0.2080): 100%|█████████▉| 1249/1251 [00:41<00:00, 30.43it/s]\n",
      "train nll (loss=0.2050): 100%|█████████▉| 1249/1251 [00:41<00:00, 30.40it/s]\n",
      "train nll (loss=0.2003): 100%|█████████▉| 1249/1251 [00:41<00:00, 30.38it/s]\n",
      "train nll (loss=0.1977): 100%|█████████▉| 1249/1251 [00:41<00:00, 30.43it/s]\n",
      "train nll (loss=0.1925): 100%|█████████▉| 1249/1251 [00:41<00:00, 30.42it/s]\n",
      "train nll (loss=0.1919): 100%|█████████▉| 1249/1251 [00:40<00:00, 30.55it/s]\n",
      "train nll (loss=0.1888): 100%|█████████▉| 1249/1251 [00:40<00:00, 30.49it/s]\n",
      "train nll (loss=0.1842): 100%|█████████▉| 1249/1251 [00:41<00:00, 30.37it/s]\n",
      "train nll (loss=0.1841): 100%|█████████▉| 1249/1251 [00:41<00:00, 30.44it/s]\n",
      "train nll (loss=0.1820): 100%|█████████▉| 1249/1251 [00:40<00:00, 30.52it/s]\n",
      "train nll (loss=0.1777): 100%|█████████▉| 1249/1251 [00:41<00:00, 30.37it/s]\n",
      "train nll (loss=0.1785): 100%|█████████▉| 1249/1251 [00:41<00:00, 30.27it/s]\n",
      "train nll (loss=0.1778): 100%|█████████▉| 1249/1251 [00:41<00:00, 30.40it/s]\n",
      "train nll (loss=0.1748): 100%|█████████▉| 1249/1251 [00:41<00:00, 30.40it/s]\n",
      "train nll (loss=0.1719): 100%|█████████▉| 1249/1251 [00:41<00:00, 30.42it/s]\n",
      "train nll (loss=0.1704): 100%|█████████▉| 1249/1251 [00:40<00:00, 30.58it/s]\n",
      "train nll (loss=0.1715): 100%|█████████▉| 1249/1251 [00:40<00:00, 30.74it/s]\n",
      "train nll (loss=0.1715): 100%|█████████▉| 1249/1251 [00:40<00:00, 30.48it/s]\n",
      "train nll (loss=0.1734): 100%|█████████▉| 1249/1251 [00:40<00:00, 30.68it/s]\n",
      "train nll (loss=0.1732): 100%|█████████▉| 1249/1251 [00:40<00:00, 30.65it/s]\n",
      "train nll (loss=0.1781): 100%|█████████▉| 1249/1251 [00:40<00:00, 30.58it/s]\n",
      "train nll (loss=0.1770): 100%|█████████▉| 1249/1251 [00:40<00:00, 30.57it/s]\n",
      "train nll (loss=0.1737): 100%|█████████▉| 1249/1251 [00:40<00:00, 30.66it/s]\n",
      "train nll (loss=0.1728): 100%|█████████▉| 1249/1251 [00:40<00:00, 30.59it/s]\n",
      "train nll (loss=0.1731): 100%|█████████▉| 1249/1251 [00:42<00:00, 29.48it/s]\n",
      "train nll (loss=0.1708): 100%|█████████▉| 1249/1251 [00:41<00:00, 30.26it/s]\n",
      "train nll (loss=0.1696): 100%|█████████▉| 1249/1251 [00:41<00:00, 30.35it/s]\n",
      "train nll (loss=0.1699): 100%|█████████▉| 1249/1251 [00:41<00:00, 30.01it/s]\n",
      "train nll (loss=0.1699): 100%|█████████▉| 1249/1251 [00:42<00:00, 29.39it/s]\n",
      "train nll (loss=0.1681): 100%|█████████▉| 1249/1251 [00:42<00:00, 29.37it/s]\n",
      "train nll (loss=0.1682): 100%|█████████▉| 1249/1251 [00:45<00:00, 27.39it/s]\n",
      "train nll (loss=0.1684): 100%|█████████▉| 1249/1251 [00:43<00:00, 28.57it/s]\n",
      "train nll (loss=0.1666): 100%|█████████▉| 1249/1251 [00:46<00:00, 26.91it/s]\n",
      "train nll (loss=0.1659): 100%|█████████▉| 1249/1251 [00:51<00:00, 24.20it/s]\n",
      "train nll (loss=0.1656): 100%|█████████▉| 1249/1251 [00:46<00:00, 27.09it/s]\n",
      "train nll (loss=0.1665): 100%|█████████▉| 1249/1251 [00:43<00:00, 28.92it/s]\n",
      "train nll (loss=0.1676): 100%|█████████▉| 1249/1251 [00:43<00:00, 28.65it/s]\n",
      "train nll (loss=0.1657): 100%|█████████▉| 1249/1251 [00:43<00:00, 29.02it/s]\n",
      "train nll (loss=0.1651): 100%|█████████▉| 1249/1251 [00:43<00:00, 28.92it/s]\n",
      "train nll (loss=0.1631): 100%|█████████▉| 1249/1251 [00:43<00:00, 28.87it/s]\n",
      "train nll (loss=0.1634): 100%|█████████▉| 1249/1251 [00:43<00:00, 28.79it/s]\n",
      "train nll (loss=0.1634): 100%|█████████▉| 1249/1251 [00:43<00:00, 28.77it/s]\n",
      "train nll (loss=0.1626): 100%|█████████▉| 1249/1251 [00:43<00:00, 28.40it/s]\n",
      "train nll (loss=0.1631): 100%|█████████▉| 1249/1251 [00:42<00:00, 29.35it/s]\n",
      "train nll (loss=0.1613): 100%|█████████▉| 1249/1251 [00:41<00:00, 30.44it/s]\n",
      "train nll (loss=0.1614): 100%|█████████▉| 1249/1251 [00:40<00:00, 30.63it/s]\n",
      "train nll (loss=0.1638): 100%|█████████▉| 1249/1251 [00:40<00:00, 30.51it/s]\n",
      "train nll (loss=0.1633): 100%|█████████▉| 1249/1251 [00:40<00:00, 30.52it/s]\n",
      "train nll (loss=0.1618): 100%|█████████▉| 1249/1251 [00:41<00:00, 30.39it/s]\n",
      "train nll (loss=0.1612): 100%|█████████▉| 1249/1251 [00:41<00:00, 30.43it/s]\n",
      "train nll (loss=0.1628): 100%|█████████▉| 1249/1251 [00:41<00:00, 30.34it/s]\n",
      "train nll (loss=0.1616): 100%|█████████▉| 1249/1251 [00:41<00:00, 29.99it/s]\n",
      "train nll (loss=0.1618): 100%|█████████▉| 1249/1251 [00:41<00:00, 29.77it/s]\n",
      "train nll (loss=0.1594): 100%|█████████▉| 1249/1251 [00:42<00:00, 29.29it/s]\n",
      "train nll (loss=0.1617): 100%|█████████▉| 1249/1251 [00:42<00:00, 29.55it/s]\n",
      "train nll (loss=0.1617): 100%|█████████▉| 1249/1251 [00:42<00:00, 29.27it/s]\n",
      "train nll (loss=0.1610): 100%|█████████▉| 1249/1251 [00:41<00:00, 30.35it/s]\n",
      "train nll (loss=0.1590): 100%|█████████▉| 1249/1251 [00:41<00:00, 30.35it/s]\n",
      "train nll (loss=0.1602): 100%|█████████▉| 1249/1251 [00:43<00:00, 28.49it/s]\n",
      "train nll (loss=0.1602): 100%|█████████▉| 1249/1251 [00:42<00:00, 29.07it/s]\n",
      "train nll (loss=0.1613): 100%|█████████▉| 1249/1251 [00:43<00:00, 28.80it/s]\n",
      "train nll (loss=0.1620): 100%|█████████▉| 1249/1251 [00:43<00:00, 28.86it/s]\n",
      "train nll (loss=0.1593): 100%|█████████▉| 1249/1251 [00:43<00:00, 28.95it/s]\n",
      "train nll (loss=0.1612): 100%|█████████▉| 1249/1251 [00:43<00:00, 28.89it/s]\n",
      "train nll (loss=0.1620): 100%|█████████▉| 1249/1251 [00:43<00:00, 28.93it/s]\n",
      "train nll (loss=0.1614): 100%|█████████▉| 1249/1251 [00:44<00:00, 28.26it/s]\n",
      "train nll (loss=0.1630): 100%|█████████▉| 1249/1251 [00:42<00:00, 29.19it/s]\n",
      "train nll (loss=0.1665): 100%|█████████▉| 1249/1251 [00:43<00:00, 28.75it/s]\n",
      "train nll (loss=0.1605): 100%|█████████▉| 1249/1251 [00:42<00:00, 29.48it/s]\n",
      "train nll (loss=0.1605): 100%|█████████▉| 1249/1251 [00:41<00:00, 30.01it/s]\n",
      "train nll (loss=0.1636): 100%|█████████▉| 1249/1251 [00:40<00:00, 30.58it/s]\n",
      "train nll (loss=0.1617): 100%|█████████▉| 1249/1251 [00:41<00:00, 30.08it/s]\n",
      "train nll (loss=0.1635): 100%|█████████▉| 1249/1251 [00:41<00:00, 30.44it/s]\n",
      "train nll (loss=0.1606): 100%|█████████▉| 1249/1251 [00:40<00:00, 30.65it/s]\n",
      "train nll (loss=0.1631): 100%|█████████▉| 1249/1251 [00:41<00:00, 30.45it/s]\n",
      "train nll (loss=0.1645): 100%|█████████▉| 1249/1251 [00:40<00:00, 30.60it/s]\n",
      "train nll (loss=0.1652): 100%|█████████▉| 1249/1251 [00:41<00:00, 30.37it/s]\n",
      "train nll (loss=0.1641): 100%|█████████▉| 1249/1251 [00:41<00:00, 29.96it/s]\n",
      "train nll (loss=0.1669): 100%|█████████▉| 1249/1251 [00:43<00:00, 28.80it/s]\n",
      "train nll (loss=0.1610): 100%|█████████▉| 1249/1251 [00:42<00:00, 29.11it/s]\n",
      "train nll (loss=0.1630): 100%|█████████▉| 1249/1251 [00:43<00:00, 28.96it/s]\n",
      "train nll (loss=0.1644): 100%|█████████▉| 1249/1251 [00:42<00:00, 29.11it/s]\n",
      "train nll (loss=0.1681): 100%|█████████▉| 1249/1251 [00:42<00:00, 29.06it/s]\n",
      "train nll (loss=0.1691): 100%|█████████▉| 1249/1251 [00:42<00:00, 29.12it/s]\n",
      "train nll (loss=0.1728): 100%|█████████▉| 1249/1251 [00:42<00:00, 29.15it/s]\n",
      "train nll (loss=0.1710): 100%|█████████▉| 1249/1251 [00:42<00:00, 29.16it/s]\n",
      "train nll (loss=0.1679): 100%|█████████▉| 1249/1251 [00:42<00:00, 29.30it/s]\n",
      "train nll (loss=0.1697): 100%|█████████▉| 1249/1251 [00:42<00:00, 29.31it/s]\n",
      "train nll (loss=0.1669): 100%|█████████▉| 1249/1251 [00:41<00:00, 29.92it/s]\n",
      "train nll (loss=0.1708): 100%|█████████▉| 1249/1251 [00:41<00:00, 30.28it/s]\n",
      "train nll (loss=0.1662): 100%|█████████▉| 1249/1251 [00:40<00:00, 30.56it/s]\n",
      "train nll (loss=0.1739): 100%|█████████▉| 1249/1251 [00:41<00:00, 30.34it/s]\n",
      "train nll (loss=0.1977): 100%|█████████▉| 1249/1251 [00:40<00:00, 30.68it/s]\n",
      "train nll (loss=0.1844): 100%|█████████▉| 1249/1251 [00:40<00:00, 30.72it/s]\n",
      "train nll (loss=0.1685): 100%|█████████▉| 1249/1251 [00:41<00:00, 30.17it/s]\n",
      "train nll (loss=0.1664): 100%|█████████▉| 1249/1251 [00:40<00:00, 30.48it/s]\n",
      "train nll (loss=0.1760): 100%|█████████▉| 1249/1251 [00:40<00:00, 30.63it/s]\n",
      "train nll (loss=0.1678): 100%|█████████▉| 1249/1251 [00:40<00:00, 30.71it/s]\n",
      "train nll (loss=0.1681): 100%|█████████▉| 1249/1251 [00:41<00:00, 30.25it/s]\n",
      "train nll (loss=0.1806): 100%|█████████▉| 1249/1251 [00:40<00:00, 30.67it/s]\n",
      "train nll (loss=0.1724): 100%|█████████▉| 1249/1251 [00:40<00:00, 30.70it/s]\n",
      "train nll (loss=0.1691): 100%|█████████▉| 1249/1251 [00:40<00:00, 30.67it/s]\n",
      "train nll (loss=0.1712): 100%|█████████▉| 1249/1251 [00:40<00:00, 30.71it/s]\n",
      "train nll (loss=0.1762): 100%|█████████▉| 1249/1251 [00:40<00:00, 30.55it/s]\n",
      "train nll (loss=0.1655): 100%|█████████▉| 1249/1251 [00:41<00:00, 30.00it/s]\n",
      "train nll (loss=0.1860): 100%|█████████▉| 1249/1251 [00:42<00:00, 29.72it/s]\n",
      "train nll (loss=0.1897): 100%|█████████▉| 1249/1251 [00:41<00:00, 29.76it/s]\n",
      "train nll (loss=0.1770): 100%|█████████▉| 1249/1251 [00:41<00:00, 30.45it/s]\n",
      "train nll (loss=0.1796): 100%|█████████▉| 1249/1251 [00:42<00:00, 29.65it/s]\n",
      "train nll (loss=0.1816): 100%|█████████▉| 1249/1251 [00:40<00:00, 30.48it/s]\n",
      "train nll (loss=0.1870): 100%|█████████▉| 1249/1251 [00:40<00:00, 30.75it/s]\n",
      "train nll (loss=0.1797): 100%|█████████▉| 1249/1251 [00:40<00:00, 30.57it/s]\n",
      "train nll (loss=0.1878): 100%|█████████▉| 1249/1251 [00:40<00:00, 30.75it/s]\n",
      "train nll (loss=0.1903): 100%|█████████▉| 1249/1251 [00:40<00:00, 30.72it/s]\n",
      "train nll (loss=0.1787): 100%|█████████▉| 1249/1251 [00:40<00:00, 30.63it/s]\n",
      "train nll (loss=0.1815): 100%|█████████▉| 1249/1251 [00:40<00:00, 30.70it/s]\n",
      "train nll (loss=0.1781): 100%|█████████▉| 1249/1251 [00:40<00:00, 30.68it/s]\n",
      "train nll (loss=0.1749): 100%|█████████▉| 1249/1251 [00:40<00:00, 30.68it/s]\n",
      "train nll (loss=0.1735): 100%|█████████▉| 1249/1251 [00:40<00:00, 30.51it/s]\n",
      "train nll (loss=0.1675): 100%|█████████▉| 1249/1251 [00:40<00:00, 30.56it/s]\n",
      "train nll (loss=0.1671): 100%|█████████▉| 1249/1251 [00:40<00:00, 30.58it/s]\n"
     ]
    }
   ],
   "source": [
    "l2x = L2XTextExplainer(automl, train_device='cuda:1',\n",
    "                       inference_device='cuda:1',\n",
    "                       embedding_dim=300,\n",
    "                       gamma=0.1, temperature=2, temp_anneal_factor=0.95,\n",
    "                       n_epochs=200, importance_sampler='gumbeltopk',\n",
    "                       n_important=20, patience=25,\n",
    "                       extreme_patience=30, trainable_embeds=True)\n",
    "\n",
    "l2x.fit(train_data, valid_data, cols_to_explain='Review')"
   ]
  },
  {
   "cell_type": "code",
   "execution_count": null,
   "metadata": {
    "id": "UnjotkjQ2Trr"
   },
   "outputs": [],
   "source": [
    "expl_valid = l2x['Review'].explain_instances(valid_data)"
   ]
  },
  {
   "cell_type": "markdown",
   "metadata": {
    "id": "TfaPm5S02Trr"
   },
   "source": [
    "### Examples"
   ]
  },
  {
   "cell_type": "code",
   "execution_count": null,
   "metadata": {
    "id": "4cFsdar_2Trt",
    "outputId": "1de1750f-5ae0-468c-c5de-91eea7c0cf41"
   },
   "outputs": [
    {
     "data": {
      "text/html": [
       "\n",
       "    <div>\n",
       "        <p style=\"text-align: center\">\n",
       "            Text\n",
       "        </p>\n",
       "        <div style=\"border: 1px solid black;\">\n",
       "            <p style=\"font-size:14px;; margin-left: 1%; margin-right: 1%;\"><span style=\"background-color: #FFFFFF;\">&lt;START&gt;</span> <span style=\"background-color: #FFFFFF;\">lot</span> <span style=\"background-color: #6DB5F5;\">exploder</span> <span style=\"background-color: #6DB5F5;\">lost</span> <span style=\"background-color: #FFFFFF;\">about</span> <span style=\"background-color: #FFFFFF;\">3</span> <span style=\"background-color: #FFFFFF;\">of</span> <span style=\"background-color: #FFFFFF;\">this</span> <span style=\"background-color: #FFFFFF;\">beer</span> <span style=\"background-color: #FFFFFF;\">down</span> <span style=\"background-color: #FFFFFF;\">the</span> <span style=\"background-color: #FFFFFF;\">drain</span> <span style=\"background-color: #FFFFFF;\">as</span> <span style=\"background-color: #FFFFFF;\">foam</span> <span style=\"background-color: #6DB5F5;\">whats</span> <span style=\"background-color: #6DB5F5;\">left</span> <span style=\"background-color: #6DB5F5;\">is</span> <span style=\"background-color: #6DB5F5;\">a</span> <span style=\"background-color: #6DB5F5;\">cloudy</span> <span style=\"background-color: #6DB5F5;\">medium</span> <span style=\"background-color: #6DB5F5;\">brown</span> <span style=\"background-color: #6DB5F5;\">color</span> <span style=\"background-color: #6DB5F5;\">with</span> <span style=\"background-color: #6DB5F5;\">floaties</span> <span style=\"background-color: #6DB5F5;\">plenty</span> <span style=\"background-color: #6DB5F5;\">of</span> <span style=\"background-color: #6DB5F5;\">head</span> <span style=\"background-color: #6DB5F5;\">obviously</span> <span style=\"background-color: #6DB5F5;\">which</span> <span style=\"background-color: #6DB5F5;\">dissipates</span> <span style=\"background-color: #6DB5F5;\">quickly</span> <span style=\"background-color: #6DB5F5;\">aroma</span> <span style=\"background-color: #FFFFFF;\">is</span> <span style=\"background-color: #FFFFFF;\">tons</span> <span style=\"background-color: #FFFFFF;\">of</span> <span style=\"background-color: #FFFFFF;\">malt</span> <span style=\"background-color: #FFFFFF;\">and</span> <span style=\"background-color: #FFFFFF;\">dark</span> <span style=\"background-color: #FFFFFF;\">fruit</span> <span style=\"background-color: #FFFFFF;\">the</span> <span style=\"background-color: #FFFFFF;\">flavor</span> <span style=\"background-color: #FFFFFF;\">is</span> <span style=\"background-color: #FFFFFF;\">again</span> <span style=\"background-color: #FFFFFF;\">very</span> <span style=\"background-color: #FFFFFF;\">fruity</span> <span style=\"background-color: #FFFFFF;\">with</span> <span style=\"background-color: #FFFFFF;\">bready</span> <span style=\"background-color: #FFFFFF;\">malt</span> <span style=\"background-color: #FFFFFF;\">and</span> <span style=\"background-color: #FFFFFF;\">caramel</span> <span style=\"background-color: #FFFFFF;\">notes</span> <span style=\"background-color: #FFFFFF;\">a</span> <span style=\"background-color: #FFFFFF;\">bit</span> <span style=\"background-color: #FFFFFF;\">of</span> <span style=\"background-color: #FFFFFF;\">roast</span> <span style=\"background-color: #FFFFFF;\">malt</span> <span style=\"background-color: #FFFFFF;\">no</span> <span style=\"background-color: #FFFFFF;\">hint</span> <span style=\"background-color: #FFFFFF;\">of</span> <span style=\"background-color: #FFFFFF;\">spices</span> <span style=\"background-color: #FFFFFF;\">anywhere</span> <span style=\"background-color: #FFFFFF;\">full</span> <span style=\"background-color: #FFFFFF;\">bodied</span> <span style=\"background-color: #FFFFFF;\">with</span> <span style=\"background-color: #FFFFFF;\">plenty</span> <span style=\"background-color: #FFFFFF;\">of</span> <span style=\"background-color: #FFFFFF;\">silky</span> <span style=\"background-color: #FFFFFF;\">crispness</span> <span style=\"background-color: #FFFFFF;\"></span> <span style=\"background-color: #FFFFFF;\">&lt;PAD&gt;</span></p>\n",
       "        </div>\n",
       "        \n",
       "    </div>\n",
       "    "
      ]
     },
     "metadata": {},
     "output_type": "display_data"
    }
   ],
   "source": [
    "expl_valid[66].visualize_in_notebook()"
   ]
  },
  {
   "cell_type": "code",
   "execution_count": null,
   "metadata": {
    "id": "RsaT36kq2Trw",
    "outputId": "7e353ee0-4efd-4cd9-8d1a-0d9b846658c1"
   },
   "outputs": [
    {
     "data": {
      "text/html": [
       "\n",
       "    <div>\n",
       "        <p style=\"text-align: center\">\n",
       "            Text\n",
       "        </p>\n",
       "        <div style=\"border: 1px solid black;\">\n",
       "            <p style=\"font-size:14px;; margin-left: 1%; margin-right: 1%;\"><span style=\"background-color: #FFFFFF;\">&lt;START&gt;</span> <span style=\"background-color: #FFFFFF;\">the</span> <span style=\"background-color: #FFFFFF;\">beer</span> <span style=\"background-color: #6DB5F5;\">pours</span> <span style=\"background-color: #6DB5F5;\">an</span> <span style=\"background-color: #6DB5F5;\">opaque</span> <span style=\"background-color: #6DB5F5;\">light</span> <span style=\"background-color: #6DB5F5;\">copper</span> <span style=\"background-color: #6DB5F5;\">capped</span> <span style=\"background-color: #6DB5F5;\">by</span> <span style=\"background-color: #6DB5F5;\">a</span> <span style=\"background-color: #6DB5F5;\">minimal</span> <span style=\"background-color: #6DB5F5;\">off</span> <span style=\"background-color: #6DB5F5;\">white</span> <span style=\"background-color: #6DB5F5;\">head</span> <span style=\"background-color: #6DB5F5;\">there</span> <span style=\"background-color: #6DB5F5;\">s</span> <span style=\"background-color: #6DB5F5;\">very</span> <span style=\"background-color: #6DB5F5;\">little</span> <span style=\"background-color: #6DB5F5;\">retention</span> <span style=\"background-color: #6DB5F5;\">despite</span> <span style=\"background-color: #6DB5F5;\">a</span> <span style=\"background-color: #FFFFFF;\">robust</span> <span style=\"background-color: #FFFFFF;\">pour</span> <span style=\"background-color: #FFFFFF;\">into</span> <span style=\"background-color: #FFFFFF;\">the</span> <span style=\"background-color: #FFFFFF;\">glass</span> <span style=\"background-color: #FFFFFF;\">the</span> <span style=\"background-color: #FFFFFF;\">nose</span> <span style=\"background-color: #FFFFFF;\">is</span> <span style=\"background-color: #FFFFFF;\">simply</span> <span style=\"background-color: #FFFFFF;\">divine</span> <span style=\"background-color: #FFFFFF;\">i</span> <span style=\"background-color: #FFFFFF;\">feel</span> <span style=\"background-color: #FFFFFF;\">like</span> <span style=\"background-color: #FFFFFF;\">i</span> <span style=\"background-color: #FFFFFF;\">just</span> <span style=\"background-color: #FFFFFF;\">pulled</span> <span style=\"background-color: #FFFFFF;\">a</span> <span style=\"background-color: #FFFFFF;\">freshly</span> <span style=\"background-color: #FFFFFF;\">baked</span> <span style=\"background-color: #FFFFFF;\">pumpkin</span> <span style=\"background-color: #FFFFFF;\">pie</span> <span style=\"background-color: #FFFFFF;\">out</span> <span style=\"background-color: #FFFFFF;\">of</span> <span style=\"background-color: #FFFFFF;\">the</span> <span style=\"background-color: #FFFFFF;\">oven</span> <span style=\"background-color: #FFFFFF;\">aromas</span> <span style=\"background-color: #FFFFFF;\">of</span> <span style=\"background-color: #FFFFFF;\">gram</span> <span style=\"background-color: #FFFFFF;\">cracker</span> <span style=\"background-color: #FFFFFF;\">and</span> <span style=\"background-color: #FFFFFF;\">butterscotch</span> <span style=\"background-color: #FFFFFF;\">covered</span> <span style=\"background-color: #FFFFFF;\">shortbread</span> <span style=\"background-color: #FFFFFF;\">mix</span> <span style=\"background-color: #FFFFFF;\">with</span> <span style=\"background-color: #FFFFFF;\">sweet</span> <span style=\"background-color: #FFFFFF;\">potato</span> <span style=\"background-color: #FFFFFF;\">and</span> <span style=\"background-color: #FFFFFF;\">canned</span> <span style=\"background-color: #FFFFFF;\">&lt;UNK&gt;</span> <span style=\"background-color: #FFFFFF;\">pumpkin</span> <span style=\"background-color: #FFFFFF;\">puree</span> <span style=\"background-color: #FFFFFF;\">coconut</span> <span style=\"background-color: #FFFFFF;\">cinnamon</span> <span style=\"background-color: #FFFFFF;\">and</span> <span style=\"background-color: #FFFFFF;\">a</span> <span style=\"background-color: #FFFFFF;\">hint</span> <span style=\"background-color: #FFFFFF;\">of</span> <span style=\"background-color: #FFFFFF;\">citrus</span> <span style=\"background-color: #FFFFFF;\">add</span> <span style=\"background-color: #FFFFFF;\">a</span> <span style=\"background-color: #FFFFFF;\">twist</span> <span style=\"background-color: #FFFFFF;\">of</span> <span style=\"background-color: #FFFFFF;\">the</span> <span style=\"background-color: #FFFFFF;\">exotic</span> <span style=\"background-color: #FFFFFF;\">liquid</span> <span style=\"background-color: #6DB5F5;\">pumpkin</span> <span style=\"background-color: #FFFFFF;\">pie</span> <span style=\"background-color: #FFFFFF;\">is</span> <span style=\"background-color: #FFFFFF;\">the</span> <span style=\"background-color: #FFFFFF;\">best</span> <span style=\"background-color: #FFFFFF;\">way</span> <span style=\"background-color: #FFFFFF;\">to</span> <span style=\"background-color: #FFFFFF;\">describe</span> <span style=\"background-color: #FFFFFF;\">the</span> <span style=\"background-color: #FFFFFF;\">flavour</span> <span style=\"background-color: #FFFFFF;\">a</span> <span style=\"background-color: #FFFFFF;\">fine</span> <span style=\"background-color: #FFFFFF;\">pte</span> <span style=\"background-color: #FFFFFF;\">sucre</span> <span style=\"background-color: #FFFFFF;\">crust</span> <span style=\"background-color: #FFFFFF;\">with</span> <span style=\"background-color: #FFFFFF;\">a</span> <span style=\"background-color: #FFFFFF;\">rich</span> <span style=\"background-color: #FFFFFF;\">pumpkin</span> <span style=\"background-color: #FFFFFF;\">filling</span> <span style=\"background-color: #FFFFFF;\">spiced</span> <span style=\"background-color: #FFFFFF;\">with</span> <span style=\"background-color: #FFFFFF;\">cinnamon</span> <span style=\"background-color: #FFFFFF;\">and</span> <span style=\"background-color: #FFFFFF;\">allspice</span> <span style=\"background-color: #FFFFFF;\">this</span> <span style=\"background-color: #FFFFFF;\">really</span> <span style=\"background-color: #FFFFFF;\">is</span> <span style=\"background-color: #FFFFFF;\">devilishly</span> <span style=\"background-color: #FFFFFF;\">good</span> <span style=\"background-color: #FFFFFF;\">everything</span> <span style=\"background-color: #FFFFFF;\">i</span> <span style=\"background-color: #FFFFFF;\">found</span> <span style=\"background-color: #FFFFFF;\">lacking</span> <span style=\"background-color: #FFFFFF;\">in</span> <span style=\"background-color: #FFFFFF;\">previous</span> <span style=\"background-color: #FFFFFF;\">pumpkin</span> <span style=\"background-color: #FFFFFF;\">beers</span> <span style=\"background-color: #FFFFFF;\">this</span> <span style=\"background-color: #FFFFFF;\">makes</span> <span style=\"background-color: #FFFFFF;\">up</span> <span style=\"background-color: #FFFFFF;\">for</span> <span style=\"background-color: #FFFFFF;\">smooth</span> <span style=\"background-color: #FFFFFF;\">creamy</span> <span style=\"background-color: #FFFFFF;\">macadamia</span> <span style=\"background-color: #FFFFFF;\">nuttiness</span> <span style=\"background-color: #FFFFFF;\">adds</span> <span style=\"background-color: #FFFFFF;\">another</span> <span style=\"background-color: #FFFFFF;\">dimension</span> <span style=\"background-color: #FFFFFF;\">hops</span> <span style=\"background-color: #FFFFFF;\">are</span> <span style=\"background-color: #FFFFFF;\">nearly</span> <span style=\"background-color: #FFFFFF;\">&lt;UNK&gt;</span> <span style=\"background-color: #FFFFFF;\">simple</span> <span style=\"background-color: #FFFFFF;\">there</span> <span style=\"background-color: #FFFFFF;\">for</span> <span style=\"background-color: #FFFFFF;\">balance</span> <span style=\"background-color: #FFFFFF;\">similarly</span> <span style=\"background-color: #FFFFFF;\">absent</span> <span style=\"background-color: #FFFFFF;\">is</span> <span style=\"background-color: #FFFFFF;\">the</span> <span style=\"background-color: #FFFFFF;\">taste</span> <span style=\"background-color: #FFFFFF;\">of</span> <span style=\"background-color: #FFFFFF;\">alcohol</span> <span style=\"background-color: #FFFFFF;\">despite</span> <span style=\"background-color: #FFFFFF;\">the</span> <span style=\"background-color: #FFFFFF;\">whopping</span> <span style=\"background-color: #FFFFFF;\">percentage</span> <span style=\"background-color: #FFFFFF;\">only</span> <span style=\"background-color: #FFFFFF;\">int</span> <span style=\"background-color: #FFFFFF;\">he</span> <span style=\"background-color: #FFFFFF;\">very</span> <span style=\"background-color: #FFFFFF;\">finish</span> <span style=\"background-color: #FFFFFF;\">does</span> <span style=\"background-color: #FFFFFF;\">it</span> <span style=\"background-color: #FFFFFF;\">pop</span> <span style=\"background-color: #FFFFFF;\">up</span> <span style=\"background-color: #FFFFFF;\">like</span> <span style=\"background-color: #FFFFFF;\">a</span> <span style=\"background-color: #FFFFFF;\">&lt;UNK&gt;</span> <span style=\"background-color: #FFFFFF;\">child</span> <span style=\"background-color: #FFFFFF;\">the</span> <span style=\"background-color: #FFFFFF;\">medium</span> <span style=\"background-color: #FFFFFF;\">body</span> <span style=\"background-color: #FFFFFF;\">and</span> <span style=\"background-color: #FFFFFF;\">medium</span> <span style=\"background-color: #FFFFFF;\">low</span> <span style=\"background-color: #FFFFFF;\">level</span> <span style=\"background-color: #FFFFFF;\">of</span> <span style=\"background-color: #FFFFFF;\">carbonation</span> <span style=\"background-color: #FFFFFF;\">make</span> <span style=\"background-color: #FFFFFF;\">for</span> <span style=\"background-color: #FFFFFF;\">a</span> <span style=\"background-color: #FFFFFF;\">surprisingly</span> <span style=\"background-color: #FFFFFF;\">easy</span> <span style=\"background-color: #FFFFFF;\">drinking</span> <span style=\"background-color: #FFFFFF;\">beer</span> <span style=\"background-color: #FFFFFF;\">dangerous</span> <span style=\"background-color: #FFFFFF;\">this</span> <span style=\"background-color: #FFFFFF;\">is</span> <span style=\"background-color: #FFFFFF;\">the</span> <span style=\"background-color: #FFFFFF;\">best</span> <span style=\"background-color: #FFFFFF;\">pumpkin</span> <span style=\"background-color: #FFFFFF;\">beer</span> <span style=\"background-color: #FFFFFF;\">i</span> <span style=\"background-color: #FFFFFF;\">ve</span> <span style=\"background-color: #FFFFFF;\">ever</span> <span style=\"background-color: #FFFFFF;\">had</span> <span style=\"background-color: #FFFFFF;\">hands</span> <span style=\"background-color: #FFFFFF;\">down</span> <span style=\"background-color: #FFFFFF;\"></span> <span style=\"background-color: #FFFFFF;\">&lt;PAD&gt;</span></p>\n",
       "        </div>\n",
       "        \n",
       "    </div>\n",
       "    "
      ]
     },
     "metadata": {},
     "output_type": "display_data"
    }
   ],
   "source": [
    "expl_valid[77].visualize_in_notebook()"
   ]
  },
  {
   "cell_type": "code",
   "execution_count": null,
   "metadata": {
    "id": "MVbWBr4U2Trx",
    "outputId": "110015a6-3436-4c74-a45a-15f8e6c1bace"
   },
   "outputs": [
    {
     "data": {
      "text/html": [
       "\n",
       "    <div>\n",
       "        <p style=\"text-align: center\">\n",
       "            Text\n",
       "        </p>\n",
       "        <div style=\"border: 1px solid black;\">\n",
       "            <p style=\"font-size:14px;; margin-left: 1%; margin-right: 1%;\"><span style=\"background-color: #6DB5F5;\">&lt;START&gt;</span> <span style=\"background-color: #6DB5F5;\">dark</span> <span style=\"background-color: #6DB5F5;\">black</span> <span style=\"background-color: #6DB5F5;\">with</span> <span style=\"background-color: #6DB5F5;\">creamy</span> <span style=\"background-color: #6DB5F5;\">tan</span> <span style=\"background-color: #6DB5F5;\">head</span> <span style=\"background-color: #6DB5F5;\">that</span> <span style=\"background-color: #6DB5F5;\">leaves</span> <span style=\"background-color: #6DB5F5;\">great</span> <span style=\"background-color: #6DB5F5;\">retention</span> <span style=\"background-color: #6DB5F5;\">and</span> <span style=\"background-color: #6DB5F5;\">foamy</span> <span style=\"background-color: #6DB5F5;\">lace</span> <span style=\"background-color: #FFFFFF;\">the</span> <span style=\"background-color: #FFFFFF;\">smell</span> <span style=\"background-color: #FFFFFF;\">is</span> <span style=\"background-color: #FFFFFF;\">roasty</span> <span style=\"background-color: #FFFFFF;\">with</span> <span style=\"background-color: #FFFFFF;\">burnt</span> <span style=\"background-color: #FFFFFF;\">sugar</span> <span style=\"background-color: #FFFFFF;\">edges</span> <span style=\"background-color: #FFFFFF;\">dark</span> <span style=\"background-color: #FFFFFF;\">chocolate</span> <span style=\"background-color: #FFFFFF;\">coffee</span> <span style=\"background-color: #FFFFFF;\">and</span> <span style=\"background-color: #FFFFFF;\">smoke</span> <span style=\"background-color: #FFFFFF;\">the</span> <span style=\"background-color: #FFFFFF;\">taste</span> <span style=\"background-color: #FFFFFF;\">is</span> <span style=\"background-color: #FFFFFF;\">ashy</span> <span style=\"background-color: #FFFFFF;\">too</span> <span style=\"background-color: #FFFFFF;\">much</span> <span style=\"background-color: #6DB5F5;\">black</span> <span style=\"background-color: #FFFFFF;\">patent</span> <span style=\"background-color: #6DB5F5;\">perhaps</span> <span style=\"background-color: #FFFFFF;\">others</span> <span style=\"background-color: #FFFFFF;\">enjoy</span> <span style=\"background-color: #FFFFFF;\">this</span> <span style=\"background-color: #FFFFFF;\">but</span> <span style=\"background-color: #FFFFFF;\">there</span> <span style=\"background-color: #FFFFFF;\">is</span> <span style=\"background-color: #FFFFFF;\">a</span> <span style=\"background-color: #FFFFFF;\">charcoal</span> <span style=\"background-color: #FFFFFF;\">burnt</span> <span style=\"background-color: #FFFFFF;\">taste</span> <span style=\"background-color: #FFFFFF;\">that</span> <span style=\"background-color: #FFFFFF;\">is</span> <span style=\"background-color: #FFFFFF;\">a</span> <span style=\"background-color: #FFFFFF;\">bit</span> <span style=\"background-color: #FFFFFF;\">much</span> <span style=\"background-color: #FFFFFF;\">for</span> <span style=\"background-color: #FFFFFF;\">me</span> <span style=\"background-color: #FFFFFF;\">smoky</span> <span style=\"background-color: #FFFFFF;\">bitter</span> <span style=\"background-color: #FFFFFF;\">chocolate</span> <span style=\"background-color: #FFFFFF;\">and</span> <span style=\"background-color: #FFFFFF;\">roasted</span> <span style=\"background-color: #FFFFFF;\">coffee</span> <span style=\"background-color: #FFFFFF;\">quite</span> <span style=\"background-color: #FFFFFF;\">roasty</span> <span style=\"background-color: #FFFFFF;\">and</span> <span style=\"background-color: #FFFFFF;\">ashy</span> <span style=\"background-color: #FFFFFF;\">tasting</span> <span style=\"background-color: #FFFFFF;\">strong</span> <span style=\"background-color: #FFFFFF;\">with</span> <span style=\"background-color: #FFFFFF;\">alcohol</span> <span style=\"background-color: #FFFFFF;\">peeking</span> <span style=\"background-color: #FFFFFF;\">through</span> <span style=\"background-color: #FFFFFF;\">overall</span> <span style=\"background-color: #FFFFFF;\">an</span> <span style=\"background-color: #6DB5F5;\">average</span> <span style=\"background-color: #6DB5F5;\">stout</span> <span style=\"background-color: #6DB5F5;\"></span> <span style=\"background-color: #6DB5F5;\">&lt;PAD&gt;</span></p>\n",
       "        </div>\n",
       "        \n",
       "    </div>\n",
       "    "
      ]
     },
     "metadata": {},
     "output_type": "display_data"
    }
   ],
   "source": [
    "expl_valid[111].visualize_in_notebook()"
   ]
  },
  {
   "cell_type": "code",
   "execution_count": null,
   "metadata": {
    "id": "7tXvY00C2Trx",
    "outputId": "147a8e6f-e9a2-4389-f540-e4e556186fa7"
   },
   "outputs": [
    {
     "data": {
      "text/html": [
       "\n",
       "    <div>\n",
       "        <p style=\"text-align: center\">\n",
       "            Text\n",
       "        </p>\n",
       "        <div style=\"border: 1px solid black;\">\n",
       "            <p style=\"font-size:14px;; margin-left: 1%; margin-right: 1%;\"><span style=\"background-color: #FFFFFF;\">&lt;START&gt;</span> <span style=\"background-color: #6DB5F5;\">the</span> <span style=\"background-color: #6DB5F5;\">apperance</span> <span style=\"background-color: #6DB5F5;\">was</span> <span style=\"background-color: #6DB5F5;\">an</span> <span style=\"background-color: #6DB5F5;\">amber</span> <span style=\"background-color: #6DB5F5;\">dark</span> <span style=\"background-color: #6DB5F5;\">yellow</span> <span style=\"background-color: #6DB5F5;\">color</span> <span style=\"background-color: #6DB5F5;\">with</span> <span style=\"background-color: #6DB5F5;\">not</span> <span style=\"background-color: #6DB5F5;\">much</span> <span style=\"background-color: #6DB5F5;\">head</span> <span style=\"background-color: #6DB5F5;\">it</span> <span style=\"background-color: #6DB5F5;\">did</span> <span style=\"background-color: #6DB5F5;\">however</span> <span style=\"background-color: #FFFFFF;\">have</span> <span style=\"background-color: #6DB5F5;\">stuff</span> <span style=\"background-color: #6DB5F5;\">floating</span> <span style=\"background-color: #6DB5F5;\">in</span> <span style=\"background-color: #FFFFFF;\">it</span> <span style=\"background-color: #FFFFFF;\">i</span> <span style=\"background-color: #FFFFFF;\">m</span> <span style=\"background-color: #FFFFFF;\">not</span> <span style=\"background-color: #FFFFFF;\">certain</span> <span style=\"background-color: #FFFFFF;\">if</span> <span style=\"background-color: #FFFFFF;\">that</span> <span style=\"background-color: #FFFFFF;\">was</span> <span style=\"background-color: #FFFFFF;\">of</span> <span style=\"background-color: #FFFFFF;\">the</span> <span style=\"background-color: #FFFFFF;\">fault</span> <span style=\"background-color: #FFFFFF;\">of</span> <span style=\"background-color: #FFFFFF;\">the</span> <span style=\"background-color: #FFFFFF;\">manufacturer</span> <span style=\"background-color: #FFFFFF;\">or</span> <span style=\"background-color: #FFFFFF;\">the</span> <span style=\"background-color: #FFFFFF;\">fault</span> <span style=\"background-color: #FFFFFF;\">of</span> <span style=\"background-color: #FFFFFF;\">myself</span> <span style=\"background-color: #FFFFFF;\">for</span> <span style=\"background-color: #FFFFFF;\">trusting</span> <span style=\"background-color: #FFFFFF;\">my</span> <span style=\"background-color: #FFFFFF;\">friends</span> <span style=\"background-color: #FFFFFF;\">around</span> <span style=\"background-color: #FFFFFF;\">my</span> <span style=\"background-color: #FFFFFF;\">&lt;UNK&gt;</span> <span style=\"background-color: #FFFFFF;\">drink</span> <span style=\"background-color: #FFFFFF;\">any</span> <span style=\"background-color: #FFFFFF;\">who</span> <span style=\"background-color: #FFFFFF;\">the</span> <span style=\"background-color: #FFFFFF;\">smell</span> <span style=\"background-color: #FFFFFF;\">was</span> <span style=\"background-color: #FFFFFF;\">bellow</span> <span style=\"background-color: #FFFFFF;\">average</span> <span style=\"background-color: #6DB5F5;\">although</span> <span style=\"background-color: #FFFFFF;\">not</span> <span style=\"background-color: #FFFFFF;\">always</span> <span style=\"background-color: #FFFFFF;\">clearly</span> <span style=\"background-color: #FFFFFF;\">present</span> <span style=\"background-color: #FFFFFF;\">the</span> <span style=\"background-color: #FFFFFF;\">taste</span> <span style=\"background-color: #FFFFFF;\">was</span> <span style=\"background-color: #FFFFFF;\">a</span> <span style=\"background-color: #FFFFFF;\">sweet</span> <span style=\"background-color: #FFFFFF;\">sour</span> <span style=\"background-color: #FFFFFF;\">mix</span> <span style=\"background-color: #FFFFFF;\">with</span> <span style=\"background-color: #FFFFFF;\">a</span> <span style=\"background-color: #FFFFFF;\">main</span> <span style=\"background-color: #FFFFFF;\">taste</span> <span style=\"background-color: #FFFFFF;\">of</span> <span style=\"background-color: #FFFFFF;\">bitterness</span> <span style=\"background-color: #FFFFFF;\">mouthfeel</span> <span style=\"background-color: #FFFFFF;\">was</span> <span style=\"background-color: #FFFFFF;\">smooth</span> <span style=\"background-color: #FFFFFF;\">esque</span> <span style=\"background-color: #FFFFFF;\">drinkability</span> <span style=\"background-color: #FFFFFF;\">was</span> <span style=\"background-color: #FFFFFF;\">average</span> <span style=\"background-color: #FFFFFF;\">but</span> <span style=\"background-color: #FFFFFF;\">seeing</span> <span style=\"background-color: #FFFFFF;\">as</span> <span style=\"background-color: #FFFFFF;\">i</span> <span style=\"background-color: #FFFFFF;\">m</span> <span style=\"background-color: #FFFFFF;\">a</span> <span style=\"background-color: #FFFFFF;\">big</span> <span style=\"background-color: #FFFFFF;\">time</span> <span style=\"background-color: #FFFFFF;\">&lt;UNK&gt;</span> <span style=\"background-color: #FFFFFF;\">and</span> <span style=\"background-color: #FFFFFF;\">seeing</span> <span style=\"background-color: #FFFFFF;\">as</span> <span style=\"background-color: #FFFFFF;\">it</span> <span style=\"background-color: #FFFFFF;\">s</span> <span style=\"background-color: #FFFFFF;\">what</span> <span style=\"background-color: #FFFFFF;\">my</span> <span style=\"background-color: #FFFFFF;\">friends</span> <span style=\"background-color: #FFFFFF;\">have</span> <span style=\"background-color: #FFFFFF;\">i</span> <span style=\"background-color: #FFFFFF;\">will</span> <span style=\"background-color: #FFFFFF;\">most</span> <span style=\"background-color: #FFFFFF;\">likely</span> <span style=\"background-color: #FFFFFF;\">be</span> <span style=\"background-color: #FFFFFF;\">having</span> <span style=\"background-color: #FFFFFF;\">another</span> <span style=\"background-color: #6DB5F5;\">very</span> <span style=\"background-color: #FFFFFF;\">soon</span> <span style=\"background-color: #FFFFFF;\"></span> <span style=\"background-color: #FFFFFF;\">&lt;PAD&gt;</span></p>\n",
       "        </div>\n",
       "        \n",
       "    </div>\n",
       "    "
      ]
     },
     "metadata": {},
     "output_type": "display_data"
    }
   ],
   "source": [
    "expl_valid[9999].visualize_in_notebook()"
   ]
  },
  {
   "cell_type": "code",
   "execution_count": null,
   "metadata": {
    "id": "714cqvIY2Try",
    "outputId": "411a8ae8-e08d-41ab-b6d9-dace75401757"
   },
   "outputs": [
    {
     "data": {
      "text/html": [
       "\n",
       "    <div>\n",
       "        <p style=\"text-align: center\">\n",
       "            Text\n",
       "        </p>\n",
       "        <div style=\"border: 1px solid black;\">\n",
       "            <p style=\"font-size:14px;; margin-left: 1%; margin-right: 1%;\"><span style=\"background-color: #6DB5F5;\">&lt;START&gt;</span> <span style=\"background-color: #6DB5F5;\">pale</span> <span style=\"background-color: #6DB5F5;\">gold</span> <span style=\"background-color: #6DB5F5;\">with</span> <span style=\"background-color: #6DB5F5;\">a</span> <span style=\"background-color: #6DB5F5;\">thin</span> <span style=\"background-color: #6DB5F5;\">film</span> <span style=\"background-color: #6DB5F5;\">around</span> <span style=\"background-color: #6DB5F5;\">the</span> <span style=\"background-color: #6DB5F5;\">edge</span> <span style=\"background-color: #6DB5F5;\">some</span> <span style=\"background-color: #6DB5F5;\">lacing</span> <span style=\"background-color: #6DB5F5;\">looks</span> <span style=\"background-color: #6DB5F5;\">very</span> <span style=\"background-color: #6DB5F5;\">flat</span> <span style=\"background-color: #6DB5F5;\">and</span> <span style=\"background-color: #6DB5F5;\">insipid</span> <span style=\"background-color: #FFFFFF;\">no</span> <span style=\"background-color: #FFFFFF;\">carbonation</span> <span style=\"background-color: #FFFFFF;\">i</span> <span style=\"background-color: #FFFFFF;\">do</span> <span style=\"background-color: #FFFFFF;\">n</span> <span style=\"background-color: #FFFFFF;\">t</span> <span style=\"background-color: #FFFFFF;\">hold</span> <span style=\"background-color: #FFFFFF;\">out</span> <span style=\"background-color: #6DB5F5;\">much</span> <span style=\"background-color: #6DB5F5;\">hope</span> <span style=\"background-color: #FFFFFF;\">very</span> <span style=\"background-color: #FFFFFF;\">unpleasant</span> <span style=\"background-color: #FFFFFF;\">sticky</span> <span style=\"background-color: #FFFFFF;\">rice</span> <span style=\"background-color: #FFFFFF;\">nose</span> <span style=\"background-color: #FFFFFF;\">lots</span> <span style=\"background-color: #FFFFFF;\">of</span> <span style=\"background-color: #FFFFFF;\">nothingness</span> <span style=\"background-color: #FFFFFF;\">as</span> <span style=\"background-color: #FFFFFF;\">well</span> <span style=\"background-color: #FFFFFF;\">sweet</span> <span style=\"background-color: #FFFFFF;\">with</span> <span style=\"background-color: #FFFFFF;\">a</span> <span style=\"background-color: #FFFFFF;\">very</span> <span style=\"background-color: #6DB5F5;\">light</span> <span style=\"background-color: #FFFFFF;\">sickly</span> <span style=\"background-color: #FFFFFF;\">note</span> <span style=\"background-color: #FFFFFF;\">but</span> <span style=\"background-color: #FFFFFF;\">do</span> <span style=\"background-color: #FFFFFF;\">n</span> <span style=\"background-color: #FFFFFF;\">t</span> <span style=\"background-color: #FFFFFF;\">get</span> <span style=\"background-color: #FFFFFF;\">me</span> <span style=\"background-color: #FFFFFF;\">wrong</span> <span style=\"background-color: #FFFFFF;\">it</span> <span style=\"background-color: #FFFFFF;\">s</span> <span style=\"background-color: #FFFFFF;\">incredibly</span> <span style=\"background-color: #FFFFFF;\">bland</span> <span style=\"background-color: #FFFFFF;\">blech</span> <span style=\"background-color: #FFFFFF;\">thin</span> <span style=\"background-color: #FFFFFF;\">but</span> <span style=\"background-color: #FFFFFF;\">fortunately</span> <span style=\"background-color: #FFFFFF;\">not</span> <span style=\"background-color: #FFFFFF;\">overly</span> <span style=\"background-color: #FFFFFF;\">sweet</span> <span style=\"background-color: #FFFFFF;\">on</span> <span style=\"background-color: #FFFFFF;\">the</span> <span style=\"background-color: #FFFFFF;\">palate</span> <span style=\"background-color: #FFFFFF;\">quite</span> <span style=\"background-color: #FFFFFF;\">clean</span> <span style=\"background-color: #FFFFFF;\">and</span> <span style=\"background-color: #FFFFFF;\">dry</span> <span style=\"background-color: #FFFFFF;\">with</span> <span style=\"background-color: #FFFFFF;\">a</span> <span style=\"background-color: #FFFFFF;\">light</span> <span style=\"background-color: #FFFFFF;\">lingering</span> <span style=\"background-color: #FFFFFF;\">bitterness</span> <span style=\"background-color: #FFFFFF;\">mouthfeel</span> <span style=\"background-color: #FFFFFF;\">is</span> <span style=\"background-color: #FFFFFF;\">quite</span> <span style=\"background-color: #FFFFFF;\">crisp</span> <span style=\"background-color: #FFFFFF;\">which</span> <span style=\"background-color: #FFFFFF;\">is</span> <span style=\"background-color: #FFFFFF;\">a</span> <span style=\"background-color: #FFFFFF;\">blessing</span> <span style=\"background-color: #FFFFFF;\">no</span> <span style=\"background-color: #FFFFFF;\">it</span> <span style=\"background-color: #FFFFFF;\">s</span> <span style=\"background-color: #FFFFFF;\">not</span> <span style=\"background-color: #FFFFFF;\">great</span> <span style=\"background-color: #FFFFFF;\">but</span> <span style=\"background-color: #FFFFFF;\">i</span> <span style=\"background-color: #FFFFFF;\">was</span> <span style=\"background-color: #FFFFFF;\">expecting</span> <span style=\"background-color: #FFFFFF;\">a</span> <span style=\"background-color: #FFFFFF;\">lot</span> <span style=\"background-color: #FFFFFF;\">lot</span> <span style=\"background-color: #FFFFFF;\">worse</span> <span style=\"background-color: #FFFFFF;\">it</span> <span style=\"background-color: #FFFFFF;\">s</span> <span style=\"background-color: #FFFFFF;\">really</span> <span style=\"background-color: #FFFFFF;\">not</span> <span style=\"background-color: #FFFFFF;\">that</span> <span style=\"background-color: #FFFFFF;\">bad</span> <span style=\"background-color: #FFFFFF;\">when</span> <span style=\"background-color: #FFFFFF;\">you</span> <span style=\"background-color: #FFFFFF;\">get</span> <span style=\"background-color: #FFFFFF;\">down</span> <span style=\"background-color: #FFFFFF;\">to</span> <span style=\"background-color: #FFFFFF;\">it</span> <span style=\"background-color: #FFFFFF;\">it</span> <span style=\"background-color: #FFFFFF;\">s</span> <span style=\"background-color: #FFFFFF;\">not</span> <span style=\"background-color: #FFFFFF;\">amazing</span> <span style=\"background-color: #FFFFFF;\">but</span> <span style=\"background-color: #FFFFFF;\">it</span> <span style=\"background-color: #FFFFFF;\">s</span> <span style=\"background-color: #FFFFFF;\">pretty</span> <span style=\"background-color: #FFFFFF;\">clean</span> <span style=\"background-color: #FFFFFF;\">and</span> <span style=\"background-color: #FFFFFF;\">light</span> <span style=\"background-color: #FFFFFF;\">i</span> <span style=\"background-color: #FFFFFF;\">guess</span> <span style=\"background-color: #FFFFFF;\">i</span> <span style=\"background-color: #FFFFFF;\">m</span> <span style=\"background-color: #FFFFFF;\">just</span> <span style=\"background-color: #FFFFFF;\">pleased</span> <span style=\"background-color: #FFFFFF;\">it</span> <span style=\"background-color: #FFFFFF;\">does</span> <span style=\"background-color: #FFFFFF;\">n</span> <span style=\"background-color: #FFFFFF;\">t</span> <span style=\"background-color: #FFFFFF;\">have</span> <span style=\"background-color: #FFFFFF;\">the</span> <span style=\"background-color: #FFFFFF;\">sweet</span> <span style=\"background-color: #FFFFFF;\">sickly</span> <span style=\"background-color: #FFFFFF;\">character</span> <span style=\"background-color: #FFFFFF;\">promised</span> <span style=\"background-color: #FFFFFF;\">on</span> <span style=\"background-color: #FFFFFF;\">the</span> <span style=\"background-color: #FFFFFF;\">nose</span> <span style=\"background-color: #FFFFFF;\"></span> <span style=\"background-color: #FFFFFF;\">&lt;PAD&gt;</span></p>\n",
       "        </div>\n",
       "        \n",
       "    </div>\n",
       "    "
      ]
     },
     "metadata": {},
     "output_type": "display_data"
    }
   ],
   "source": [
    "expl_valid[7676].visualize_in_notebook()"
   ]
  },
  {
   "cell_type": "code",
   "execution_count": null,
   "metadata": {
    "id": "l6oOKXzd2Try",
    "outputId": "86614055-65a4-47c7-9870-7ce33a433dc6"
   },
   "outputs": [
    {
     "data": {
      "text/html": [
       "\n",
       "    <div>\n",
       "        <p style=\"text-align: center\">\n",
       "            Text\n",
       "        </p>\n",
       "        <div style=\"border: 1px solid black;\">\n",
       "            <p style=\"font-size:14px;; margin-left: 1%; margin-right: 1%;\"><span style=\"background-color: #FFFFFF;\">&lt;START&gt;</span> <span style=\"background-color: #FFFFFF;\">i</span> <span style=\"background-color: #FFFFFF;\">was</span> <span style=\"background-color: #FFFFFF;\">actually</span> <span style=\"background-color: #FFFFFF;\">a</span> <span style=\"background-color: #FFFFFF;\">little</span> <span style=\"background-color: #FFFFFF;\">surprised</span> <span style=\"background-color: #FFFFFF;\">by</span> <span style=\"background-color: #FFFFFF;\">this</span> <span style=\"background-color: #FFFFFF;\">one</span> <span style=\"background-color: #FFFFFF;\">surprised</span> <span style=\"background-color: #FFFFFF;\">it</span> <span style=\"background-color: #FFFFFF;\">was</span> <span style=\"background-color: #FFFFFF;\">not</span> <span style=\"background-color: #FFFFFF;\">vile</span> <span style=\"background-color: #6DB5F5;\">pours</span> <span style=\"background-color: #6DB5F5;\">a</span> <span style=\"background-color: #6DB5F5;\">clear</span> <span style=\"background-color: #6DB5F5;\">gold</span> <span style=\"background-color: #6DB5F5;\">color</span> <span style=\"background-color: #6DB5F5;\">with</span> <span style=\"background-color: #6DB5F5;\">a</span> <span style=\"background-color: #6DB5F5;\">thin</span> <span style=\"background-color: #6DB5F5;\">white</span> <span style=\"background-color: #6DB5F5;\">head</span> <span style=\"background-color: #6DB5F5;\">no</span> <span style=\"background-color: #6DB5F5;\">real</span> <span style=\"background-color: #6DB5F5;\">lacing</span> <span style=\"background-color: #6DB5F5;\">to</span> <span style=\"background-color: #6DB5F5;\">speak</span> <span style=\"background-color: #FFFFFF;\">of</span> <span style=\"background-color: #FFFFFF;\">and</span> <span style=\"background-color: #6DB5F5;\">the</span> <span style=\"background-color: #6DB5F5;\">head</span> <span style=\"background-color: #6DB5F5;\">was</span> <span style=\"background-color: #6DB5F5;\">short</span> <span style=\"background-color: #6DB5F5;\">lived</span> <span style=\"background-color: #FFFFFF;\">the</span> <span style=\"background-color: #FFFFFF;\">aroma</span> <span style=\"background-color: #FFFFFF;\">is</span> <span style=\"background-color: #FFFFFF;\">lightly</span> <span style=\"background-color: #FFFFFF;\">sweet</span> <span style=\"background-color: #FFFFFF;\">which</span> <span style=\"background-color: #FFFFFF;\">was</span> <span style=\"background-color: #FFFFFF;\">another</span> <span style=\"background-color: #FFFFFF;\">surprise</span> <span style=\"background-color: #FFFFFF;\">light</span> <span style=\"background-color: #FFFFFF;\">bodied</span> <span style=\"background-color: #FFFFFF;\">with</span> <span style=\"background-color: #FFFFFF;\">a</span> <span style=\"background-color: #FFFFFF;\">barely</span> <span style=\"background-color: #FFFFFF;\">average</span> <span style=\"background-color: #FFFFFF;\">hops</span> <span style=\"background-color: #FFFFFF;\">flavor</span> <span style=\"background-color: #FFFFFF;\">the</span> <span style=\"background-color: #FFFFFF;\">finish</span> <span style=\"background-color: #FFFFFF;\">is</span> <span style=\"background-color: #FFFFFF;\">a</span> <span style=\"background-color: #FFFFFF;\">little</span> <span style=\"background-color: #FFFFFF;\">sweet</span> <span style=\"background-color: #FFFFFF;\">and</span> <span style=\"background-color: #FFFFFF;\">a</span> <span style=\"background-color: #FFFFFF;\">little</span> <span style=\"background-color: #FFFFFF;\">fruity</span> <span style=\"background-color: #FFFFFF;\">this</span> <span style=\"background-color: #FFFFFF;\">is</span> <span style=\"background-color: #FFFFFF;\">n</span> <span style=\"background-color: #FFFFFF;\">t</span> <span style=\"background-color: #FFFFFF;\">a</span> <span style=\"background-color: #FFFFFF;\">beer</span> <span style=\"background-color: #FFFFFF;\">i</span> <span style=\"background-color: #FFFFFF;\">would</span> <span style=\"background-color: #FFFFFF;\">seek</span> <span style=\"background-color: #FFFFFF;\">out</span> <span style=\"background-color: #FFFFFF;\">again</span> <span style=\"background-color: #FFFFFF;\">but</span> <span style=\"background-color: #FFFFFF;\">i</span> <span style=\"background-color: #FFFFFF;\">would</span> <span style=\"background-color: #FFFFFF;\">drink</span> <span style=\"background-color: #FFFFFF;\">it</span> <span style=\"background-color: #FFFFFF;\">in</span> <span style=\"background-color: #FFFFFF;\">korea</span> <span style=\"background-color: #FFFFFF;\">over</span> <span style=\"background-color: #FFFFFF;\">a</span> <span style=\"background-color: #FFFFFF;\">bud</span> <span style=\"background-color: #FFFFFF;\"></span> <span style=\"background-color: #FFFFFF;\">&lt;PAD&gt;</span></p>\n",
       "        </div>\n",
       "        \n",
       "    </div>\n",
       "    "
      ]
     },
     "metadata": {},
     "output_type": "display_data"
    }
   ],
   "source": [
    "expl_valid[6767].visualize_in_notebook()"
   ]
  },
  {
   "cell_type": "code",
   "execution_count": null,
   "metadata": {
    "id": "b2ZvmgYf2Try",
    "outputId": "bb4eb100-88c3-4bbd-cfa7-6e97b9582c80"
   },
   "outputs": [
    {
     "data": {
      "text/html": [
       "\n",
       "    <div>\n",
       "        <p style=\"text-align: center\">\n",
       "            Text\n",
       "        </p>\n",
       "        <div style=\"border: 1px solid black;\">\n",
       "            <p style=\"font-size:14px;; margin-left: 1%; margin-right: 1%;\"><span style=\"background-color: #FFFFFF;\">&lt;START&gt;</span> <span style=\"background-color: #FFFFFF;\">pours</span> <span style=\"background-color: #6DB5F5;\">a</span> <span style=\"background-color: #6DB5F5;\">clear</span> <span style=\"background-color: #6DB5F5;\">deep</span> <span style=\"background-color: #6DB5F5;\">red</span> <span style=\"background-color: #6DB5F5;\">brown</span> <span style=\"background-color: #6DB5F5;\">with</span> <span style=\"background-color: #6DB5F5;\">a</span> <span style=\"background-color: #6DB5F5;\">big</span> <span style=\"background-color: #6DB5F5;\">white</span> <span style=\"background-color: #6DB5F5;\">head</span> <span style=\"background-color: #6DB5F5;\">malty</span> <span style=\"background-color: #6DB5F5;\">sweet</span> <span style=\"background-color: #FFFFFF;\">no</span> <span style=\"background-color: #FFFFFF;\">major</span> <span style=\"background-color: #FFFFFF;\">flavors</span> <span style=\"background-color: #FFFFFF;\">stand</span> <span style=\"background-color: #FFFFFF;\">out</span> <span style=\"background-color: #FFFFFF;\">though</span> <span style=\"background-color: #FFFFFF;\">it</span> <span style=\"background-color: #FFFFFF;\">is</span> <span style=\"background-color: #FFFFFF;\">slightly</span> <span style=\"background-color: #FFFFFF;\">toasty</span> <span style=\"background-color: #FFFFFF;\">hops</span> <span style=\"background-color: #FFFFFF;\">are</span> <span style=\"background-color: #FFFFFF;\">clean</span> <span style=\"background-color: #FFFFFF;\">and</span> <span style=\"background-color: #FFFFFF;\">mellow</span> <span style=\"background-color: #FFFFFF;\">they</span> <span style=\"background-color: #FFFFFF;\">only</span> <span style=\"background-color: #FFFFFF;\">come</span> <span style=\"background-color: #FFFFFF;\">in</span> <span style=\"background-color: #FFFFFF;\">near</span> <span style=\"background-color: #FFFFFF;\">the</span> <span style=\"background-color: #FFFFFF;\">end</span> <span style=\"background-color: #FFFFFF;\">and</span> <span style=\"background-color: #FFFFFF;\">help</span> <span style=\"background-color: #FFFFFF;\">to</span> <span style=\"background-color: #FFFFFF;\">balance</span> <span style=\"background-color: #FFFFFF;\">the</span> <span style=\"background-color: #FFFFFF;\">beer</span> <span style=\"background-color: #FFFFFF;\">this</span> <span style=\"background-color: #FFFFFF;\">is</span> <span style=\"background-color: #6DB5F5;\">a</span> <span style=\"background-color: #6DB5F5;\">solid</span> <span style=\"background-color: #6DB5F5;\">simple</span> <span style=\"background-color: #6DB5F5;\">brown</span> <span style=\"background-color: #FFFFFF;\">it</span> <span style=\"background-color: #FFFFFF;\">s</span> <span style=\"background-color: #FFFFFF;\">so</span> <span style=\"background-color: #FFFFFF;\">great</span> <span style=\"background-color: #FFFFFF;\">to</span> <span style=\"background-color: #FFFFFF;\">finally</span> <span style=\"background-color: #FFFFFF;\">see</span> <span style=\"background-color: #FFFFFF;\">organic</span> <span style=\"background-color: #FFFFFF;\">beer</span> <span style=\"background-color: #FFFFFF;\">in</span> <span style=\"background-color: #6DB5F5;\">the</span> <span style=\"background-color: #6DB5F5;\">store</span> <span style=\"background-color: #6DB5F5;\"></span> <span style=\"background-color: #6DB5F5;\">&lt;PAD&gt;</span></p>\n",
       "        </div>\n",
       "        \n",
       "    </div>\n",
       "    "
      ]
     },
     "metadata": {},
     "output_type": "display_data"
    }
   ],
   "source": [
    "expl_valid[3131].visualize_in_notebook()"
   ]
  }
 ],
 "metadata": {
  "colab": {
   "provenance": []
  },
  "kernelspec": {
   "display_name": "Python 3 (ipykernel)",
   "language": "python",
   "name": "python3"
  },
  "language_info": {
   "codemirror_mode": {
    "name": "ipython",
    "version": 3
   },
   "file_extension": ".py",
   "mimetype": "text/x-python",
   "name": "python",
   "nbconvert_exporter": "python",
   "pygments_lexer": "ipython3",
   "version": "3.11.0"
  }
 },
 "nbformat": 4,
 "nbformat_minor": 1
}
